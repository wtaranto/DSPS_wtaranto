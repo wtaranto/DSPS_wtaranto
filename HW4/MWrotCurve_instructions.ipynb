{
  "cells": [
    {
      "cell_type": "markdown",
      "metadata": {
        "colab_type": "text",
        "id": "view-in-github"
      },
      "source": [
        "<a href=\"https://colab.research.google.com/github/fedhere/DSPS_FBianco/blob/main/HW4/MWrotCurve_instructions.ipynb\" target=\"_parent\"><img src=\"https://colab.research.google.com/assets/colab-badge.svg\" alt=\"Open In Colab\"/></a>"
      ]
    },
    {
      "cell_type": "markdown",
      "metadata": {
        "id": "rxa6Xa3jOdCI",
        "run_control": {
          "frozen": false,
          "read_only": false
        }
      },
      "source": [
        "prepared by federica b bianco @fedhere\n",
        "for UDel DSPS PHYS 461/661\n",
        "\n",
        "# testing the \"significance\" of Dark Matter"
      ]
    },
    {
      "cell_type": "code",
      "execution_count": 1,
      "metadata": {
        "ExecuteTime": {
          "end_time": "2019-09-16T17:54:57.244596Z",
          "start_time": "2019-09-16T17:54:57.231090Z"
        },
        "id": "Ya2RaOGbOdCJ",
        "run_control": {
          "frozen": false,
          "read_only": false
        }
      },
      "outputs": [],
      "source": [
        "import pandas as pd\n",
        "import numpy as np\n",
        "import matplotlib.pyplot as plt\n",
        "\n",
        "from astropy import units as u\n",
        "#package I will use for constants and units conversion\n",
        "import astropy\n",
        "from astropy.constants import G\n",
        "\n",
        "#package used to display latex formuale\n",
        "from IPython.display import Latex\n",
        "\n"
      ]
    },
    {
      "cell_type": "markdown",
      "metadata": {
        "id": "4qp8A2TG1Gwb"
      },
      "source": [
        "In 1970 Vera Rubin published a seminal paper: she measured the rotational speed of HII regions in several galaxies and how it changed as a function of distance to the center of the galaxy. If we believe Newtonian gravity (or GR for that matter) we expect that _once all of the mass is included_, i.e. at a radius distance from the center of the galaxy larger than the radius of the galaxy itself, the rotational speed will be proportional to $v^2\\propto\\frac{1}{r}$\n",
        "\n",
        "You will use astropy in this exercise, a popular and powerfull package for astrophysical analysis in python. One of the most interesting and unique characteristics of astropy is that it allows treatment of units. When you have a quantity (say `x=3`) in python you can express it with the appropriate units (say meters) as `x=3 * u.meter`"
      ]
    },
    {
      "cell_type": "code",
      "execution_count": 2,
      "metadata": {
        "colab": {
          "base_uri": "https://localhost:8080/"
        },
        "id": "hxiNEw-B_1IS",
        "outputId": "c5e79631-2cef-4da2-ca48-f7956ebc18f6"
      },
      "outputs": [
        {
          "data": {
            "text/plain": [
              "3"
            ]
          },
          "execution_count": 2,
          "metadata": {},
          "output_type": "execute_result"
        }
      ],
      "source": [
        "#example\n",
        "x = 3\n",
        "x"
      ]
    },
    {
      "cell_type": "code",
      "execution_count": 3,
      "metadata": {
        "colab": {
          "base_uri": "https://localhost:8080/",
          "height": 37
        },
        "id": "UEyApnDPAH0s",
        "outputId": "bd24ab80-1b1c-4a43-82c9-f0ccad8eb241"
      },
      "outputs": [
        {
          "data": {
            "text/latex": [
              "$3 \\; \\mathrm{m}$"
            ],
            "text/plain": [
              "<Quantity 3. m>"
            ]
          },
          "execution_count": 3,
          "metadata": {},
          "output_type": "execute_result"
        }
      ],
      "source": [
        "x_in_m = x * u.meter\n",
        "x_in_m"
      ]
    },
    {
      "cell_type": "markdown",
      "metadata": {
        "id": "Q4E5uRybAcjF"
      },
      "source": [
        "once the quantities have units they can be converted with astropy methods: e.g."
      ]
    },
    {
      "cell_type": "code",
      "execution_count": 4,
      "metadata": {
        "colab": {
          "base_uri": "https://localhost:8080/",
          "height": 37
        },
        "id": "e0V9u5kRAgML",
        "outputId": "86a6a3bf-5135-43e3-f12c-3c322cdd5523"
      },
      "outputs": [
        {
          "data": {
            "text/latex": [
              "$0.003 \\; \\mathrm{km}$"
            ],
            "text/plain": [
              "<Quantity 0.003 km>"
            ]
          },
          "execution_count": 4,
          "metadata": {},
          "output_type": "execute_result"
        }
      ],
      "source": [
        "x_in_km = x_in_m.to(u.kilometer)\n",
        "x_in_km"
      ]
    },
    {
      "cell_type": "markdown",
      "metadata": {
        "id": "j-BDrNseOdCR",
        "run_control": {
          "frozen": false,
          "read_only": false
        }
      },
      "source": [
        "## Propagation of  uncertainties rules\n",
        "\n",
        "below are the basic rules for propagation of uncertainties - use [this as reference](https://github.com/fedhere/DSPS/blob/master/resources/Managing%20Errors%20and%20Uncertainty.pdf)"
      ]
    },
    {
      "cell_type": "markdown",
      "metadata": {
        "id": "iCrFipBzOzqp"
      },
      "source": [
        "\n",
        "$$\n",
        "\\begin{eqnarray}\n",
        "z = x  \\pm y  ~| & ~  &dz = \\sqrt{dx^2 + dy^2}\n",
        "\\\\\n",
        "z = x * y  ~| & ~& dz = |xy|  \\sqrt{\\left(\\frac{dx}{x}\\right)^2 +\n",
        "                                \\left(\\frac{dy}{y}\\right)^2} \\\\\n",
        "z = x / y  ~| & ~& dz = \\left|\\frac{x}{y}\\right| \\sqrt{\\left(\\frac{dx}{x}\\right)^2 +\n",
        "                                                   \\left(\\frac{dy}{y}\\right)^2} \\\\\n",
        "z = x^n ~| & ~& dz = |n| ~ x^{n-1}  dx \\\\\n",
        "z = \\mathrm{c}x ~| & ~& dz = |\\mathrm{c}| ~dx \\\\\n",
        "z = f(x, y) ~| & ~& dz = \\sqrt{\\left(\\frac{\\partial f}{\\partial x}\\right)^2 dx^2 +\\left(\\frac{\\partial f}{\\partial y}\\right)^2 dy^2} \\\\\n",
        "\\end{eqnarray}\n",
        "$$\n"
      ]
    },
    {
      "cell_type": "markdown",
      "metadata": {
        "id": "WcF0zlWCOdCX",
        "run_control": {
          "frozen": false,
          "read_only": false
        }
      },
      "source": [
        "# let's assume a Newtonian framework:\n",
        "the velocity of a body in orbit depends only on the gravitational field of the mass that attracts it, and we can assume that mass is concentrated in the center of mass  (the geometric center for simplicity) of the system\n",
        "\n",
        "with G the gravitational constant, $r$ the radius, and $m(r)$ the mass contained within that radius we have the orbital velocity $v$:\n"
      ]
    },
    {
      "cell_type": "markdown",
      "metadata": {
        "id": "ZON0DKl5Qm2S"
      },
      "source": [
        "\n",
        "$v^2 = \\frac{G \\cdot m(r)}{r}$\n"
      ]
    },
    {
      "cell_type": "markdown",
      "metadata": {
        "id": "lVfy9lJ21xMT"
      },
      "source": [
        "Assignment: Derive this $v^2 \\propto\\frac{1}{r}$ at different distances from the center of the Galaxy for M31 and the Milky Way from Newron's law $F~=~\\frac{GMm}{r^2}$.\n",
        "\n",
        "Write each formula you use and describe each step in text cells within this notebook.\n",
        "\n",
        "You can use latex to write the formulate(you really just need to know ```\\frac{}``` for the fractions and ```^``` for the powers) and this reference\n",
        "https://www.physicsclassroom.com/calcpad/circgrav"
      ]
    },
    {
      "cell_type": "markdown",
      "metadata": {},
      "source": [
        "With $\\vec{r}$ being the position vector in polar coordinates $(\\rho, \\theta)$, then $\\dot{\\vec{r}} = \\rho \\dot{\\theta}\\hat{\\theta}$ with $\\dot{\\rho}=0$ and $\\dot{\\theta}$ constant for stable circular motion.\n",
        "\\begin{align}\n",
        "    \\ddot{\\vec{r}} &= \\frac{d}{dt} \\rho \\dot{\\theta} \\hat{\\theta} & \\\\\n",
        "                   &= \\rho \\dot{\\theta} \\frac{d}{dt} \\hat{\\theta} & \\text{constant tangential velocity} \\\\\n",
        "                   &= \\rho \\dot{\\theta} (-\\dot{\\theta} \\hat{\\rho}) & \\frac{d}{dt}\\hat{\\theta} = - \\dot{\\theta}\\hat{\\rho} \\\\\n",
        "                   &= -\\rho \\dot{\\theta}^2 \\hat{\\rho} & \\\\\n",
        "    \\vec{a}        &= -\\frac{v^2}{\\rho} \\hat{\\rho} & \\dot{\\theta} = \\frac{v}{\\rho}\n",
        "\\end{align}\n",
        "Now we can use Newton's law of universal gravitation along with Newton's second law to arrive at an equation for a mass $M$ in the galaxy:\n",
        "\\begin{align}\n",
        "    \\vec{F} &= M\\vec{a} & \\\\\n",
        "    -\\frac{GMm(\\rho)}{\\rho^2}\\hat{\\rho} &= M (-\\frac{v^2}{\\rho} \\hat{\\rho}) & \\text{substitution and newton's shell theorem} \\\\\n",
        "    \\frac{gm(\\rho)}{\\rho} &= v^2  & \\\\\n",
        "    v^2 &\\propto \\frac{m(r)}{r} & \\text{using $r$ instead of $\\rho$}\n",
        "\\end{align}\n"
      ]
    },
    {
      "cell_type": "markdown",
      "metadata": {},
      "source": [
        "Is M constant as r increases? If not, isn't this all invalid?"
      ]
    },
    {
      "cell_type": "markdown",
      "metadata": {
        "id": "KQAEJtWuOdCb",
        "run_control": {
          "frozen": false,
          "read_only": false
        }
      },
      "source": [
        "## M31 rotational curve"
      ]
    },
    {
      "cell_type": "markdown",
      "metadata": {
        "ExecuteTime": {
          "end_time": "2019-08-02T01:34:15.029084Z",
          "start_time": "2019-08-02T01:34:15.026604Z"
        },
        "id": "BTaXzFYeOdCc",
        "run_control": {
          "frozen": false,
          "read_only": false
        }
      },
      "source": [
        "### data ingestion\n",
        "Orignal data in https://academic.oup.com/pasj/article-abstract/67/4/75/1536635?redirectedFrom=fulltext&login=false but I converted it to csv already for you\n",
        "\n",
        "Get the data from the github repository https://github.com/fedhere/DSPS_FBianco/tree/master/HW4 : there are 2 files: mw.csv for the Millky Way and m31.csv for M31,the Andromeda galaxy. Start with M31,  Vera Rubin's original target."
      ]
    },
    {
      "cell_type": "markdown",
      "metadata": {
        "id": "_iFrkUYEV1SS"
      },
      "source": [
        "Note that the data contains 2 types of uncertainties: one significantly smaller than the other. The ```dv``` uncertainty derived by propagating the uncertainty in the measured  wavelength of the HII line. The uncertainty called ```err``` is the remaining error budget. To include all sources combine in quadrature the uncertiainties `dv` and `err` and call that `err_tot` including _all_ sources of uncertainty and not just the uncertainty in measuring the location of the line. Retain both, you will test your hypothesis with each one to see if it matters which uncertainty you choose"
      ]
    },
    {
      "cell_type": "code",
      "execution_count": 5,
      "metadata": {
        "ExecuteTime": {
          "end_time": "2019-08-02T01:34:33.446619Z",
          "start_time": "2019-08-02T01:34:33.435793Z"
        },
        "id": "eZ7nr5DROdCd",
        "run_control": {
          "frozen": false,
          "read_only": false
        }
      },
      "outputs": [],
      "source": [
        "m31 = pd.read_csv('https://raw.githubusercontent.com/fedhere/DSPS_FBianco/refs/heads/main/HW4/m31.csv')"
      ]
    },
    {
      "cell_type": "code",
      "execution_count": 6,
      "metadata": {
        "colab": {
          "base_uri": "https://localhost:8080/",
          "height": 206
        },
        "id": "luL5UrsNQ1M1",
        "outputId": "ef0d06fa-9866-4d2a-d486-85795499d728"
      },
      "outputs": [
        {
          "data": {
            "text/html": [
              "<div>\n",
              "<style scoped>\n",
              "    .dataframe tbody tr th:only-of-type {\n",
              "        vertical-align: middle;\n",
              "    }\n",
              "\n",
              "    .dataframe tbody tr th {\n",
              "        vertical-align: top;\n",
              "    }\n",
              "\n",
              "    .dataframe thead th {\n",
              "        text-align: right;\n",
              "    }\n",
              "</style>\n",
              "<table border=\"1\" class=\"dataframe\">\n",
              "  <thead>\n",
              "    <tr style=\"text-align: right;\">\n",
              "      <th></th>\n",
              "      <th>#M31</th>\n",
              "      <th>Grand</th>\n",
              "      <th>Rotation</th>\n",
              "      <th>Curve</th>\n",
              "    </tr>\n",
              "  </thead>\n",
              "  <tbody>\n",
              "    <tr>\n",
              "      <th>0</th>\n",
              "      <td>#R(kpc</td>\n",
              "      <td>V(km/s)</td>\n",
              "      <td>St.dev.</td>\n",
              "      <td>St.error</td>\n",
              "    </tr>\n",
              "    <tr>\n",
              "      <th>1</th>\n",
              "      <td>0.100</td>\n",
              "      <td>183.939</td>\n",
              "      <td>0.000</td>\n",
              "      <td>0.000</td>\n",
              "    </tr>\n",
              "    <tr>\n",
              "      <th>2</th>\n",
              "      <td>0.120</td>\n",
              "      <td>190.710</td>\n",
              "      <td>10.265</td>\n",
              "      <td>12.191</td>\n",
              "    </tr>\n",
              "    <tr>\n",
              "      <th>3</th>\n",
              "      <td>0.144</td>\n",
              "      <td>204.141</td>\n",
              "      <td>22.634</td>\n",
              "      <td>21.808</td>\n",
              "    </tr>\n",
              "    <tr>\n",
              "      <th>4</th>\n",
              "      <td>0.173</td>\n",
              "      <td>207.601</td>\n",
              "      <td>4.573</td>\n",
              "      <td>4.200</td>\n",
              "    </tr>\n",
              "  </tbody>\n",
              "</table>\n",
              "</div>"
            ],
            "text/plain": [
              "     #M31    Grand Rotation     Curve\n",
              "0  #R(kpc  V(km/s)  St.dev.  St.error\n",
              "1   0.100  183.939    0.000     0.000\n",
              "2   0.120  190.710   10.265    12.191\n",
              "3   0.144  204.141   22.634    21.808\n",
              "4   0.173  207.601    4.573     4.200"
            ]
          },
          "execution_count": 6,
          "metadata": {},
          "output_type": "execute_result"
        }
      ],
      "source": [
        "m31.head()"
      ]
    },
    {
      "cell_type": "code",
      "execution_count": 7,
      "metadata": {},
      "outputs": [],
      "source": [
        "#remove the units row\n",
        "m31_units = m31.iloc[0]\n",
        "m31 = m31.loc[1:]\n",
        "\n",
        "#create correctly typed columns with better names\n",
        "m31['rad'] = pd.to_numeric(m31['#M31']).map(lambda x: x * u.kiloparsec)\n",
        "m31['vel'] = pd.to_numeric(m31['Grand']).map(lambda x : x * u.kilometer / u.second)\n",
        "m31['dv']  = pd.to_numeric(m31['Rotation']).map(lambda x : x * u.kilometer / u.second)\n",
        "m31['err'] = pd.to_numeric(m31['Curve']).map(lambda x : x * u.kilometer / u.second)"
      ]
    },
    {
      "cell_type": "code",
      "execution_count": 8,
      "metadata": {},
      "outputs": [
        {
          "data": {
            "text/html": [
              "<div>\n",
              "<style scoped>\n",
              "    .dataframe tbody tr th:only-of-type {\n",
              "        vertical-align: middle;\n",
              "    }\n",
              "\n",
              "    .dataframe tbody tr th {\n",
              "        vertical-align: top;\n",
              "    }\n",
              "\n",
              "    .dataframe thead th {\n",
              "        text-align: right;\n",
              "    }\n",
              "</style>\n",
              "<table border=\"1\" class=\"dataframe\">\n",
              "  <thead>\n",
              "    <tr style=\"text-align: right;\">\n",
              "      <th></th>\n",
              "      <th>#M31</th>\n",
              "      <th>Grand</th>\n",
              "      <th>Rotation</th>\n",
              "      <th>Curve</th>\n",
              "      <th>rad</th>\n",
              "      <th>vel</th>\n",
              "      <th>dv</th>\n",
              "      <th>err</th>\n",
              "      <th>err_tot</th>\n",
              "    </tr>\n",
              "  </thead>\n",
              "  <tbody>\n",
              "    <tr>\n",
              "      <th>1</th>\n",
              "      <td>0.100</td>\n",
              "      <td>183.939</td>\n",
              "      <td>0.000</td>\n",
              "      <td>0.000</td>\n",
              "      <td>0.1 kpc</td>\n",
              "      <td>183.939 km / s</td>\n",
              "      <td>0.0 km / s</td>\n",
              "      <td>0.0 km / s</td>\n",
              "      <td>0.0 km / s</td>\n",
              "    </tr>\n",
              "    <tr>\n",
              "      <th>2</th>\n",
              "      <td>0.120</td>\n",
              "      <td>190.710</td>\n",
              "      <td>10.265</td>\n",
              "      <td>12.191</td>\n",
              "      <td>0.12 kpc</td>\n",
              "      <td>190.71 km / s</td>\n",
              "      <td>10.265 km / s</td>\n",
              "      <td>12.191 km / s</td>\n",
              "      <td>15.937085869129275 km / s</td>\n",
              "    </tr>\n",
              "    <tr>\n",
              "      <th>3</th>\n",
              "      <td>0.144</td>\n",
              "      <td>204.141</td>\n",
              "      <td>22.634</td>\n",
              "      <td>21.808</td>\n",
              "      <td>0.144 kpc</td>\n",
              "      <td>204.141 km / s</td>\n",
              "      <td>22.634 km / s</td>\n",
              "      <td>21.808 km / s</td>\n",
              "      <td>31.4306668717035 km / s</td>\n",
              "    </tr>\n",
              "    <tr>\n",
              "      <th>4</th>\n",
              "      <td>0.173</td>\n",
              "      <td>207.601</td>\n",
              "      <td>4.573</td>\n",
              "      <td>4.200</td>\n",
              "      <td>0.173 kpc</td>\n",
              "      <td>207.601 km / s</td>\n",
              "      <td>4.573 km / s</td>\n",
              "      <td>4.2 km / s</td>\n",
              "      <td>6.209052182096717 km / s</td>\n",
              "    </tr>\n",
              "    <tr>\n",
              "      <th>5</th>\n",
              "      <td>0.207</td>\n",
              "      <td>210.188</td>\n",
              "      <td>3.943</td>\n",
              "      <td>3.258</td>\n",
              "      <td>0.207 kpc</td>\n",
              "      <td>210.188 km / s</td>\n",
              "      <td>3.943 km / s</td>\n",
              "      <td>3.258 km / s</td>\n",
              "      <td>5.1148619727222355 km / s</td>\n",
              "    </tr>\n",
              "  </tbody>\n",
              "</table>\n",
              "</div>"
            ],
            "text/plain": [
              "    #M31    Grand Rotation   Curve        rad             vel             dv  \\\n",
              "1  0.100  183.939    0.000   0.000    0.1 kpc  183.939 km / s     0.0 km / s   \n",
              "2  0.120  190.710   10.265  12.191   0.12 kpc   190.71 km / s  10.265 km / s   \n",
              "3  0.144  204.141   22.634  21.808  0.144 kpc  204.141 km / s  22.634 km / s   \n",
              "4  0.173  207.601    4.573   4.200  0.173 kpc  207.601 km / s   4.573 km / s   \n",
              "5  0.207  210.188    3.943   3.258  0.207 kpc  210.188 km / s   3.943 km / s   \n",
              "\n",
              "             err                    err_tot  \n",
              "1     0.0 km / s                 0.0 km / s  \n",
              "2  12.191 km / s  15.937085869129275 km / s  \n",
              "3  21.808 km / s    31.4306668717035 km / s  \n",
              "4     4.2 km / s   6.209052182096717 km / s  \n",
              "5   3.258 km / s  5.1148619727222355 km / s  "
            ]
          },
          "execution_count": 8,
          "metadata": {},
          "output_type": "execute_result"
        }
      ],
      "source": [
        "m31['err_tot'] = (m31['dv']**2 + m31['err']**2)**0.5\n",
        "m31.head()"
      ]
    },
    {
      "cell_type": "markdown",
      "metadata": {
        "id": "8nZhqbhvP2UC"
      },
      "source": [
        "# exploratory data analysis\n",
        "proceed with at least a few basic exploratory tasks\n",
        "\n",
        "- what is the shape of the dataset?\n",
        "\n",
        "- what are the statistical properties of the dataset? like the mean and variance of each column etc etc? do you remember how to get them with a single python line of code?\n",
        "\n",
        "Look at the mean and the median of each column - what can you say about the distribution based on the comparison of these two numbers?"
      ]
    },
    {
      "cell_type": "code",
      "execution_count": 9,
      "metadata": {
        "ExecuteTime": {
          "end_time": "2019-08-02T01:35:26.395158Z",
          "start_time": "2019-08-02T01:35:26.373338Z"
        },
        "id": "QsNRokb1OdCh",
        "run_control": {
          "frozen": false,
          "read_only": false
        }
      },
      "outputs": [
        {
          "data": {
            "text/plain": [
              "(55, 9)"
            ]
          },
          "execution_count": 9,
          "metadata": {},
          "output_type": "execute_result"
        }
      ],
      "source": [
        "m31.shape"
      ]
    },
    {
      "cell_type": "code",
      "execution_count": 10,
      "metadata": {},
      "outputs": [
        {
          "data": {
            "text/html": [
              "<div>\n",
              "<style scoped>\n",
              "    .dataframe tbody tr th:only-of-type {\n",
              "        vertical-align: middle;\n",
              "    }\n",
              "\n",
              "    .dataframe tbody tr th {\n",
              "        vertical-align: top;\n",
              "    }\n",
              "\n",
              "    .dataframe thead th {\n",
              "        text-align: right;\n",
              "    }\n",
              "</style>\n",
              "<table border=\"1\" class=\"dataframe\">\n",
              "  <thead>\n",
              "    <tr style=\"text-align: right;\">\n",
              "      <th></th>\n",
              "      <th>#M31</th>\n",
              "      <th>Grand</th>\n",
              "      <th>Rotation</th>\n",
              "      <th>Curve</th>\n",
              "      <th>rad</th>\n",
              "      <th>vel</th>\n",
              "      <th>dv</th>\n",
              "      <th>err</th>\n",
              "      <th>err_tot</th>\n",
              "    </tr>\n",
              "  </thead>\n",
              "  <tbody>\n",
              "    <tr>\n",
              "      <th>count</th>\n",
              "      <td>55.000000</td>\n",
              "      <td>55.000000</td>\n",
              "      <td>55.000000</td>\n",
              "      <td>55.000000</td>\n",
              "      <td>55.000000</td>\n",
              "      <td>55.000000</td>\n",
              "      <td>55.000000</td>\n",
              "      <td>55.000000</td>\n",
              "      <td>55.000000</td>\n",
              "    </tr>\n",
              "    <tr>\n",
              "      <th>mean</th>\n",
              "      <td>205.853182</td>\n",
              "      <td>226.079255</td>\n",
              "      <td>55.034818</td>\n",
              "      <td>16.165855</td>\n",
              "      <td>205.853182</td>\n",
              "      <td>226.079255</td>\n",
              "      <td>55.034818</td>\n",
              "      <td>16.165855</td>\n",
              "      <td>57.781110</td>\n",
              "    </tr>\n",
              "    <tr>\n",
              "      <th>std</th>\n",
              "      <td>415.523904</td>\n",
              "      <td>42.799892</td>\n",
              "      <td>49.254792</td>\n",
              "      <td>14.876951</td>\n",
              "      <td>415.523904</td>\n",
              "      <td>42.799892</td>\n",
              "      <td>49.254792</td>\n",
              "      <td>14.876951</td>\n",
              "      <td>50.970282</td>\n",
              "    </tr>\n",
              "    <tr>\n",
              "      <th>min</th>\n",
              "      <td>0.100000</td>\n",
              "      <td>121.974000</td>\n",
              "      <td>0.000000</td>\n",
              "      <td>0.000000</td>\n",
              "      <td>0.100000</td>\n",
              "      <td>121.974000</td>\n",
              "      <td>0.000000</td>\n",
              "      <td>0.000000</td>\n",
              "      <td>0.000000</td>\n",
              "    </tr>\n",
              "    <tr>\n",
              "      <th>25%</th>\n",
              "      <td>1.177000</td>\n",
              "      <td>208.894500</td>\n",
              "      <td>11.945500</td>\n",
              "      <td>3.224000</td>\n",
              "      <td>1.177000</td>\n",
              "      <td>208.894500</td>\n",
              "      <td>11.945500</td>\n",
              "      <td>3.224000</td>\n",
              "      <td>12.956817</td>\n",
              "    </tr>\n",
              "    <tr>\n",
              "      <th>50%</th>\n",
              "      <td>13.737000</td>\n",
              "      <td>229.124000</td>\n",
              "      <td>30.697000</td>\n",
              "      <td>12.065000</td>\n",
              "      <td>13.737000</td>\n",
              "      <td>229.124000</td>\n",
              "      <td>30.697000</td>\n",
              "      <td>12.065000</td>\n",
              "      <td>32.684957</td>\n",
              "    </tr>\n",
              "    <tr>\n",
              "      <th>75%</th>\n",
              "      <td>161.675000</td>\n",
              "      <td>244.102500</td>\n",
              "      <td>99.980000</td>\n",
              "      <td>23.641000</td>\n",
              "      <td>161.675000</td>\n",
              "      <td>244.102500</td>\n",
              "      <td>99.980000</td>\n",
              "      <td>23.641000</td>\n",
              "      <td>107.040605</td>\n",
              "    </tr>\n",
              "    <tr>\n",
              "      <th>max</th>\n",
              "      <td>1887.071000</td>\n",
              "      <td>414.942000</td>\n",
              "      <td>147.835000</td>\n",
              "      <td>54.110000</td>\n",
              "      <td>1887.071000</td>\n",
              "      <td>414.942000</td>\n",
              "      <td>147.835000</td>\n",
              "      <td>54.110000</td>\n",
              "      <td>152.201397</td>\n",
              "    </tr>\n",
              "  </tbody>\n",
              "</table>\n",
              "</div>"
            ],
            "text/plain": [
              "              #M31       Grand    Rotation      Curve          rad  \\\n",
              "count    55.000000   55.000000   55.000000  55.000000    55.000000   \n",
              "mean    205.853182  226.079255   55.034818  16.165855   205.853182   \n",
              "std     415.523904   42.799892   49.254792  14.876951   415.523904   \n",
              "min       0.100000  121.974000    0.000000   0.000000     0.100000   \n",
              "25%       1.177000  208.894500   11.945500   3.224000     1.177000   \n",
              "50%      13.737000  229.124000   30.697000  12.065000    13.737000   \n",
              "75%     161.675000  244.102500   99.980000  23.641000   161.675000   \n",
              "max    1887.071000  414.942000  147.835000  54.110000  1887.071000   \n",
              "\n",
              "              vel          dv        err     err_tot  \n",
              "count   55.000000   55.000000  55.000000   55.000000  \n",
              "mean   226.079255   55.034818  16.165855   57.781110  \n",
              "std     42.799892   49.254792  14.876951   50.970282  \n",
              "min    121.974000    0.000000   0.000000    0.000000  \n",
              "25%    208.894500   11.945500   3.224000   12.956817  \n",
              "50%    229.124000   30.697000  12.065000   32.684957  \n",
              "75%    244.102500   99.980000  23.641000  107.040605  \n",
              "max    414.942000  147.835000  54.110000  152.201397  "
            ]
          },
          "execution_count": 10,
          "metadata": {},
          "output_type": "execute_result"
        }
      ],
      "source": [
        "def my_to_numeric(ent):\n",
        "    if hasattr(ent, 'value'):\n",
        "        return pd.to_numeric(ent.value)\n",
        "    else:\n",
        "        return pd.to_numeric(ent)\n",
        "m31_stats = m31.map(my_to_numeric).describe()\n",
        "m31_stats"
      ]
    },
    {
      "cell_type": "code",
      "execution_count": 11,
      "metadata": {},
      "outputs": [
        {
          "data": {
            "text/plain": [
              "#M31        0.462347\n",
              "Grand      -0.071139\n",
              "Rotation    0.494121\n",
              "Curve       0.275652\n",
              "rad         0.462347\n",
              "vel        -0.071139\n",
              "dv          0.494121\n",
              "err         0.275652\n",
              "err_tot     0.492368\n",
              "dtype: float64"
            ]
          },
          "execution_count": 11,
          "metadata": {},
          "output_type": "execute_result"
        }
      ],
      "source": [
        "(m31_stats.loc['mean'] - m31_stats.loc['50%'])/m31_stats.loc['std']"
      ]
    },
    {
      "cell_type": "code",
      "execution_count": 12,
      "metadata": {},
      "outputs": [
        {
          "data": {
            "text/plain": [
              "#M31        0.495406\n",
              "Grand       5.282239\n",
              "Rotation    1.117350\n",
              "Curve       1.086638\n",
              "rad         0.495406\n",
              "vel         5.282239\n",
              "dv          1.117350\n",
              "err         1.086638\n",
              "err_tot     1.133624\n",
              "dtype: float64"
            ]
          },
          "execution_count": 12,
          "metadata": {},
          "output_type": "execute_result"
        }
      ],
      "source": [
        "m31_stats.loc['mean'] / m31_stats.loc['std']"
      ]
    },
    {
      "cell_type": "markdown",
      "metadata": {},
      "source": [
        "The most striking results are the heavy tails in the positive direction to the distribution (which I quantified as (mean - median)/std). The only measurment which breaks this is the 'grand' measurement."
      ]
    },
    {
      "cell_type": "markdown",
      "metadata": {
        "id": "ujTxbjRz8FHB"
      },
      "source": [
        "Make a histogram of each column of the dataframe and comment on the shape of the distribution in the caption. Remember the axis labels which, when we work with physical quantities, shoudl also state what units are used."
      ]
    },
    {
      "cell_type": "code",
      "execution_count": 13,
      "metadata": {
        "id": "OPJxdjzt8D5l"
      },
      "outputs": [
        {
          "data": {
            "text/plain": [
              "Text(0.5, 0.98, 'Five histograms of the five columns')"
            ]
          },
          "execution_count": 13,
          "metadata": {},
          "output_type": "execute_result"
        },
        {
          "data": {
            "image/png": "[encoded data removed]",
            "text/plain": [
              "<Figure size 1600x400 with 5 Axes>"
            ]
          },
          "metadata": {},
          "output_type": "display_data"
        }
      ],
      "source": [
        "keys = ['rad', 'vel', 'dv', 'err', 'err_tot']\n",
        "names = ['radius', 'velocity', 'velocity stdev', 'velocity sterr', 'total velocity error']\n",
        "units = ['kpc', 'km/s', 'km/s', 'km/s', 'km/s']\n",
        "fig, ax = plt.subplots(1, len(keys), figsize=(16,4))\n",
        "# plt.hist(m31['m31_num'])\n",
        "for i, key in enumerate(keys):\n",
        "    ax[i].set_xlabel(f'{names[i]} ({units[i]})')\n",
        "    ax[i].hist(m31[key].map(my_to_numeric), bins=20)\n",
        "    ax[i].set_ylim([0, 45])\n",
        "\n",
        "ax[0].set_ylabel('Number of Occurences')\n",
        "fig.suptitle('Five histograms of the five columns')"
      ]
    },
    {
      "cell_type": "markdown",
      "metadata": {},
      "source": [
        "Caption: Set of five historgrams composes of different data from the same sample. Begining with the radius histogram, we see that nearly all of the sub-galactic objects are located within only a few hundred kiloparsecs. However, there are outliers which are greater than 500 kiloparsecs. The velocity histogram follows an opposite trend: there are very few low velocity objects but then it ramps up tod a sharp dropoff. After this, there are only two objects. All three of the right plots (measures of uncertainty) share similar structure. This structure quite mulltimodal with many local peaks."
      ]
    },
    {
      "cell_type": "markdown",
      "metadata": {
        "id": "Vv0Ut6vOOdCk",
        "run_control": {
          "frozen": false,
          "read_only": false
        }
      },
      "source": [
        "from https://en.wikipedia.org/wiki/Andromeda_Galaxy get the extent of the luminous component of M31 (Andromeda). The distance of the Galaxy multiplied by the angular size will give you this information from basic trigonometry (make sure you convert the units properly, using astropy). Make sure you include the uncertainties! uncertainties in the distance will give you the uncertainty in the size\n",
        "\n",
        "Assume the distance is 778 $\\pm$ 33 kpc\n",
        "   "
      ]
    },
    {
      "cell_type": "code",
      "execution_count": 14,
      "metadata": {
        "id": "kvIFr6D778ri"
      },
      "outputs": [
        {
          "name": "stdout",
          "output_type": "stream",
          "text": [
            "the maximal extent of the luminous portion of Andromeda: 43.00 kpc+-1.824 kpc\n"
          ]
        }
      ],
      "source": [
        "dist_m31 = 778 * u.kiloparsec\n",
        "ddist_m31 = 33 * u.kiloparsec\n",
        "\n",
        "theta_m31 = 3.167 * u.degree\n",
        "\n",
        "extent_m31 = dist_m31 * theta_m31.to(u.rad)/u.rad\n",
        "dextent_m31 = ddist_m31 * theta_m31.to(u.rad)/u.rad\n",
        "print(f'the maximal extent of the luminous portion of Andromeda: {extent_m31:.2f}+-{dextent_m31:.3f}')"
      ]
    },
    {
      "cell_type": "code",
      "execution_count": 15,
      "metadata": {
        "ExecuteTime": {
          "end_time": "2019-08-02T01:35:41.413407Z",
          "start_time": "2019-08-02T01:35:41.408764Z"
        },
        "id": "tzGNh98hOdCl",
        "run_control": {
          "frozen": false,
          "read_only": false
        }
      },
      "outputs": [
        {
          "name": "stdout",
          "output_type": "stream",
          "text": [
            "Angular Size of the visible component of Andromeda: 0.06 rad\n"
          ]
        }
      ],
      "source": [
        "m31angS = 3.167 * u.degree\n",
        "print(\"Angular Size of the visible component of Andromeda: {:.2f}\".format(m31angS.to(u.rad)  ))"
      ]
    },
    {
      "cell_type": "markdown",
      "metadata": {
        "id": "cOw0Y4KNWTOZ"
      },
      "source": [
        "Please make sure you print a sensible number of decimal digits! you have a  number of significant digits set by the number of digit in the info you get from wikipedia and me"
      ]
    },
    {
      "cell_type": "markdown",
      "metadata": {
        "id": "hF2wXZ988QgS"
      },
      "source": [
        "The distance, from Wikipedia, will have an uncertainty. Convert both to kiloparsecs Kpc"
      ]
    },
    {
      "cell_type": "code",
      "execution_count": null,
      "metadata": {
        "ExecuteTime": {
          "end_time": "2019-08-02T01:35:42.257553Z",
          "start_time": "2019-08-02T01:35:42.254539Z"
        },
        "id": "7-nEP6KrOdCo",
        "run_control": {
          "frozen": false,
          "read_only": false
        }
      },
      "outputs": [],
      "source": []
    },
    {
      "cell_type": "markdown",
      "metadata": {
        "id": "_pTXgdTL8jv6"
      },
      "source": [
        "Calculate and print the distance like I printed the angular size.\n",
        "\n",
        "To get the physical size of the visible component of Andromeda you can use simple trigonometry: $y = r * sin(\\alpha) ~ \\sim ~ r \\alpha $ for small angles\n",
        "\n",
        "\n",
        "Print the physical size of the Andromeda galaxy (remember decimal digits, proper formatting etc etc).\n"
      ]
    },
    {
      "cell_type": "code",
      "execution_count": 16,
      "metadata": {
        "ExecuteTime": {
          "end_time": "2019-08-02T01:35:42.815232Z",
          "start_time": "2019-08-02T01:35:42.810316Z"
        },
        "id": "0y_V9AuFOdCv",
        "run_control": {
          "frozen": false,
          "read_only": false
        }
      },
      "outputs": [
        {
          "name": "stdout",
          "output_type": "stream",
          "text": [
            "Size of the visible component of Andromeda: 43.00 kpc +/- 1.824 kpc\n"
          ]
        }
      ],
      "source": [
        "print(\"Size of the visible component of Andromeda: \" +\n",
        "      r\"{:.2f} +/- {:.3f}\".format(extent_m31, dextent_m31))#, m31SizeError\n"
      ]
    },
    {
      "cell_type": "markdown",
      "metadata": {
        "id": "97o52hRhOdCy",
        "run_control": {
          "frozen": false,
          "read_only": false
        }
      },
      "source": [
        "### find the first measurement  in your data table that includes all the luminous mass.\n",
        "\n",
        "What is the smallest radius in your data where the luminous mass is completely included and what is the veolcity at that radius?\n",
        "You can do it by broadcasting (see homework 3)"
      ]
    },
    {
      "cell_type": "code",
      "execution_count": 17,
      "metadata": {
        "ExecuteTime": {
          "end_time": "2019-08-02T02:10:47.943179Z",
          "start_time": "2019-08-02T02:10:47.937541Z"
        },
        "id": "JF31dWaBOdCz",
        "run_control": {
          "frozen": false,
          "read_only": false
        }
      },
      "outputs": [
        {
          "name": "stdout",
          "output_type": "stream",
          "text": [
            "The radius and velocity of this object are: (r,v) = (59.07 kpc, 249.44 km / s +- 137.13 km / s)\n"
          ]
        }
      ],
      "source": [
        "m31_tmp = m31[m31['rad'].map(my_to_numeric) >= my_to_numeric(extent_m31)]\n",
        "m31_min_outer = m31.iloc[m31_tmp['rad'].idxmin()]\n",
        "print(f'The radius and velocity of this object are: (r,v) = ({m31_min_outer['rad']:.2f}, {m31_min_outer['vel']:.2f} +- {m31_min_outer['err_tot']:.2f})')"
      ]
    },
    {
      "cell_type": "markdown",
      "metadata": {
        "id": "TVWiU84XOdDA",
        "run_control": {
          "frozen": false,
          "read_only": false
        }
      },
      "source": [
        "We expect the velocity to decrease as $1 / \\sqrt{r}$ if all mass is included: the velocity at a radius twice as far as the radius that includes all the mass should be a factor $\\sqrt{2}$ slower, three times as far a factor $\\sqrt{3}$ slower."
      ]
    },
    {
      "cell_type": "markdown",
      "metadata": {
        "id": "b096Ax33SiXl"
      },
      "source": [
        "write a function that\n",
        "\n",
        "1. finds the smallest radius in the dataset that is at least N times the radius of the visible galaxy,\n",
        "\n",
        "2. takes as arguments:\n",
        "    - the data and\n",
        "    - N\n",
        "    - the size of the luminous component of the galaxy\n",
        "\n",
        "2. Returns the value of the radius and its uncertainty and the velocity and its uncertainty"
      ]
    },
    {
      "cell_type": "code",
      "execution_count": 18,
      "metadata": {
        "ExecuteTime": {
          "end_time": "2019-08-02T02:07:26.053511Z",
          "start_time": "2019-08-02T02:07:26.046677Z"
        },
        "id": "-_O34Bb7OdC2",
        "run_control": {
          "frozen": false,
          "read_only": false
        }
      },
      "outputs": [
        {
          "data": {
            "text/plain": [
              "{'rad': <Quantity 23.738 kpc>,\n",
              " 'vel': <Quantity 236.511 km / s>,\n",
              " 'dv': <Quantity 11.729 km / s>,\n",
              " 'err': <Quantity 1.58 km / s>}"
            ]
          },
          "execution_count": 18,
          "metadata": {},
          "output_type": "execute_result"
        }
      ],
      "source": [
        "# first measurement including all mass\n",
        "\n",
        "def getradii(galdf, N, radius):\n",
        "  Nradius = N * radius\n",
        "  tmp = galdf[galdf['rad'].map(my_to_numeric) >= my_to_numeric(Nradius.to(u.kiloparsec))]\n",
        "  if len(tmp) == 0:\n",
        "    return None\n",
        "  tmp = galdf.iloc[tmp['rad'].idxmin()]\n",
        "  tmp = {\n",
        "    'rad' : tmp['rad'],\n",
        "    'vel' : tmp['vel'],\n",
        "    'dv'  : tmp['dv'],\n",
        "    'err'  : tmp['err'],\n",
        "  }\n",
        "  return tmp\n",
        "def getradii(galdf, N, radius):\n",
        "    Nradius = N * radius\n",
        "    valid_rows = galdf[galdf['rad'].map(my_to_numeric) >= my_to_numeric(Nradius.to(u.kiloparsec))]\n",
        "    if len(valid_rows) == 0:\n",
        "        return None\n",
        "    # Get the row with minimum radius from valid rows\n",
        "    min_row = valid_rows.loc[valid_rows['rad'].map(my_to_numeric).idxmin()]\n",
        "    return {\n",
        "        'rad' : min_row['rad'],\n",
        "        'vel' : min_row['vel'],\n",
        "        'dv'  : min_row['dv'],\n",
        "        'err' : min_row['err'],\n",
        "    }\n",
        "getradii(m31, 1, extent_m31/2 )\n"
      ]
    },
    {
      "cell_type": "markdown",
      "metadata": {
        "ExecuteTime": {
          "end_time": "2019-08-01T18:13:58.231637Z",
          "start_time": "2019-08-01T18:13:58.229447Z"
        },
        "id": "ogu_iquzOdC5",
        "run_control": {
          "frozen": false,
          "read_only": false
        }
      },
      "source": [
        "### data visualization"
      ]
    },
    {
      "cell_type": "markdown",
      "metadata": {
        "id": "kJ6MujVJUyel"
      },
      "source": [
        "make a plot that shows\n",
        "\n",
        "1. the rotational curve of the galaxy (as a line) (e.g. with `df.plot(...)` if your data is stored as a dataframe `df`) showing the uncertainty dv at each quantity (if using `df.plot()` you can use the argument `yerr`)\n",
        "\n",
        "2. each velocity as an errorbar with error equal to `err_tot` in three different colors of your choice (not black)\n",
        "\n",
        "3. each velocity as an errorbar with error equal to `dv` in black\n",
        "\n",
        "4. the datapoint corresponding to N=1, 2, 3 each in a different color.\n",
        "\n",
        "5. add a legend that indicates the meaning of each color (```pl.legend()```)\n",
        "\n",
        "6. add a text that indicates the velocity and its uncertainty (dv and err) just below the largest errorbar (```pl.text()``` or ```ax.text()``` if you have an axis object)\n",
        "\n",
        "7. limit the x axis to the \"relevant\" portion of the data"
      ]
    },
    {
      "cell_type": "code",
      "execution_count": 19,
      "metadata": {
        "ExecuteTime": {
          "end_time": "2019-08-02T03:01:27.556063Z",
          "start_time": "2019-08-02T03:01:27.302184Z"
        },
        "colab": {
          "base_uri": "https://localhost:8080/",
          "height": 449
        },
        "id": "7IMXYY8BOdC6",
        "outputId": "84af7db2-836c-4e83-e99d-7d7e5e4a035a",
        "run_control": {
          "frozen": false,
          "read_only": false
        }
      },
      "outputs": [
        {
          "data": {
            "text/latex": [
              "$21.501811 \\; \\mathrm{kpc}$"
            ],
            "text/plain": [
              "<Quantity 21.50181061 kpc>"
            ]
          },
          "execution_count": 19,
          "metadata": {},
          "output_type": "execute_result"
        },
        {
          "data": {
            "image/png": "[encoded data removed]",
            "text/plain": [
              "<Figure size 640x480 with 1 Axes>"
            ]
          },
          "metadata": {},
          "output_type": "display_data"
        }
      ],
      "source": [
        "#delete leave plot\n",
        "def plotGal(gal, rds, ax):\n",
        "    numgal = gal.map(my_to_numeric)\n",
        "    # ax.plot(numgal['rad'], numgal['vel'], color='r')\n",
        "    ax.errorbar(numgal['rad'], numgal['vel'], numgal['err_tot'], ecolor='red')\n",
        "    barcolors = ['yellow', 'blue', 'green']\n",
        "    bars = []\n",
        "    for i in range(3):\n",
        "        point = getradii(gal, i+1, rds)\n",
        "        bars.append(ax.errorbar(point['rad'], point['vel'], point['dv'], ecolor=barcolors[i]))\n",
        "        ax.errorbar(point['rad'], point['vel'], point['err'], ecolor='k', elinewidth=4)\n",
        "        vel = my_to_numeric(point['vel'])\n",
        "        dv  = my_to_numeric(point['dv'])\n",
        "        err = my_to_numeric(point['err'])\n",
        "        ax.text(my_to_numeric(point['rad']), my_to_numeric(point['vel'] - point['dv']) - 50,\n",
        "            f'{vel:.1f}\\n({dv:.1f},{err:.1f})')\n",
        "    \n",
        "    ax.legend(bars, [\n",
        "        '1x Radius',\n",
        "        '2x Radius',\n",
        "        '3x Radius',\n",
        "    ]\n",
        "    )\n",
        "\n",
        "    ax.set_ylim([0, 500])\n",
        "    ax.set_ylabel('velocity (km/s)')\n",
        "    ax.set_xlim([0, my_to_numeric(rds)*5])\n",
        "    ax.set_xlabel('radial distance (kpc)')\n",
        "\n",
        "fig, ax = plt.subplots()\n",
        "plotGal(m31, extent_m31/2, ax)\n",
        "extent_m31/2"
      ]
    },
    {
      "cell_type": "markdown",
      "metadata": {},
      "source": [
        "Caption: The plot of radial distance vs velocity with uncertainty for galactic objects. The pattern is relatively flat with a major clumping of data closer to the galactic center. Another pattern is the increasing error bars past one luminous radii."
      ]
    },
    {
      "cell_type": "markdown",
      "metadata": {
        "id": "bIbv3YrhTo0X"
      },
      "source": [
        "Write a function that for a given dataset and a given luminous radius and a given N\n",
        "  \n",
        "  1) uses the function above ```getradii``` to find the radius at least as large as needed and the velocity at that radius,\n",
        "  \n",
        "  2) states the expected drop in rotational velocities according to Newton's law $v\\propto 1/\\sqrt{r}$\n",
        "  \n",
        "  3) calculates the ratio of radii and the ratio of velocities at N radii from the center N=1 and N=N (input, e.g. 2, 3 etc) with uncertainties,\n",
        "  \n",
        "  4) and stated whether that ratio is consistent within the uncertainties with Newton's law $v \\propto 1/\\sqrt{r}$\n",
        "  \n",
        "Your function should print\n",
        "\n",
        "     - the expected ratio based on the radii,\n",
        "     - the calculated ratio using ```dv```, and its uncertainty, -\n",
        "     - the 2-$\\sigma$ upper and lower limits of the calculated ratio\n",
        "     - whether the expected ratio is within the $2-\\sigma$ of the calculated ratio,\n",
        "  5) and the same using ```err```  instead of ```dv```"
      ]
    },
    {
      "cell_type": "code",
      "execution_count": 20,
      "metadata": {
        "ExecuteTime": {
          "end_time": "2019-08-02T02:22:18.485172Z",
          "start_time": "2019-08-02T02:22:18.477807Z"
        },
        "id": "1hhTw8N4OdDB",
        "run_control": {
          "frozen": false,
          "read_only": false
        }
      },
      "outputs": [
        {
          "name": "stdout",
          "output_type": "stream",
          "text": [
            "Using dv errors:\n",
            "Radius ratio (r1/r1): 1.000\n",
            "Expected velocity ratio (v1/v1) from Newton's law: 1.000\n",
            "Observed velocity ratio (v1/v1): 1.000 ± 0.653\n",
            "2-sigma bounds: [-0.305, 2.305]\n",
            "Consistent with Newton's law within 2-sigma? True\n"
          ]
        }
      ],
      "source": [
        "def vratios(gal, galrad, N, err='dv'):\n",
        "    data_1x = getradii(gal, 1, galrad)\n",
        "    data_Nx = getradii(gal, N, galrad)\n",
        "    \n",
        "    if data_1x is None or data_Nx is None:\n",
        "        print(f\"No data at {N} radii\")\n",
        "        return\n",
        "    \n",
        "    r1 = my_to_numeric(data_1x['rad'])\n",
        "    v1 = my_to_numeric(data_1x['vel'])\n",
        "    rN = my_to_numeric(data_Nx['rad'])\n",
        "    vN = my_to_numeric(data_Nx['vel'])\n",
        "    \n",
        "    if err == 'dv':\n",
        "        err1 = my_to_numeric(data_1x['dv'])\n",
        "        errN = my_to_numeric(data_Nx['dv'])\n",
        "    else:\n",
        "        err1 = my_to_numeric(data_1x['err'])\n",
        "        errN = my_to_numeric(data_Nx['err'])\n",
        "        \n",
        "    r_ratio = rN / r1\n",
        "    v_exp = np.sqrt(r1 / rN)  # expected velocity ratio from Newton\n",
        "    \n",
        "    v_obs = vN / v1  # observed velocity ratio\n",
        "    \n",
        "    rel_err2 = (errN/vN)**2 + (err1/v1)**2\n",
        "    v_unc = v_obs * np.sqrt(rel_err2)  # uncertainty in ratio\n",
        "    \n",
        "    lo_2sig = v_obs - 2 * v_unc\n",
        "    hi_2sig = v_obs + 2 * v_unc\n",
        "    \n",
        "    is_consistent = (lo_2sig <= v_exp <= hi_2sig)\n",
        "    \n",
        "    # Print results\n",
        "    print(f\"Using {err} errors:\")\n",
        "    print(f\"Radius ratio (r{N}/r1): {r_ratio:.3f}\")\n",
        "    print(f\"Expected velocity ratio (v{N}/v1) from Newton's law: {v_exp:.3f}\")\n",
        "    print(f\"Observed velocity ratio (v{N}/v1): {v_obs:.3f} ± {v_unc:.3f}\")\n",
        "    print(f\"2-sigma bounds: [{lo_2sig:.3f}, {hi_2sig:.3f}]\")\n",
        "    print(f\"Consistent with Newton's law within 2-sigma? {is_consistent}\")\n",
        "    \n",
        "m31Rds = extent_m31\n",
        "vratios(m31, m31Rds, 1)"
      ]
    },
    {
      "cell_type": "code",
      "execution_count": 21,
      "metadata": {
        "ExecuteTime": {
          "end_time": "2019-08-02T02:22:20.233692Z",
          "start_time": "2019-08-02T02:22:20.225631Z"
        },
        "id": "8TPkTIthOdDI",
        "run_control": {
          "frozen": false,
          "read_only": false
        }
      },
      "outputs": [
        {
          "name": "stdout",
          "output_type": "stream",
          "text": [
            "Using dv errors:\n",
            "Radius ratio (r1/r1): 1.000\n",
            "Expected velocity ratio (v1/v1) from Newton's law: 1.000\n",
            "Observed velocity ratio (v1/v1): 1.000 ± 0.653\n",
            "2-sigma bounds: [-0.305, 2.305]\n",
            "Consistent with Newton's law within 2-sigma? True\n",
            "Using err errors:\n",
            "Radius ratio (r1/r1): 1.000\n",
            "Expected velocity ratio (v1/v1) from Newton's law: 1.000\n",
            "Observed velocity ratio (v1/v1): 1.000 ± 0.143\n",
            "2-sigma bounds: [0.715, 1.285]\n",
            "Consistent with Newton's law within 2-sigma? True\n"
          ]
        }
      ],
      "source": [
        "vratios(m31, m31Rds, 1)\n",
        "\n",
        "vratios(m31, m31Rds, 1, err='err')"
      ]
    },
    {
      "cell_type": "code",
      "execution_count": 22,
      "metadata": {
        "ExecuteTime": {
          "end_time": "2019-08-02T02:22:26.272266Z",
          "start_time": "2019-08-02T02:22:26.263760Z"
        },
        "id": "XeQoBcM7OdDP",
        "run_control": {
          "frozen": false,
          "read_only": false
        }
      },
      "outputs": [
        {
          "name": "stdout",
          "output_type": "stream",
          "text": [
            "Using dv errors:\n",
            "Radius ratio (r2/r1): 2.074\n",
            "Expected velocity ratio (v2/v1) from Newton's law: 0.694\n",
            "Observed velocity ratio (v2/v1): 0.898 ± 0.696\n",
            "2-sigma bounds: [-0.493, 2.290]\n",
            "Consistent with Newton's law within 2-sigma? True\n"
          ]
        }
      ],
      "source": [
        "vratios(m31, m31Rds, 2)"
      ]
    },
    {
      "cell_type": "code",
      "execution_count": 23,
      "metadata": {},
      "outputs": [
        {
          "name": "stdout",
          "output_type": "stream",
          "text": [
            "Using dv errors:\n",
            "Radius ratio (r40/r1): 38.338\n",
            "Expected velocity ratio (v40/v1) from Newton's law: 0.162\n",
            "Observed velocity ratio (v40/v1): 1.750 ± 0.859\n",
            "2-sigma bounds: [0.032, 3.469]\n",
            "Consistent with Newton's law within 2-sigma? True\n"
          ]
        }
      ],
      "source": [
        "vratios(m31, m31Rds, 40)"
      ]
    },
    {
      "cell_type": "code",
      "execution_count": 24,
      "metadata": {},
      "outputs": [
        {
          "name": "stdout",
          "output_type": "stream",
          "text": [
            "Using err errors:\n",
            "Radius ratio (r10/r1): 8.916\n",
            "Expected velocity ratio (v10/v1) from Newton's law: 0.335\n",
            "Observed velocity ratio (v10/v1): 0.710 ± 0.229\n",
            "2-sigma bounds: [0.253, 1.167]\n",
            "Consistent with Newton's law within 2-sigma? True\n"
          ]
        }
      ],
      "source": [
        "vratios(m31, m31Rds, 10, err='err')"
      ]
    },
    {
      "cell_type": "code",
      "execution_count": 25,
      "metadata": {
        "ExecuteTime": {
          "end_time": "2019-08-02T02:24:18.604569Z",
          "start_time": "2019-08-02T02:24:18.596278Z"
        },
        "id": "Stigi9P_OdDW",
        "run_control": {
          "frozen": false,
          "read_only": false
        }
      },
      "outputs": [
        {
          "name": "stdout",
          "output_type": "stream",
          "text": [
            "Using err errors:\n",
            "Radius ratio (r11/r1): 10.699\n",
            "Expected velocity ratio (v11/v1) from Newton's law: 0.306\n",
            "Observed velocity ratio (v11/v1): 0.846 ± 0.239\n",
            "2-sigma bounds: [0.368, 1.324]\n",
            "Consistent with Newton's law within 2-sigma? False\n"
          ]
        }
      ],
      "source": [
        "vratios(m31, m31Rds, 11, err='err')"
      ]
    },
    {
      "cell_type": "markdown",
      "metadata": {
        "ExecuteTime": {
          "end_time": "2019-08-02T00:36:41.637045Z",
          "start_time": "2019-08-02T00:36:41.634825Z"
        },
        "id": "6me5k4c1OdDY",
        "run_control": {
          "frozen": false,
          "read_only": false
        }
      },
      "source": [
        "The velocity ratios match Newtonian predictions within uncertainties at moderate radii (N=2-10). Deviations appear around 11 times the luminous radius, where observed velocities remain higher than the expected 1/sqrt(r) relationship. However, this result is only found when using the standard error and not the total error. Therefore, the claim for dark matter is pretty tenuous with m31's data."
      ]
    },
    {
      "cell_type": "markdown",
      "metadata": {
        "id": "QIHRn8UlOdDZ",
        "run_control": {
          "frozen": false,
          "read_only": false
        }
      },
      "source": [
        "## do the same for the Milky Way. If your functions were create properly you should be able to reuse them seamlessly"
      ]
    },
    {
      "cell_type": "code",
      "execution_count": 26,
      "metadata": {},
      "outputs": [],
      "source": [
        "mwRd = (7.935+8.277)/4 * u.kiloparsec\n",
        "mw = pd.read_csv('https://raw.githubusercontent.com/fedhere/DSPS_FBianco/refs/heads/main/HW4/mw.csv')\n",
        "\n",
        "#remove the units row\n",
        "mw_units = mw.iloc[0]\n",
        "mw = mw.loc[1:]\n",
        "\n",
        "#create correctly typed columns with better names\n",
        "mw['rad'] = pd.to_numeric(mw['#MW']).map(lambda x: x * u.kiloparsec)\n",
        "mw['vel'] = pd.to_numeric(mw['Grand']).map(lambda x : x * u.kilometer / u.second)\n",
        "mw['dv']  = pd.to_numeric(mw['Rotation']).map(lambda x : x * u.kilometer / u.second)\n",
        "mw['err'] = pd.to_numeric(mw['Curve']).map(lambda x : x * u.kilometer / u.second)\n",
        "\n",
        "mw['err_tot'] = (mw['dv']**2 + mw['err']**2)**0.5"
      ]
    },
    {
      "cell_type": "code",
      "execution_count": 27,
      "metadata": {},
      "outputs": [
        {
          "data": {
            "image/png": "[encoded data removed]",
            "text/plain": [
              "<Figure size 640x480 with 1 Axes>"
            ]
          },
          "metadata": {},
          "output_type": "display_data"
        }
      ],
      "source": [
        "fig, ax = plt.subplots()\n",
        "plotGal(mw, mwRd, ax)"
      ]
    },
    {
      "cell_type": "markdown",
      "metadata": {},
      "source": [
        "Caption: Identical set up from previous figure but with data from the Milky Way rather than M31. The Milky Way unsurprisingly differs by having much lower uncertainties do to our proximity. This also leads to a smoother plot, as it's likely the means are closer to the true values."
      ]
    },
    {
      "cell_type": "code",
      "execution_count": 28,
      "metadata": {},
      "outputs": [
        {
          "name": "stdout",
          "output_type": "stream",
          "text": [
            "Using dv errors:\n",
            "Radius ratio (r300/r1): 341.811\n",
            "Expected velocity ratio (v300/v1) from Newton's law: 0.054\n",
            "Observed velocity ratio (v300/v1): 1.002 ± 0.468\n",
            "2-sigma bounds: [0.067, 1.938]\n",
            "Consistent with Newton's law within 2-sigma? False\n"
          ]
        }
      ],
      "source": [
        "vratios(mw, mwRd, 300)"
      ]
    },
    {
      "cell_type": "code",
      "execution_count": 29,
      "metadata": {},
      "outputs": [
        {
          "name": "stdout",
          "output_type": "stream",
          "text": [
            "Using err errors:\n",
            "Radius ratio (r2/r1): 2.074\n",
            "Expected velocity ratio (v2/v1) from Newton's law: 0.694\n",
            "Observed velocity ratio (v2/v1): 1.049 ± 0.008\n",
            "2-sigma bounds: [1.033, 1.064]\n",
            "Consistent with Newton's law within 2-sigma? False\n"
          ]
        }
      ],
      "source": [
        "vratios(mw, mwRd, 2, err='err')"
      ]
    },
    {
      "cell_type": "markdown",
      "metadata": {},
      "source": [
        "The Milky Way shows stronger deviations from Newton's laws than m31. At twice the luminous radius, the observed ratio (1.049) significantly exceeds the Newtonian expectation (0.694). At very large radii, velocities remain nearly constant rather than dropping as predicted. Unlike the m31 data the Milky way also disargrees with Newton's laws at very large radii (around 300 times the luminous radii). Therefore, this data gives a much stronger claim for the existence of dark matter. "
      ]
    }
  ],
  "metadata": {
    "colab": {
      "collapsed_sections": [
        "6me5k4c1OdDY"
      ],
      "include_colab_link": true,
      "provenance": []
    },
    "kernelspec": {
      "display_name": "Python 3",
      "language": "python",
      "name": "python3"
    },
    "language_info": {
      "codemirror_mode": {
        "name": "ipython",
        "version": 3
      },
      "file_extension": ".py",
      "mimetype": "text/x-python",
      "name": "python",
      "nbconvert_exporter": "python",
      "pygments_lexer": "ipython3",
      "version": "3.13.7"
    },
    "nbTranslate": {
      "displayLangs": [
        "*"
      ],
      "hotkey": "alt-t",
      "langInMainMenu": true,
      "sourceLang": "en",
      "targetLang": "fr",
      "useGoogleTranslate": true
    },
    "toc": {
      "base_numbering": 1,
      "colors": {
        "hover_highlight": "#DAA520",
        "running_highlight": "#FF0000",
        "selected_highlight": "#FFD700"
      },
      "moveMenuLeft": true,
      "nav_menu": {},
      "navigate_menu": true,
      "number_sections": true,
      "sideBar": true,
      "skip_h1_title": false,
      "threshold": 4,
      "title_cell": "Table of Contents",
      "title_sidebar": "Contents",
      "toc_cell": false,
      "toc_position": {
        "height": "calc(100% - 180px)",
        "left": "10px",
        "top": "150px",
        "width": "165px"
      },
      "toc_section_display": true,
      "toc_window_display": true
    }
  },
  "nbformat": 4,
  "nbformat_minor": 0
}
