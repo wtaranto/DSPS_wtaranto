{
 "cells": [
  {
   "cell_type": "code",
   "execution_count": 21,
   "id": "125104a7",
   "metadata": {},
   "outputs": [],
   "source": [
    "import pandas as pd"
   ]
  },
  {
   "cell_type": "code",
   "execution_count": 22,
   "id": "1ca3eb1f",
   "metadata": {},
   "outputs": [],
   "source": [
    "timedata = pd.read_csv(\"https://github.com/fedhere/DSPS_FBianco/raw/refs/heads/main/data/triptimes.csv\", header=None)\n",
    "mean = 32 + 1/3"
   ]
  },
  {
   "cell_type": "code",
   "execution_count": 23,
   "id": "069cec74",
   "metadata": {},
   "outputs": [],
   "source": [
    "smean = timedata.mean()[0]\n",
    "sstd = timedata.std()[0] / 100 ** 0.5\n",
    "result = (mean - smean)/sstd"
   ]
  },
  {
   "cell_type": "code",
   "execution_count": 24,
   "id": "94e8275b",
   "metadata": {},
   "outputs": [
    {
     "name": "stdout",
     "output_type": "stream",
     "text": [
      "-2.988292900093149\n"
     ]
    }
   ],
   "source": [
    "print(result)"
   ]
  },
  {
   "cell_type": "code",
   "execution_count": null,
   "id": "33bf4d6d",
   "metadata": {},
   "outputs": [],
   "source": []
  }
 ],
 "metadata": {
  "kernelspec": {
   "display_name": "Python 3",
   "language": "python",
   "name": "python3"
  },
  "language_info": {
   "codemirror_mode": {
    "name": "ipython",
    "version": 3
   },
   "file_extension": ".py",
   "mimetype": "text/x-python",
   "name": "python",
   "nbconvert_exporter": "python",
   "pygments_lexer": "ipython3",
   "version": "3.13.7"
  }
 },
 "nbformat": 4,
 "nbformat_minor": 5
}
