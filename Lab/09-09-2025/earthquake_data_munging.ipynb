{
  "cells": [
    {
      "cell_type": "markdown",
      "metadata": {
        "colab_type": "text",
        "id": "view-in-github"
      },
      "source": [
        "<a href=\"https://colab.research.google.com/github/fedhere/DSPS_FBianco/blob/main/Labs/earthquake_data_munging.ipynb\" target=\"_parent\"><img src=\"https://colab.research.google.com/assets/colab-badge.svg\" alt=\"Open In Colab\"/></a>"
      ]
    },
    {
      "cell_type": "code",
      "execution_count": 1,
      "metadata": {
        "id": "5d6XF4KjNVpn"
      },
      "outputs": [],
      "source": [
        "import pandas as pd\n"
      ]
    },
    {
      "cell_type": "code",
      "execution_count": 2,
      "metadata": {
        "id": "BEJU75uqOV_S"
      },
      "outputs": [],
      "source": [
        "earthquakes = pd.read_csv(\"https://raw.githubusercontent.com/fedhere/DSPS_FBianco/refs/heads/main/data/earthquakes.csv\",\n",
        "            sep=r\"\\s+\")"
      ]
    },
    {
      "cell_type": "code",
      "execution_count": 3,
      "metadata": {
        "colab": {
          "base_uri": "https://localhost:8080/"
        },
        "id": "flZnOIqQOhH3",
        "outputId": "e5189620-b161-438c-b84c-07b6d043af6c"
      },
      "outputs": [
        {
          "data": {
            "text/plain": [
              "(70798, 13)"
            ]
          },
          "execution_count": 3,
          "metadata": {},
          "output_type": "execute_result"
        }
      ],
      "source": [
        "earthquakes.shape"
      ]
    },
    {
      "cell_type": "code",
      "execution_count": 4,
      "metadata": {
        "colab": {
          "base_uri": "https://localhost:8080/",
          "height": 206
        },
        "id": "GIBbW576PfGK",
        "outputId": "2f45118d-f9a3-4405-bfd6-a33c76161d16"
      },
      "outputs": [
        {
          "data": {
            "text/html": [
              "<div>\n",
              "<style scoped>\n",
              "    .dataframe tbody tr th:only-of-type {\n",
              "        vertical-align: middle;\n",
              "    }\n",
              "\n",
              "    .dataframe tbody tr th {\n",
              "        vertical-align: top;\n",
              "    }\n",
              "\n",
              "    .dataframe thead th {\n",
              "        text-align: right;\n",
              "    }\n",
              "</style>\n",
              "<table border=\"1\" class=\"dataframe\">\n",
              "  <thead>\n",
              "    <tr style=\"text-align: right;\">\n",
              "      <th></th>\n",
              "      <th>#YYY/MM/DD</th>\n",
              "      <th>HH:mm:SS.ss</th>\n",
              "      <th>ET</th>\n",
              "      <th>GT</th>\n",
              "      <th>MAG</th>\n",
              "      <th>M</th>\n",
              "      <th>LAT</th>\n",
              "      <th>LON</th>\n",
              "      <th>DEPTH</th>\n",
              "      <th>Q</th>\n",
              "      <th>EVID</th>\n",
              "      <th>NPH</th>\n",
              "      <th>NGRM</th>\n",
              "    </tr>\n",
              "  </thead>\n",
              "  <tbody>\n",
              "    <tr>\n",
              "      <th>0</th>\n",
              "      <td>1984/01/01</td>\n",
              "      <td>01:30:57.52</td>\n",
              "      <td>eq</td>\n",
              "      <td>l</td>\n",
              "      <td>2.02</td>\n",
              "      <td>c</td>\n",
              "      <td>33.246</td>\n",
              "      <td>-116.433</td>\n",
              "      <td>1.6</td>\n",
              "      <td>C</td>\n",
              "      <td>28255</td>\n",
              "      <td>13</td>\n",
              "      <td>17</td>\n",
              "    </tr>\n",
              "    <tr>\n",
              "      <th>1</th>\n",
              "      <td>1984/01/01</td>\n",
              "      <td>05:31:34.16</td>\n",
              "      <td>eq</td>\n",
              "      <td>l</td>\n",
              "      <td>2.12</td>\n",
              "      <td>c</td>\n",
              "      <td>32.945</td>\n",
              "      <td>-116.295</td>\n",
              "      <td>5.4</td>\n",
              "      <td>C</td>\n",
              "      <td>28259</td>\n",
              "      <td>18</td>\n",
              "      <td>42</td>\n",
              "    </tr>\n",
              "    <tr>\n",
              "      <th>2</th>\n",
              "      <td>1984/01/01</td>\n",
              "      <td>06:59:05.14</td>\n",
              "      <td>eq</td>\n",
              "      <td>l</td>\n",
              "      <td>2.43</td>\n",
              "      <td>c</td>\n",
              "      <td>33.343</td>\n",
              "      <td>-117.628</td>\n",
              "      <td>5.6</td>\n",
              "      <td>C</td>\n",
              "      <td>28260</td>\n",
              "      <td>13</td>\n",
              "      <td>30</td>\n",
              "    </tr>\n",
              "    <tr>\n",
              "      <th>3</th>\n",
              "      <td>1984/01/01</td>\n",
              "      <td>11:10:25.29</td>\n",
              "      <td>eq</td>\n",
              "      <td>l</td>\n",
              "      <td>2.07</td>\n",
              "      <td>c</td>\n",
              "      <td>33.668</td>\n",
              "      <td>-116.780</td>\n",
              "      <td>13.8</td>\n",
              "      <td>C</td>\n",
              "      <td>28270</td>\n",
              "      <td>19</td>\n",
              "      <td>40</td>\n",
              "    </tr>\n",
              "    <tr>\n",
              "      <th>4</th>\n",
              "      <td>1984/01/01</td>\n",
              "      <td>19:38:19.79</td>\n",
              "      <td>eq</td>\n",
              "      <td>l</td>\n",
              "      <td>2.13</td>\n",
              "      <td>c</td>\n",
              "      <td>33.963</td>\n",
              "      <td>-116.290</td>\n",
              "      <td>2.7</td>\n",
              "      <td>C</td>\n",
              "      <td>28553</td>\n",
              "      <td>40</td>\n",
              "      <td>49</td>\n",
              "    </tr>\n",
              "  </tbody>\n",
              "</table>\n",
              "</div>"
            ],
            "text/plain": [
              "   #YYY/MM/DD  HH:mm:SS.ss  ET GT   MAG  M     LAT      LON  DEPTH  Q   EVID  \\\n",
              "0  1984/01/01  01:30:57.52  eq  l  2.02  c  33.246 -116.433    1.6  C  28255   \n",
              "1  1984/01/01  05:31:34.16  eq  l  2.12  c  32.945 -116.295    5.4  C  28259   \n",
              "2  1984/01/01  06:59:05.14  eq  l  2.43  c  33.343 -117.628    5.6  C  28260   \n",
              "3  1984/01/01  11:10:25.29  eq  l  2.07  c  33.668 -116.780   13.8  C  28270   \n",
              "4  1984/01/01  19:38:19.79  eq  l  2.13  c  33.963 -116.290    2.7  C  28553   \n",
              "\n",
              "   NPH  NGRM  \n",
              "0   13    17  \n",
              "1   18    42  \n",
              "2   13    30  \n",
              "3   19    40  \n",
              "4   40    49  "
            ]
          },
          "execution_count": 4,
          "metadata": {},
          "output_type": "execute_result"
        }
      ],
      "source": [
        "earthquakes.head()"
      ]
    },
    {
      "cell_type": "code",
      "execution_count": 5,
      "metadata": {
        "colab": {
          "base_uri": "https://localhost:8080/",
          "height": 206
        },
        "id": "usiBp-lDPvbd",
        "outputId": "93c083e8-5341-4f56-decb-f84d82652ad7"
      },
      "outputs": [
        {
          "data": {
            "text/html": [
              "<div>\n",
              "<style scoped>\n",
              "    .dataframe tbody tr th:only-of-type {\n",
              "        vertical-align: middle;\n",
              "    }\n",
              "\n",
              "    .dataframe tbody tr th {\n",
              "        vertical-align: top;\n",
              "    }\n",
              "\n",
              "    .dataframe thead th {\n",
              "        text-align: right;\n",
              "    }\n",
              "</style>\n",
              "<table border=\"1\" class=\"dataframe\">\n",
              "  <thead>\n",
              "    <tr style=\"text-align: right;\">\n",
              "      <th></th>\n",
              "      <th>#YYY/MM/DD</th>\n",
              "      <th>HH:mm:SS.ss</th>\n",
              "      <th>ET</th>\n",
              "      <th>GT</th>\n",
              "      <th>MAG</th>\n",
              "      <th>M</th>\n",
              "      <th>LAT</th>\n",
              "      <th>LON</th>\n",
              "      <th>DEPTH</th>\n",
              "      <th>Q</th>\n",
              "      <th>EVID</th>\n",
              "      <th>NPH</th>\n",
              "      <th>NGRM</th>\n",
              "    </tr>\n",
              "  </thead>\n",
              "  <tbody>\n",
              "    <tr>\n",
              "      <th>70793</th>\n",
              "      <td>2002/12/29</td>\n",
              "      <td>19:37:24.56</td>\n",
              "      <td>eq</td>\n",
              "      <td>l</td>\n",
              "      <td>2.21</td>\n",
              "      <td>l</td>\n",
              "      <td>35.31400</td>\n",
              "      <td>-118.66767</td>\n",
              "      <td>3.7</td>\n",
              "      <td>A</td>\n",
              "      <td>9874709</td>\n",
              "      <td>25</td>\n",
              "      <td>948</td>\n",
              "    </tr>\n",
              "    <tr>\n",
              "      <th>70794</th>\n",
              "      <td>2002/12/29</td>\n",
              "      <td>20:17:33.40</td>\n",
              "      <td>eq</td>\n",
              "      <td>l</td>\n",
              "      <td>2.02</td>\n",
              "      <td>l</td>\n",
              "      <td>35.32133</td>\n",
              "      <td>-118.66000</td>\n",
              "      <td>1.8</td>\n",
              "      <td>A</td>\n",
              "      <td>9874745</td>\n",
              "      <td>48</td>\n",
              "      <td>245</td>\n",
              "    </tr>\n",
              "    <tr>\n",
              "      <th>70795</th>\n",
              "      <td>2002/12/29</td>\n",
              "      <td>20:21:28.73</td>\n",
              "      <td>eq</td>\n",
              "      <td>l</td>\n",
              "      <td>2.07</td>\n",
              "      <td>l</td>\n",
              "      <td>35.32150</td>\n",
              "      <td>-118.66617</td>\n",
              "      <td>1.9</td>\n",
              "      <td>A</td>\n",
              "      <td>9874749</td>\n",
              "      <td>53</td>\n",
              "      <td>277</td>\n",
              "    </tr>\n",
              "    <tr>\n",
              "      <th>70796</th>\n",
              "      <td>2002/12/30</td>\n",
              "      <td>21:51:52.55</td>\n",
              "      <td>eq</td>\n",
              "      <td>l</td>\n",
              "      <td>2.31</td>\n",
              "      <td>l</td>\n",
              "      <td>35.31867</td>\n",
              "      <td>-118.66250</td>\n",
              "      <td>1.5</td>\n",
              "      <td>A</td>\n",
              "      <td>9875017</td>\n",
              "      <td>66</td>\n",
              "      <td>404</td>\n",
              "    </tr>\n",
              "    <tr>\n",
              "      <th>70797</th>\n",
              "      <td>2002/12/30</td>\n",
              "      <td>23:38:49.79</td>\n",
              "      <td>eq</td>\n",
              "      <td>l</td>\n",
              "      <td>2.05</td>\n",
              "      <td>l</td>\n",
              "      <td>35.31450</td>\n",
              "      <td>-118.66333</td>\n",
              "      <td>1.9</td>\n",
              "      <td>A</td>\n",
              "      <td>9875061</td>\n",
              "      <td>54</td>\n",
              "      <td>283</td>\n",
              "    </tr>\n",
              "  </tbody>\n",
              "</table>\n",
              "</div>"
            ],
            "text/plain": [
              "       #YYY/MM/DD  HH:mm:SS.ss  ET GT   MAG  M       LAT        LON  DEPTH  Q  \\\n",
              "70793  2002/12/29  19:37:24.56  eq  l  2.21  l  35.31400 -118.66767    3.7  A   \n",
              "70794  2002/12/29  20:17:33.40  eq  l  2.02  l  35.32133 -118.66000    1.8  A   \n",
              "70795  2002/12/29  20:21:28.73  eq  l  2.07  l  35.32150 -118.66617    1.9  A   \n",
              "70796  2002/12/30  21:51:52.55  eq  l  2.31  l  35.31867 -118.66250    1.5  A   \n",
              "70797  2002/12/30  23:38:49.79  eq  l  2.05  l  35.31450 -118.66333    1.9  A   \n",
              "\n",
              "          EVID  NPH  NGRM  \n",
              "70793  9874709   25   948  \n",
              "70794  9874745   48   245  \n",
              "70795  9874749   53   277  \n",
              "70796  9875017   66   404  \n",
              "70797  9875061   54   283  "
            ]
          },
          "execution_count": 5,
          "metadata": {},
          "output_type": "execute_result"
        }
      ],
      "source": [
        "earthquakes.tail()"
      ]
    },
    {
      "cell_type": "code",
      "execution_count": 6,
      "metadata": {
        "colab": {
          "base_uri": "https://localhost:8080/",
          "height": 458
        },
        "id": "wq0iI6mQQfi2",
        "outputId": "29e4335d-7d65-4b20-b4ac-bddfad511b6b"
      },
      "outputs": [
        {
          "data": {
            "text/plain": [
              "0        2.02\n",
              "1        2.12\n",
              "2        2.43\n",
              "3        2.07\n",
              "4        2.13\n",
              "         ... \n",
              "70793    2.21\n",
              "70794    2.02\n",
              "70795    2.07\n",
              "70796    2.31\n",
              "70797    2.05\n",
              "Name: MAG, Length: 70798, dtype: float64"
            ]
          },
          "execution_count": 6,
          "metadata": {},
          "output_type": "execute_result"
        }
      ],
      "source": [
        "earthquakes.MAG"
      ]
    },
    {
      "cell_type": "code",
      "execution_count": 7,
      "metadata": {
        "colab": {
          "base_uri": "https://localhost:8080/"
        },
        "id": "NKkJ_QgvP6tY",
        "outputId": "45ca569a-7ee2-4aa3-fb14-99012aac90c5"
      },
      "outputs": [
        {
          "data": {
            "text/plain": [
              "Index(['#YYY/MM/DD', 'HH:mm:SS.ss', 'ET', 'GT', 'MAG', 'M', 'LAT', 'LON',\n",
              "       'DEPTH', 'Q', 'EVID', 'NPH', 'NGRM'],\n",
              "      dtype='object')"
            ]
          },
          "execution_count": 7,
          "metadata": {},
          "output_type": "execute_result"
        }
      ],
      "source": [
        "earthquakes.columns"
      ]
    },
    {
      "cell_type": "code",
      "execution_count": 8,
      "metadata": {
        "id": "Dg_LqrfGQKG_"
      },
      "outputs": [],
      "source": [
        "earthquakes = earthquakes[['#YYY/MM/DD', 'HH:mm:SS.ss', \"MAG\"]]"
      ]
    },
    {
      "cell_type": "code",
      "execution_count": 9,
      "metadata": {
        "colab": {
          "base_uri": "https://localhost:8080/",
          "height": 178
        },
        "id": "YVO5yW9YQwym",
        "outputId": "9a4c57ac-f76d-493f-fb8f-d9c50ded6882"
      },
      "outputs": [
        {
          "data": {
            "text/plain": [
              "#YYY/MM/DD      object\n",
              "HH:mm:SS.ss     object\n",
              "MAG            float64\n",
              "dtype: object"
            ]
          },
          "execution_count": 9,
          "metadata": {},
          "output_type": "execute_result"
        }
      ],
      "source": [
        "earthquakes.dtypes"
      ]
    },
    {
      "cell_type": "code",
      "execution_count": 10,
      "metadata": {
        "id": "cf_L7ezGQ9mT"
      },
      "outputs": [],
      "source": [
        "earthquakes.rename({\"#YYY/MM/DD\": \"date\", \"HH:mm:SS.ss\": \"time\", \"MAG\":\"mag\" },\n",
        "                   axis=1, inplace=True)"
      ]
    },
    {
      "cell_type": "code",
      "execution_count": 11,
      "metadata": {
        "colab": {
          "base_uri": "https://localhost:8080/",
          "height": 423
        },
        "id": "p8K8TrB7Shn8",
        "outputId": "0187a6b4-dbcc-42fa-f1d9-988f32f1a3ac"
      },
      "outputs": [
        {
          "data": {
            "text/html": [
              "<div>\n",
              "<style scoped>\n",
              "    .dataframe tbody tr th:only-of-type {\n",
              "        vertical-align: middle;\n",
              "    }\n",
              "\n",
              "    .dataframe tbody tr th {\n",
              "        vertical-align: top;\n",
              "    }\n",
              "\n",
              "    .dataframe thead th {\n",
              "        text-align: right;\n",
              "    }\n",
              "</style>\n",
              "<table border=\"1\" class=\"dataframe\">\n",
              "  <thead>\n",
              "    <tr style=\"text-align: right;\">\n",
              "      <th></th>\n",
              "      <th>date</th>\n",
              "      <th>time</th>\n",
              "      <th>mag</th>\n",
              "    </tr>\n",
              "  </thead>\n",
              "  <tbody>\n",
              "    <tr>\n",
              "      <th>0</th>\n",
              "      <td>1984/01/01</td>\n",
              "      <td>01:30:57.52</td>\n",
              "      <td>2.02</td>\n",
              "    </tr>\n",
              "    <tr>\n",
              "      <th>1</th>\n",
              "      <td>1984/01/01</td>\n",
              "      <td>05:31:34.16</td>\n",
              "      <td>2.12</td>\n",
              "    </tr>\n",
              "    <tr>\n",
              "      <th>2</th>\n",
              "      <td>1984/01/01</td>\n",
              "      <td>06:59:05.14</td>\n",
              "      <td>2.43</td>\n",
              "    </tr>\n",
              "    <tr>\n",
              "      <th>3</th>\n",
              "      <td>1984/01/01</td>\n",
              "      <td>11:10:25.29</td>\n",
              "      <td>2.07</td>\n",
              "    </tr>\n",
              "    <tr>\n",
              "      <th>4</th>\n",
              "      <td>1984/01/01</td>\n",
              "      <td>19:38:19.79</td>\n",
              "      <td>2.13</td>\n",
              "    </tr>\n",
              "    <tr>\n",
              "      <th>...</th>\n",
              "      <td>...</td>\n",
              "      <td>...</td>\n",
              "      <td>...</td>\n",
              "    </tr>\n",
              "    <tr>\n",
              "      <th>70793</th>\n",
              "      <td>2002/12/29</td>\n",
              "      <td>19:37:24.56</td>\n",
              "      <td>2.21</td>\n",
              "    </tr>\n",
              "    <tr>\n",
              "      <th>70794</th>\n",
              "      <td>2002/12/29</td>\n",
              "      <td>20:17:33.40</td>\n",
              "      <td>2.02</td>\n",
              "    </tr>\n",
              "    <tr>\n",
              "      <th>70795</th>\n",
              "      <td>2002/12/29</td>\n",
              "      <td>20:21:28.73</td>\n",
              "      <td>2.07</td>\n",
              "    </tr>\n",
              "    <tr>\n",
              "      <th>70796</th>\n",
              "      <td>2002/12/30</td>\n",
              "      <td>21:51:52.55</td>\n",
              "      <td>2.31</td>\n",
              "    </tr>\n",
              "    <tr>\n",
              "      <th>70797</th>\n",
              "      <td>2002/12/30</td>\n",
              "      <td>23:38:49.79</td>\n",
              "      <td>2.05</td>\n",
              "    </tr>\n",
              "  </tbody>\n",
              "</table>\n",
              "<p>70798 rows × 3 columns</p>\n",
              "</div>"
            ],
            "text/plain": [
              "             date         time   mag\n",
              "0      1984/01/01  01:30:57.52  2.02\n",
              "1      1984/01/01  05:31:34.16  2.12\n",
              "2      1984/01/01  06:59:05.14  2.43\n",
              "3      1984/01/01  11:10:25.29  2.07\n",
              "4      1984/01/01  19:38:19.79  2.13\n",
              "...           ...          ...   ...\n",
              "70793  2002/12/29  19:37:24.56  2.21\n",
              "70794  2002/12/29  20:17:33.40  2.02\n",
              "70795  2002/12/29  20:21:28.73  2.07\n",
              "70796  2002/12/30  21:51:52.55  2.31\n",
              "70797  2002/12/30  23:38:49.79  2.05\n",
              "\n",
              "[70798 rows x 3 columns]"
            ]
          },
          "execution_count": 11,
          "metadata": {},
          "output_type": "execute_result"
        }
      ],
      "source": [
        "earthquakes"
      ]
    },
    {
      "cell_type": "code",
      "execution_count": 12,
      "metadata": {
        "colab": {
          "base_uri": "https://localhost:8080/",
          "height": 423
        },
        "id": "W6MXuH9hTBd5",
        "outputId": "8ccd57bc-6755-4aa0-b17b-bfbca7fa3e6f"
      },
      "outputs": [
        {
          "data": {
            "text/html": [
              "<div>\n",
              "<style scoped>\n",
              "    .dataframe tbody tr th:only-of-type {\n",
              "        vertical-align: middle;\n",
              "    }\n",
              "\n",
              "    .dataframe tbody tr th {\n",
              "        vertical-align: top;\n",
              "    }\n",
              "\n",
              "    .dataframe thead th {\n",
              "        text-align: right;\n",
              "    }\n",
              "</style>\n",
              "<table border=\"1\" class=\"dataframe\">\n",
              "  <thead>\n",
              "    <tr style=\"text-align: right;\">\n",
              "      <th></th>\n",
              "      <th>date</th>\n",
              "      <th>time</th>\n",
              "      <th>mag</th>\n",
              "    </tr>\n",
              "  </thead>\n",
              "  <tbody>\n",
              "    <tr>\n",
              "      <th>0</th>\n",
              "      <td>1984/01/01</td>\n",
              "      <td>01:30:57.52</td>\n",
              "      <td>2.02</td>\n",
              "    </tr>\n",
              "    <tr>\n",
              "      <th>1</th>\n",
              "      <td>1984/01/01</td>\n",
              "      <td>05:31:34.16</td>\n",
              "      <td>2.12</td>\n",
              "    </tr>\n",
              "    <tr>\n",
              "      <th>2</th>\n",
              "      <td>1984/01/01</td>\n",
              "      <td>06:59:05.14</td>\n",
              "      <td>2.43</td>\n",
              "    </tr>\n",
              "    <tr>\n",
              "      <th>3</th>\n",
              "      <td>1984/01/01</td>\n",
              "      <td>11:10:25.29</td>\n",
              "      <td>2.07</td>\n",
              "    </tr>\n",
              "    <tr>\n",
              "      <th>4</th>\n",
              "      <td>1984/01/01</td>\n",
              "      <td>19:38:19.79</td>\n",
              "      <td>2.13</td>\n",
              "    </tr>\n",
              "    <tr>\n",
              "      <th>...</th>\n",
              "      <td>...</td>\n",
              "      <td>...</td>\n",
              "      <td>...</td>\n",
              "    </tr>\n",
              "    <tr>\n",
              "      <th>70793</th>\n",
              "      <td>2002/12/29</td>\n",
              "      <td>19:37:24.56</td>\n",
              "      <td>2.21</td>\n",
              "    </tr>\n",
              "    <tr>\n",
              "      <th>70794</th>\n",
              "      <td>2002/12/29</td>\n",
              "      <td>20:17:33.40</td>\n",
              "      <td>2.02</td>\n",
              "    </tr>\n",
              "    <tr>\n",
              "      <th>70795</th>\n",
              "      <td>2002/12/29</td>\n",
              "      <td>20:21:28.73</td>\n",
              "      <td>2.07</td>\n",
              "    </tr>\n",
              "    <tr>\n",
              "      <th>70796</th>\n",
              "      <td>2002/12/30</td>\n",
              "      <td>21:51:52.55</td>\n",
              "      <td>2.31</td>\n",
              "    </tr>\n",
              "    <tr>\n",
              "      <th>70797</th>\n",
              "      <td>2002/12/30</td>\n",
              "      <td>23:38:49.79</td>\n",
              "      <td>2.05</td>\n",
              "    </tr>\n",
              "  </tbody>\n",
              "</table>\n",
              "<p>70798 rows × 3 columns</p>\n",
              "</div>"
            ],
            "text/plain": [
              "             date         time   mag\n",
              "0      1984/01/01  01:30:57.52  2.02\n",
              "1      1984/01/01  05:31:34.16  2.12\n",
              "2      1984/01/01  06:59:05.14  2.43\n",
              "3      1984/01/01  11:10:25.29  2.07\n",
              "4      1984/01/01  19:38:19.79  2.13\n",
              "...           ...          ...   ...\n",
              "70793  2002/12/29  19:37:24.56  2.21\n",
              "70794  2002/12/29  20:17:33.40  2.02\n",
              "70795  2002/12/29  20:21:28.73  2.07\n",
              "70796  2002/12/30  21:51:52.55  2.31\n",
              "70797  2002/12/30  23:38:49.79  2.05\n",
              "\n",
              "[70798 rows x 3 columns]"
            ]
          },
          "execution_count": 12,
          "metadata": {},
          "output_type": "execute_result"
        }
      ],
      "source": [
        "earthquakes.rename({\"#YYY/MM/DD\": \"date\", \"HH:mm:SS.ss\": \"time\", \"MAG\":\"mag\" },\n",
        "                   axis=1)"
      ]
    },
    {
      "cell_type": "code",
      "execution_count": 13,
      "metadata": {
        "colab": {
          "base_uri": "https://localhost:8080/",
          "height": 300
        },
        "id": "gAQ1W1RgTYaE",
        "outputId": "e80ac308-6aa9-41ff-fa35-79c5200516b5"
      },
      "outputs": [
        {
          "data": {
            "text/html": [
              "<div>\n",
              "<style scoped>\n",
              "    .dataframe tbody tr th:only-of-type {\n",
              "        vertical-align: middle;\n",
              "    }\n",
              "\n",
              "    .dataframe tbody tr th {\n",
              "        vertical-align: top;\n",
              "    }\n",
              "\n",
              "    .dataframe thead th {\n",
              "        text-align: right;\n",
              "    }\n",
              "</style>\n",
              "<table border=\"1\" class=\"dataframe\">\n",
              "  <thead>\n",
              "    <tr style=\"text-align: right;\">\n",
              "      <th></th>\n",
              "      <th>mag</th>\n",
              "    </tr>\n",
              "  </thead>\n",
              "  <tbody>\n",
              "    <tr>\n",
              "      <th>count</th>\n",
              "      <td>70798.000000</td>\n",
              "    </tr>\n",
              "    <tr>\n",
              "      <th>mean</th>\n",
              "      <td>2.417826</td>\n",
              "    </tr>\n",
              "    <tr>\n",
              "      <th>std</th>\n",
              "      <td>0.407683</td>\n",
              "    </tr>\n",
              "    <tr>\n",
              "      <th>min</th>\n",
              "      <td>2.000000</td>\n",
              "    </tr>\n",
              "    <tr>\n",
              "      <th>25%</th>\n",
              "      <td>2.120000</td>\n",
              "    </tr>\n",
              "    <tr>\n",
              "      <th>50%</th>\n",
              "      <td>2.300000</td>\n",
              "    </tr>\n",
              "    <tr>\n",
              "      <th>75%</th>\n",
              "      <td>2.590000</td>\n",
              "    </tr>\n",
              "    <tr>\n",
              "      <th>max</th>\n",
              "      <td>7.100000</td>\n",
              "    </tr>\n",
              "  </tbody>\n",
              "</table>\n",
              "</div>"
            ],
            "text/plain": [
              "                mag\n",
              "count  70798.000000\n",
              "mean       2.417826\n",
              "std        0.407683\n",
              "min        2.000000\n",
              "25%        2.120000\n",
              "50%        2.300000\n",
              "75%        2.590000\n",
              "max        7.100000"
            ]
          },
          "execution_count": 13,
          "metadata": {},
          "output_type": "execute_result"
        }
      ],
      "source": [
        "earthquakes.describe()"
      ]
    },
    {
      "cell_type": "code",
      "execution_count": 14,
      "metadata": {
        "colab": {
          "base_uri": "https://localhost:8080/"
        },
        "id": "i_SNWjHDTrSt",
        "outputId": "b8229bd3-f89c-4e1e-e07c-5afd88038115"
      },
      "outputs": [
        {
          "data": {
            "text/plain": [
              "Timestamp('2002-12-29 01:30:57.520000')"
            ]
          },
          "execution_count": 14,
          "metadata": {},
          "output_type": "execute_result"
        }
      ],
      "source": [
        "pd.to_datetime(\"2002/12/29\" + \" \" + \"01:30:57.52\")"
      ]
    },
    {
      "cell_type": "code",
      "execution_count": 15,
      "metadata": {
        "colab": {
          "base_uri": "https://localhost:8080/",
          "height": 458
        },
        "id": "woWtc7cqUZ6C",
        "outputId": "28db250a-9f68-4f2c-c678-f91f49f69ebb"
      },
      "outputs": [],
      "source": [
        "earthquakes[\"newdate\"] = earthquakes[\"date\"].map(pd.to_datetime)"
      ]
    },
    {
      "cell_type": "code",
      "execution_count": 16,
      "metadata": {},
      "outputs": [],
      "source": [
        "earthquakes['datetime'] = earthquakes['date'] + ' ' + earthquakes['time']"
      ]
    },
    {
      "cell_type": "code",
      "execution_count": 17,
      "metadata": {},
      "outputs": [
        {
          "ename": "SyntaxError",
          "evalue": "'(' was never closed (3105505519.py, line 3)",
          "output_type": "error",
          "traceback": [
            "  \u001b[36mCell\u001b[39m\u001b[36m \u001b[39m\u001b[32mIn[17]\u001b[39m\u001b[32m, line 3\u001b[39m\n\u001b[31m    \u001b[39m\u001b[31mprint(earthquakes.loc[i, 'time'][:6] + '59.99'\u001b[39m\n         ^\n\u001b[31mSyntaxError\u001b[39m\u001b[31m:\u001b[39m '(' was never closed\n"
          ]
        }
      ],
      "source": [
        "for i in earthquakes.index:\n",
        "    if earthquakes.loc[i, 'time'].endswith('60.00') :\n",
        "        print(earthquakes.loc[i, 'time'][:6] + '59.99'\n",
        "        # earthquakes.loc[i, 'time'] = earthquakes.loc[i, 'time'][:6] + '59.99'\n",
        "\n",
        "        \n",
        "earthquakes['newdatetime'] = earthquakes['datetime'].map(pd.to_datetime)"
      ]
    },
    {
      "cell_type": "code",
      "execution_count": null,
      "metadata": {},
      "outputs": [],
      "source": []
    }
  ],
  "metadata": {
    "colab": {
      "authorship_tag": "ABX9TyMpPj1IB3DX87/zXga5sAMq",
      "include_colab_link": true,
      "provenance": []
    },
    "kernelspec": {
      "display_name": "Python 3",
      "name": "python3"
    },
    "language_info": {
      "codemirror_mode": {
        "name": "ipython",
        "version": 3
      },
      "file_extension": ".py",
      "mimetype": "text/x-python",
      "name": "python",
      "nbconvert_exporter": "python",
      "pygments_lexer": "ipython3",
      "version": "3.13.7"
    }
  },
  "nbformat": 4,
  "nbformat_minor": 0
}
