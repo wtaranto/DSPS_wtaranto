{
  "cells": [
    {
      "cell_type": "markdown",
      "metadata": {
        "id": "Uk3iBT7phXry"
      },
      "source": [
        "Created by FedericaBBianco @fedhere for DSPS/MLNPS\n",
        "# Kolmogorov Smirnoff test, application to earthquake data"
      ]
    },
    {
      "cell_type": "code",
      "execution_count": 1,
      "metadata": {
        "ExecuteTime": {
          "end_time": "2019-09-09T01:40:01.895798Z",
          "start_time": "2019-09-09T01:40:01.890474Z"
        },
        "id": "LS78mdVthXrz"
      },
      "outputs": [],
      "source": [
        "#all the imports I needed\n",
        "import numpy as np\n",
        "import pandas as pd\n",
        "import pylab as pl\n",
        "import scipy as sp\n",
        "from scipy import stats\n",
        "import matplotlib.pyplot as plt\n",
        "import matplotlib.gridspec as gridspec\n",
        "#%pylab inline\n",
        "#pl.style.use(\"https://raw.githubusercontent.com/fedhere/DSPS/master/fbb.mplstyle\")"
      ]
    },
    {
      "cell_type": "markdown",
      "metadata": {
        "id": "SvIJHRyuhXr2"
      },
      "source": [
        "This homework asks you to reproduce the work in [Corral 2018](https://arxiv.org/pdf/0910.0055.pdf) which is well described, but not \"reproducible\".\n",
        "Corral 2018 uses a K-S test to show that at different magnitude scales the time gaps between earthquakes follows the same distribution. If true, this indicates that there is a consistent scaling law.\n",
        "\n",
        "The argument is a little convoluted, but it is a somewhat innovative use of the test. Corall compares the time gap between earthquakes  greater than a certain magnitude threshold with the time gaps between earthquakes above a different threshold, and finds no differences.\n",
        "\n",
        "Remind yourself exactly what the K-S test is about :\n",
        "\n",
        "    1 What is the test's Null Hypothsis that the K-S test tests?\n",
        "    \n",
        "    \n"
      ]
    },
    {
      "cell_type": "markdown",
      "metadata": {
        "id": "y8DJjYrthXr3"
      },
      "source": [
        "One Sample: the measured sample comes from a proposed distribution.\n",
        "\n",
        "\n",
        "Two Samples: two measured samples come from the same unspecified distribution.\n",
        "\n",
        "**NOTE**: For these tests the 'aim' of the experiment isn't to reject the null hypothesis but to fail to reject it."
      ]
    },
    {
      "cell_type": "markdown",
      "metadata": {
        "id": "V8T9XH7nhXr3"
      },
      "source": [
        "    2 What is the \"statistic\" or \"pivotal quantity\" that the test uses?\n",
        "    \n"
      ]
    },
    {
      "cell_type": "markdown",
      "metadata": {
        "ExecuteTime": {
          "end_time": "2019-09-08T21:14:09.757045Z",
          "start_time": "2019-09-08T21:14:09.753882Z"
        },
        "id": "jSSktfhAhXr4"
      },
      "source": [
        "One Sample: $d_{1}=\\max_x |C_1(x) - C(x)|$\n",
        "\n",
        "Two Sample: $d_{1,2}=\\max_x|C_1(x)-C_2(x)|$\n",
        "\n",
        "where $C_{\\{1,2\\}}(x)$ are the cumulative probability distribution of a measured dataset, and $C(x)$ is a proposed distribution (predecided).\n"
      ]
    },
    {
      "cell_type": "markdown",
      "metadata": {
        "ExecuteTime": {
          "end_time": "2019-09-08T21:14:43.709157Z",
          "start_time": "2019-09-08T21:14:43.704734Z"
        },
        "id": "IYoQgG1BhXr4"
      },
      "source": [
        "    3 What does the probability distribution of this statistic depend on?\n",
        "    \n",
        "   \n"
      ]
    },
    {
      "cell_type": "markdown",
      "metadata": {
        "id": "ak74uTIrhXr5"
      },
      "source": [
        "Two Sample: $P(d>D)=2\\sum_{j=1}^\\infty (-1)^{j+1}e^{-2j^2x^2}\\sqrt{\\frac{N_1N_2}{N_1+N_2}D}$\n",
        "\n",
        "where $D$ is the observed pivotal quantity and $d$ is the 'true' pivotal quantity.\n",
        "    "
      ]
    },
    {
      "cell_type": "markdown",
      "metadata": {
        "id": "M-h5uhgfhXr6"
      },
      "source": [
        "# PART I:  Data Retrival"
      ]
    },
    {
      "cell_type": "markdown",
      "metadata": {
        "id": "7TW_8XaNhXr6"
      },
      "source": [
        "The first reason why the paper is not techincally _reproducible_ is that, while a link is provided to retrieve the data, the link is dead. This happens often. Services like [Zenodo](https://zenodo.org/) or journals that serve data provide some insurance against this but unfortunately the standards are not strict."
      ]
    },
    {
      "cell_type": "markdown",
      "metadata": {
        "id": "Bt6gDmQJhXr7"
      },
      "source": [
        "You can retrieve the data yourself from [this website](http://service.scedc.caltech.edu/eq-catalogs/poly.php). Think about what setting up data like this means for reproducibility. Did the author comply to reproducibility standards?__ Make sure the number of entries in your final dataset is similar to that of the authors. I got 70798, instead of 77000. 10% off, which I deem close enough. You should get something similar. Use the map in the paper to determine the region of interest. Call the file earthquakes_\\<firstinitialLastname\\>.csv and upload it to your github repository. Read it your file, instead of mine as instructed below. If you are getting weird results compare to what I got, go back and check how the files differ."
      ]
    },
    {
      "cell_type": "markdown",
      "metadata": {
        "id": "eCiLW1AuhXr7"
      },
      "source": [
        "# Data Ingestion"
      ]
    },
    {
      "cell_type": "markdown",
      "metadata": {
        "id": "FH0X7d9_hXr8"
      },
      "source": [
        "## read in data"
      ]
    },
    {
      "cell_type": "markdown",
      "metadata": {
        "id": "XbMPVaK-hXr9"
      },
      "source": [
        "I saved the data in a file called \"earthquakes.csv\", where ```csv``` stands for \"comma separated file\". [This file format](https://www.howtogeek.com/348960/what-is-a-csv-file-and-how-do-i-open-it/) requires different entries in a row to be separated by commas alone (no space) and for commas to be used in quote if they are not intended to separate entries.\n",
        "\n",
        "```\n",
        "a,b,c\n",
        "d,e,f\n",
        "g,\"h,2\",i\n",
        "```\n",
        "The data is uploaded on the  github homework repository but to read it in you will need to get the link to the *raw file*: the link to the file earthquakes.csv which is in my GitHub repository https://github.com/fedhere/DSPS_FBianco/tree/main/data takes you to an ```html``` page that includes the content of the file, but you want to isolate the content of the file itself: the _raw file_. Pay attention to this: from the next time I will not give you the exact link, I will just point you to the file and you will have to find the link to the raw data from there. (remember to use the \"raw\" link)\n",
        "\n",
        "The data can be read effectively using the _pandas_ python package as ```pandas.read_csv(<file name or URL>)```.\n",
        "\n",
        "However, I did not format the data correctly, according to the csv extension requirement. This happens all the time. Look at the file and use the pandas documentation to figure out how to read it with ```pd.read_csv()```"
      ]
    },
    {
      "cell_type": "code",
      "execution_count": 2,
      "metadata": {
        "ExecuteTime": {
          "end_time": "2019-09-09T01:40:02.638703Z",
          "start_time": "2019-09-09T01:40:02.454643Z"
        },
        "id": "hOEZafxahXr9"
      },
      "outputs": [],
      "source": [
        "eqdata = pd.read_csv('https://raw.githubusercontent.com/fedhere/DSPS_FBianco/refs/heads/main/data/earthquakes.csv', sep=r'\\s+')\n"
      ]
    },
    {
      "cell_type": "markdown",
      "metadata": {
        "id": "r0IW9m4vhXr_"
      },
      "source": [
        "running the following lines of code should give you the same result as mine if you used the file I provided (467 students), and qualitatively  similar if you are using your own data (667 students)"
      ]
    },
    {
      "cell_type": "code",
      "execution_count": 3,
      "metadata": {
        "ExecuteTime": {
          "end_time": "2019-09-09T01:40:02.643428Z",
          "start_time": "2019-09-09T01:40:02.640847Z"
        },
        "colab": {
          "base_uri": "https://localhost:8080/"
        },
        "id": "uphAqv5ZhXsA",
        "outputId": "75a47585-620f-4630-ca10-517ea968bb37"
      },
      "outputs": [
        {
          "data": {
            "text/plain": [
              "(70798, 13)"
            ]
          },
          "execution_count": 3,
          "metadata": {},
          "output_type": "execute_result"
        }
      ],
      "source": [
        "#note: the number of columns may be different depending on how you read the data in. The number of ROWs MUST be the same\n",
        "eqdata.shape #also note: in class we used a different name for the dataframe\n",
        "# eqdata = eqdata.sample(1000)"
      ]
    },
    {
      "cell_type": "code",
      "execution_count": 4,
      "metadata": {
        "ExecuteTime": {
          "end_time": "2019-09-09T01:40:02.661139Z",
          "start_time": "2019-09-09T01:40:02.644720Z"
        },
        "colab": {
          "base_uri": "https://localhost:8080/",
          "height": 206
        },
        "id": "9CHqm426hXsC",
        "outputId": "faf7d937-4f13-4f72-ad86-6c62d9af583b"
      },
      "outputs": [
        {
          "data": {
            "text/html": [
              "<div>\n",
              "<style scoped>\n",
              "    .dataframe tbody tr th:only-of-type {\n",
              "        vertical-align: middle;\n",
              "    }\n",
              "\n",
              "    .dataframe tbody tr th {\n",
              "        vertical-align: top;\n",
              "    }\n",
              "\n",
              "    .dataframe thead th {\n",
              "        text-align: right;\n",
              "    }\n",
              "</style>\n",
              "<table border=\"1\" class=\"dataframe\">\n",
              "  <thead>\n",
              "    <tr style=\"text-align: right;\">\n",
              "      <th></th>\n",
              "      <th>#YYY/MM/DD</th>\n",
              "      <th>HH:mm:SS.ss</th>\n",
              "      <th>ET</th>\n",
              "      <th>GT</th>\n",
              "      <th>MAG</th>\n",
              "      <th>M</th>\n",
              "      <th>LAT</th>\n",
              "      <th>LON</th>\n",
              "      <th>DEPTH</th>\n",
              "      <th>Q</th>\n",
              "      <th>EVID</th>\n",
              "      <th>NPH</th>\n",
              "      <th>NGRM</th>\n",
              "    </tr>\n",
              "  </thead>\n",
              "  <tbody>\n",
              "    <tr>\n",
              "      <th>0</th>\n",
              "      <td>1984/01/01</td>\n",
              "      <td>01:30:57.52</td>\n",
              "      <td>eq</td>\n",
              "      <td>l</td>\n",
              "      <td>2.02</td>\n",
              "      <td>c</td>\n",
              "      <td>33.246</td>\n",
              "      <td>-116.433</td>\n",
              "      <td>1.6</td>\n",
              "      <td>C</td>\n",
              "      <td>28255</td>\n",
              "      <td>13</td>\n",
              "      <td>17</td>\n",
              "    </tr>\n",
              "    <tr>\n",
              "      <th>1</th>\n",
              "      <td>1984/01/01</td>\n",
              "      <td>05:31:34.16</td>\n",
              "      <td>eq</td>\n",
              "      <td>l</td>\n",
              "      <td>2.12</td>\n",
              "      <td>c</td>\n",
              "      <td>32.945</td>\n",
              "      <td>-116.295</td>\n",
              "      <td>5.4</td>\n",
              "      <td>C</td>\n",
              "      <td>28259</td>\n",
              "      <td>18</td>\n",
              "      <td>42</td>\n",
              "    </tr>\n",
              "    <tr>\n",
              "      <th>2</th>\n",
              "      <td>1984/01/01</td>\n",
              "      <td>06:59:05.14</td>\n",
              "      <td>eq</td>\n",
              "      <td>l</td>\n",
              "      <td>2.43</td>\n",
              "      <td>c</td>\n",
              "      <td>33.343</td>\n",
              "      <td>-117.628</td>\n",
              "      <td>5.6</td>\n",
              "      <td>C</td>\n",
              "      <td>28260</td>\n",
              "      <td>13</td>\n",
              "      <td>30</td>\n",
              "    </tr>\n",
              "    <tr>\n",
              "      <th>3</th>\n",
              "      <td>1984/01/01</td>\n",
              "      <td>11:10:25.29</td>\n",
              "      <td>eq</td>\n",
              "      <td>l</td>\n",
              "      <td>2.07</td>\n",
              "      <td>c</td>\n",
              "      <td>33.668</td>\n",
              "      <td>-116.780</td>\n",
              "      <td>13.8</td>\n",
              "      <td>C</td>\n",
              "      <td>28270</td>\n",
              "      <td>19</td>\n",
              "      <td>40</td>\n",
              "    </tr>\n",
              "    <tr>\n",
              "      <th>4</th>\n",
              "      <td>1984/01/01</td>\n",
              "      <td>19:38:19.79</td>\n",
              "      <td>eq</td>\n",
              "      <td>l</td>\n",
              "      <td>2.13</td>\n",
              "      <td>c</td>\n",
              "      <td>33.963</td>\n",
              "      <td>-116.290</td>\n",
              "      <td>2.7</td>\n",
              "      <td>C</td>\n",
              "      <td>28553</td>\n",
              "      <td>40</td>\n",
              "      <td>49</td>\n",
              "    </tr>\n",
              "  </tbody>\n",
              "</table>\n",
              "</div>"
            ],
            "text/plain": [
              "   #YYY/MM/DD  HH:mm:SS.ss  ET GT   MAG  M     LAT      LON  DEPTH  Q   EVID  \\\n",
              "0  1984/01/01  01:30:57.52  eq  l  2.02  c  33.246 -116.433    1.6  C  28255   \n",
              "1  1984/01/01  05:31:34.16  eq  l  2.12  c  32.945 -116.295    5.4  C  28259   \n",
              "2  1984/01/01  06:59:05.14  eq  l  2.43  c  33.343 -117.628    5.6  C  28260   \n",
              "3  1984/01/01  11:10:25.29  eq  l  2.07  c  33.668 -116.780   13.8  C  28270   \n",
              "4  1984/01/01  19:38:19.79  eq  l  2.13  c  33.963 -116.290    2.7  C  28553   \n",
              "\n",
              "   NPH  NGRM  \n",
              "0   13    17  \n",
              "1   18    42  \n",
              "2   13    30  \n",
              "3   19    40  \n",
              "4   40    49  "
            ]
          },
          "execution_count": 4,
          "metadata": {},
          "output_type": "execute_result"
        }
      ],
      "source": [
        "eqdata.head()"
      ]
    },
    {
      "cell_type": "code",
      "execution_count": 5,
      "metadata": {
        "ExecuteTime": {
          "end_time": "2019-09-09T01:40:02.759957Z",
          "start_time": "2019-09-09T01:40:02.662327Z"
        },
        "colab": {
          "base_uri": "https://localhost:8080/",
          "height": 300
        },
        "id": "405C-Y8_hXsD",
        "outputId": "49584aaf-36e5-448f-c9db-5cc4c84f36ee"
      },
      "outputs": [
        {
          "data": {
            "text/html": [
              "<div>\n",
              "<style scoped>\n",
              "    .dataframe tbody tr th:only-of-type {\n",
              "        vertical-align: middle;\n",
              "    }\n",
              "\n",
              "    .dataframe tbody tr th {\n",
              "        vertical-align: top;\n",
              "    }\n",
              "\n",
              "    .dataframe thead th {\n",
              "        text-align: right;\n",
              "    }\n",
              "</style>\n",
              "<table border=\"1\" class=\"dataframe\">\n",
              "  <thead>\n",
              "    <tr style=\"text-align: right;\">\n",
              "      <th></th>\n",
              "      <th>MAG</th>\n",
              "      <th>LAT</th>\n",
              "      <th>LON</th>\n",
              "      <th>DEPTH</th>\n",
              "      <th>EVID</th>\n",
              "      <th>NPH</th>\n",
              "      <th>NGRM</th>\n",
              "    </tr>\n",
              "  </thead>\n",
              "  <tbody>\n",
              "    <tr>\n",
              "      <th>count</th>\n",
              "      <td>70798.000000</td>\n",
              "      <td>70798.000000</td>\n",
              "      <td>70798.00000</td>\n",
              "      <td>70798.000000</td>\n",
              "      <td>7.079800e+04</td>\n",
              "      <td>70798.000000</td>\n",
              "      <td>70798.000000</td>\n",
              "    </tr>\n",
              "    <tr>\n",
              "      <th>mean</th>\n",
              "      <td>2.417826</td>\n",
              "      <td>33.977749</td>\n",
              "      <td>-116.88145</td>\n",
              "      <td>5.707677</td>\n",
              "      <td>3.699163e+06</td>\n",
              "      <td>30.424376</td>\n",
              "      <td>175.725049</td>\n",
              "    </tr>\n",
              "    <tr>\n",
              "      <th>std</th>\n",
              "      <td>0.407683</td>\n",
              "      <td>1.156586</td>\n",
              "      <td>1.07667</td>\n",
              "      <td>3.842620</td>\n",
              "      <td>3.495378e+06</td>\n",
              "      <td>22.374143</td>\n",
              "      <td>226.196774</td>\n",
              "    </tr>\n",
              "    <tr>\n",
              "      <th>min</th>\n",
              "      <td>2.000000</td>\n",
              "      <td>30.094830</td>\n",
              "      <td>-121.76000</td>\n",
              "      <td>0.000000</td>\n",
              "      <td>2.825500e+04</td>\n",
              "      <td>0.000000</td>\n",
              "      <td>0.000000</td>\n",
              "    </tr>\n",
              "    <tr>\n",
              "      <th>25%</th>\n",
              "      <td>2.120000</td>\n",
              "      <td>33.061000</td>\n",
              "      <td>-117.69200</td>\n",
              "      <td>3.100000</td>\n",
              "      <td>7.380962e+05</td>\n",
              "      <td>15.000000</td>\n",
              "      <td>59.000000</td>\n",
              "    </tr>\n",
              "    <tr>\n",
              "      <th>50%</th>\n",
              "      <td>2.300000</td>\n",
              "      <td>34.056750</td>\n",
              "      <td>-116.59000</td>\n",
              "      <td>5.300000</td>\n",
              "      <td>3.049477e+06</td>\n",
              "      <td>24.000000</td>\n",
              "      <td>111.000000</td>\n",
              "    </tr>\n",
              "    <tr>\n",
              "      <th>75%</th>\n",
              "      <td>2.590000</td>\n",
              "      <td>34.591000</td>\n",
              "      <td>-116.25100</td>\n",
              "      <td>6.900000</td>\n",
              "      <td>3.325926e+06</td>\n",
              "      <td>39.000000</td>\n",
              "      <td>211.000000</td>\n",
              "    </tr>\n",
              "    <tr>\n",
              "      <th>max</th>\n",
              "      <td>7.100000</td>\n",
              "      <td>37.985500</td>\n",
              "      <td>-113.71900</td>\n",
              "      <td>29.300000</td>\n",
              "      <td>3.736673e+07</td>\n",
              "      <td>406.000000</td>\n",
              "      <td>3815.000000</td>\n",
              "    </tr>\n",
              "  </tbody>\n",
              "</table>\n",
              "</div>"
            ],
            "text/plain": [
              "                MAG           LAT          LON         DEPTH          EVID  \\\n",
              "count  70798.000000  70798.000000  70798.00000  70798.000000  7.079800e+04   \n",
              "mean       2.417826     33.977749   -116.88145      5.707677  3.699163e+06   \n",
              "std        0.407683      1.156586      1.07667      3.842620  3.495378e+06   \n",
              "min        2.000000     30.094830   -121.76000      0.000000  2.825500e+04   \n",
              "25%        2.120000     33.061000   -117.69200      3.100000  7.380962e+05   \n",
              "50%        2.300000     34.056750   -116.59000      5.300000  3.049477e+06   \n",
              "75%        2.590000     34.591000   -116.25100      6.900000  3.325926e+06   \n",
              "max        7.100000     37.985500   -113.71900     29.300000  3.736673e+07   \n",
              "\n",
              "                NPH          NGRM  \n",
              "count  70798.000000  70798.000000  \n",
              "mean      30.424376    175.725049  \n",
              "std       22.374143    226.196774  \n",
              "min        0.000000      0.000000  \n",
              "25%       15.000000     59.000000  \n",
              "50%       24.000000    111.000000  \n",
              "75%       39.000000    211.000000  \n",
              "max      406.000000   3815.000000  "
            ]
          },
          "execution_count": 5,
          "metadata": {},
          "output_type": "execute_result"
        }
      ],
      "source": [
        "eqdata.describe()"
      ]
    },
    {
      "cell_type": "markdown",
      "metadata": {
        "ExecuteTime": {
          "end_time": "2019-09-08T21:24:56.161634Z",
          "start_time": "2019-09-08T21:24:56.157793Z"
        },
        "id": "08Ty-hUOhXsG"
      },
      "source": [
        "now that you have a dataframe object you can use methods of the object to modify it. Use the method ```eqdata.rename``` to change the names of the 3 columns that are the only three relevant to us: _date, time, magnitude_"
      ]
    },
    {
      "cell_type": "markdown",
      "metadata": {
        "id": "dYP53BzDhXsG"
      },
      "source": [
        "## prepare date-time column"
      ]
    },
    {
      "cell_type": "code",
      "execution_count": 6,
      "metadata": {
        "ExecuteTime": {
          "end_time": "2019-09-09T01:40:02.791776Z",
          "start_time": "2019-09-09T01:40:02.761489Z"
        },
        "id": "WFIPxVG_hXsH"
      },
      "outputs": [],
      "source": [
        "# your code here...\n",
        "eqdata_full = eqdata.rename({\"#YYY/MM/DD\": \"date\", \"HH:mm:SS.ss\": \"time\", \"MAG\":\"mag\" }, axis=1)\n",
        "eqdata = eqdata_full[['date', 'time', 'mag']].copy()"
      ]
    },
    {
      "cell_type": "code",
      "execution_count": 7,
      "metadata": {
        "ExecuteTime": {
          "end_time": "2019-09-09T01:40:02.800191Z",
          "start_time": "2019-09-09T01:40:02.793424Z"
        },
        "colab": {
          "base_uri": "https://localhost:8080/",
          "height": 204
        },
        "id": "vZ-NJ-C2hXsJ",
        "outputId": "76073453-18d5-40f0-b783-33c649777e9c"
      },
      "outputs": [
        {
          "data": {
            "text/html": [
              "<div>\n",
              "<style scoped>\n",
              "    .dataframe tbody tr th:only-of-type {\n",
              "        vertical-align: middle;\n",
              "    }\n",
              "\n",
              "    .dataframe tbody tr th {\n",
              "        vertical-align: top;\n",
              "    }\n",
              "\n",
              "    .dataframe thead th {\n",
              "        text-align: right;\n",
              "    }\n",
              "</style>\n",
              "<table border=\"1\" class=\"dataframe\">\n",
              "  <thead>\n",
              "    <tr style=\"text-align: right;\">\n",
              "      <th></th>\n",
              "      <th>date</th>\n",
              "      <th>time</th>\n",
              "      <th>mag</th>\n",
              "    </tr>\n",
              "  </thead>\n",
              "  <tbody>\n",
              "    <tr>\n",
              "      <th>0</th>\n",
              "      <td>1984/01/01</td>\n",
              "      <td>01:30:57.52</td>\n",
              "      <td>2.02</td>\n",
              "    </tr>\n",
              "    <tr>\n",
              "      <th>1</th>\n",
              "      <td>1984/01/01</td>\n",
              "      <td>05:31:34.16</td>\n",
              "      <td>2.12</td>\n",
              "    </tr>\n",
              "    <tr>\n",
              "      <th>2</th>\n",
              "      <td>1984/01/01</td>\n",
              "      <td>06:59:05.14</td>\n",
              "      <td>2.43</td>\n",
              "    </tr>\n",
              "    <tr>\n",
              "      <th>3</th>\n",
              "      <td>1984/01/01</td>\n",
              "      <td>11:10:25.29</td>\n",
              "      <td>2.07</td>\n",
              "    </tr>\n",
              "    <tr>\n",
              "      <th>4</th>\n",
              "      <td>1984/01/01</td>\n",
              "      <td>19:38:19.79</td>\n",
              "      <td>2.13</td>\n",
              "    </tr>\n",
              "  </tbody>\n",
              "</table>\n",
              "</div>"
            ],
            "text/plain": [
              "         date         time   mag\n",
              "0  1984/01/01  01:30:57.52  2.02\n",
              "1  1984/01/01  05:31:34.16  2.12\n",
              "2  1984/01/01  06:59:05.14  2.43\n",
              "3  1984/01/01  11:10:25.29  2.07\n",
              "4  1984/01/01  19:38:19.79  2.13"
            ]
          },
          "execution_count": 7,
          "metadata": {},
          "output_type": "execute_result"
        }
      ],
      "source": [
        "eqdata.head()"
      ]
    },
    {
      "cell_type": "code",
      "execution_count": 8,
      "metadata": {
        "ExecuteTime": {
          "end_time": "2019-09-09T01:40:02.813328Z",
          "start_time": "2019-09-09T01:40:02.801494Z"
        },
        "colab": {
          "base_uri": "https://localhost:8080/",
          "height": 297
        },
        "id": "BQHplE_shXsL",
        "outputId": "8fc02bda-b39c-4ac4-9fc2-60b5ab251de3"
      },
      "outputs": [
        {
          "data": {
            "text/html": [
              "<div>\n",
              "<style scoped>\n",
              "    .dataframe tbody tr th:only-of-type {\n",
              "        vertical-align: middle;\n",
              "    }\n",
              "\n",
              "    .dataframe tbody tr th {\n",
              "        vertical-align: top;\n",
              "    }\n",
              "\n",
              "    .dataframe thead th {\n",
              "        text-align: right;\n",
              "    }\n",
              "</style>\n",
              "<table border=\"1\" class=\"dataframe\">\n",
              "  <thead>\n",
              "    <tr style=\"text-align: right;\">\n",
              "      <th></th>\n",
              "      <th>mag</th>\n",
              "    </tr>\n",
              "  </thead>\n",
              "  <tbody>\n",
              "    <tr>\n",
              "      <th>count</th>\n",
              "      <td>70798.000000</td>\n",
              "    </tr>\n",
              "    <tr>\n",
              "      <th>mean</th>\n",
              "      <td>2.417826</td>\n",
              "    </tr>\n",
              "    <tr>\n",
              "      <th>std</th>\n",
              "      <td>0.407683</td>\n",
              "    </tr>\n",
              "    <tr>\n",
              "      <th>min</th>\n",
              "      <td>2.000000</td>\n",
              "    </tr>\n",
              "    <tr>\n",
              "      <th>25%</th>\n",
              "      <td>2.120000</td>\n",
              "    </tr>\n",
              "    <tr>\n",
              "      <th>50%</th>\n",
              "      <td>2.300000</td>\n",
              "    </tr>\n",
              "    <tr>\n",
              "      <th>75%</th>\n",
              "      <td>2.590000</td>\n",
              "    </tr>\n",
              "    <tr>\n",
              "      <th>max</th>\n",
              "      <td>7.100000</td>\n",
              "    </tr>\n",
              "  </tbody>\n",
              "</table>\n",
              "</div>"
            ],
            "text/plain": [
              "                mag\n",
              "count  70798.000000\n",
              "mean       2.417826\n",
              "std        0.407683\n",
              "min        2.000000\n",
              "25%        2.120000\n",
              "50%        2.300000\n",
              "75%        2.590000\n",
              "max        7.100000"
            ]
          },
          "execution_count": 8,
          "metadata": {},
          "output_type": "execute_result"
        }
      ],
      "source": [
        "eqdata.describe()"
      ]
    },
    {
      "cell_type": "markdown",
      "metadata": {
        "id": "EMiRblXihXsN"
      },
      "source": [
        "Now you want to combine the columns containing date and time and convert them to a \"datetime\" kind of data object.\n"
      ]
    },
    {
      "cell_type": "markdown",
      "metadata": {
        "ExecuteTime": {
          "end_time": "2019-09-08T21:26:57.438903Z",
          "start_time": "2019-09-08T21:26:57.435133Z"
        },
        "id": "ZPOv1TJihXsN"
      },
      "source": [
        "What data type are the _time_ and _date_ columns right now? What type you want them to be to conver them to datetime with ```pd.datetime()```? type 'O' means object, typically a string."
      ]
    },
    {
      "cell_type": "code",
      "execution_count": 9,
      "metadata": {
        "ExecuteTime": {
          "end_time": "2019-09-09T01:40:02.859962Z",
          "start_time": "2019-09-09T01:40:02.856654Z"
        },
        "colab": {
          "base_uri": "https://localhost:8080/",
          "height": 34
        },
        "id": "sqfVbxyYhXsO",
        "outputId": "971f8fa1-8a51-4d37-af8e-5667b45aafdc"
      },
      "outputs": [
        {
          "data": {
            "text/plain": [
              "(dtype('O'), dtype('O'))"
            ]
          },
          "execution_count": 9,
          "metadata": {},
          "output_type": "execute_result"
        }
      ],
      "source": [
        "eqdata.time.dtype, eqdata.date.dtype"
      ]
    },
    {
      "cell_type": "markdown",
      "metadata": {
        "ExecuteTime": {
          "end_time": "2019-09-08T21:28:58.082172Z",
          "start_time": "2019-09-08T21:28:58.078926Z"
        },
        "id": "O9qP9mRShXsP"
      },
      "source": [
        "to do this conversion I\n",
        "\n",
        "   1. joined date and time into a single string for each row with a [\"list comprehension\"](https://www.pythonforbeginners.com/basics/list-comprehensions-in-python) (essentially a for loop but more efficient and compact). You do not have to do it with a list comprehension, you can use just a for loop.\n",
        "\n",
        "   2. used pd.datetime() to convert the resulting new dataframe column into a dataframe column containing _datetime_ objects (see lab)\n",
        "\n",
        "   3. but this did not work because of the formatting of some dates, so I had to go back and fix 5 entries. (you are on your own to figure out this one)"
      ]
    },
    {
      "cell_type": "code",
      "execution_count": 10,
      "metadata": {
        "ExecuteTime": {
          "end_time": "2019-09-09T01:40:29.216627Z",
          "start_time": "2019-09-09T01:40:29.206374Z"
        },
        "colab": {
          "base_uri": "https://localhost:8080/",
          "height": 204
        },
        "id": "o9PeG5J5hXsU",
        "outputId": "55af01bf-fb31-4b2e-a242-e8d202480059"
      },
      "outputs": [
        {
          "data": {
            "text/html": [
              "<div>\n",
              "<style scoped>\n",
              "    .dataframe tbody tr th:only-of-type {\n",
              "        vertical-align: middle;\n",
              "    }\n",
              "\n",
              "    .dataframe tbody tr th {\n",
              "        vertical-align: top;\n",
              "    }\n",
              "\n",
              "    .dataframe thead th {\n",
              "        text-align: right;\n",
              "    }\n",
              "</style>\n",
              "<table border=\"1\" class=\"dataframe\">\n",
              "  <thead>\n",
              "    <tr style=\"text-align: right;\">\n",
              "      <th></th>\n",
              "      <th>date</th>\n",
              "      <th>time</th>\n",
              "      <th>mag</th>\n",
              "      <th>datetime_string</th>\n",
              "      <th>datetime_string_hack</th>\n",
              "      <th>datetime</th>\n",
              "    </tr>\n",
              "  </thead>\n",
              "  <tbody>\n",
              "    <tr>\n",
              "      <th>0</th>\n",
              "      <td>1984/01/01</td>\n",
              "      <td>01:30:57.52</td>\n",
              "      <td>2.02</td>\n",
              "      <td>1984/01/01 01:30:57.52</td>\n",
              "      <td>1984/01/01 01:30:57.52</td>\n",
              "      <td>1984-01-01 01:30:57.520</td>\n",
              "    </tr>\n",
              "    <tr>\n",
              "      <th>1</th>\n",
              "      <td>1984/01/01</td>\n",
              "      <td>05:31:34.16</td>\n",
              "      <td>2.12</td>\n",
              "      <td>1984/01/01 05:31:34.16</td>\n",
              "      <td>1984/01/01 05:31:34.16</td>\n",
              "      <td>1984-01-01 05:31:34.160</td>\n",
              "    </tr>\n",
              "    <tr>\n",
              "      <th>2</th>\n",
              "      <td>1984/01/01</td>\n",
              "      <td>06:59:05.14</td>\n",
              "      <td>2.43</td>\n",
              "      <td>1984/01/01 06:59:05.14</td>\n",
              "      <td>1984/01/01 06:59:05.14</td>\n",
              "      <td>1984-01-01 06:59:05.140</td>\n",
              "    </tr>\n",
              "    <tr>\n",
              "      <th>3</th>\n",
              "      <td>1984/01/01</td>\n",
              "      <td>11:10:25.29</td>\n",
              "      <td>2.07</td>\n",
              "      <td>1984/01/01 11:10:25.29</td>\n",
              "      <td>1984/01/01 11:10:25.29</td>\n",
              "      <td>1984-01-01 11:10:25.290</td>\n",
              "    </tr>\n",
              "    <tr>\n",
              "      <th>4</th>\n",
              "      <td>1984/01/01</td>\n",
              "      <td>19:38:19.79</td>\n",
              "      <td>2.13</td>\n",
              "      <td>1984/01/01 19:38:19.79</td>\n",
              "      <td>1984/01/01 19:38:19.79</td>\n",
              "      <td>1984-01-01 19:38:19.790</td>\n",
              "    </tr>\n",
              "  </tbody>\n",
              "</table>\n",
              "</div>"
            ],
            "text/plain": [
              "         date         time   mag         datetime_string  \\\n",
              "0  1984/01/01  01:30:57.52  2.02  1984/01/01 01:30:57.52   \n",
              "1  1984/01/01  05:31:34.16  2.12  1984/01/01 05:31:34.16   \n",
              "2  1984/01/01  06:59:05.14  2.43  1984/01/01 06:59:05.14   \n",
              "3  1984/01/01  11:10:25.29  2.07  1984/01/01 11:10:25.29   \n",
              "4  1984/01/01  19:38:19.79  2.13  1984/01/01 19:38:19.79   \n",
              "\n",
              "     datetime_string_hack                datetime  \n",
              "0  1984/01/01 01:30:57.52 1984-01-01 01:30:57.520  \n",
              "1  1984/01/01 05:31:34.16 1984-01-01 05:31:34.160  \n",
              "2  1984/01/01 06:59:05.14 1984-01-01 06:59:05.140  \n",
              "3  1984/01/01 11:10:25.29 1984-01-01 11:10:25.290  \n",
              "4  1984/01/01 19:38:19.79 1984-01-01 19:38:19.790  "
            ]
          },
          "execution_count": 10,
          "metadata": {},
          "output_type": "execute_result"
        }
      ],
      "source": [
        "\n",
        "eqdata['datetime_string'] = eqdata['date'] + ' ' + eqdata['time']\n",
        "def hack_datetime_string(datetime_string):\n",
        "    if datetime_string.endswith('60.00'):\n",
        "        return datetime_string[:-5] + '59.99'\n",
        "    else:\n",
        "        return datetime_string\n",
        "eqdata['datetime_string_hack'] = eqdata['datetime_string'].map(hack_datetime_string)\n",
        "eqdata['datetime'] = eqdata['datetime_string_hack'].map(pd.to_datetime)\n",
        "eqdata.head()"
      ]
    },
    {
      "cell_type": "markdown",
      "metadata": {
        "id": "zAmaMzQIhXsW"
      },
      "source": [
        "## select valuable data\n",
        "Starting here is stuff we did not do together in class but is part of the homework due on 9/17\n"
      ]
    },
    {
      "cell_type": "markdown",
      "metadata": {
        "id": "R3kga7VvhXsZ"
      },
      "source": [
        "Following the description in Section 2  of Corral 2018 I removed all data that did not belong to a \"stationary\" period. Third paragraph section 2 of Corral 2018. You can see the cell of code I used to do this [here](https://github.com/fedhere/DSPS_FBianco/blob/master/HW3/Corral2018_selectStationary.py) at no points cost, cause it was a bit tricky, but I encourage you to try and do it yourself. If you can do it in fewer lines than I did its automatically +5 points (just turning the loop into a list comprehension does not count. That is an obvious way to decrease the number of lines of code; I did not do it simply to enhance readability.)"
      ]
    },
    {
      "cell_type": "code",
      "execution_count": 11,
      "metadata": {
        "ExecuteTime": {
          "end_time": "2019-09-09T01:40:29.230993Z",
          "start_time": "2019-09-09T01:40:29.219163Z"
        },
        "id": "tQRj4CAEhXsZ"
      },
      "outputs": [],
      "source": [
        "stationary_years = np.array([\n",
        "    1984, 1986.5,\n",
        "    1990.3, 1992.1,\n",
        "    1994.6, 1995.6,\n",
        "    1996.1, 1996.5,\n",
        "    1997, 1997.6,\n",
        "    1997.75, 1998.15,\n",
        "    1998.25, 1999.35,\n",
        "    2000.55, 2000.8,\n",
        "    2000.9, 2001.25, \n",
        "    2001.6, 2002,\n",
        "    2002.5, 2003,\n",
        "]) # needs to be 1d for vectorized pd.to_timedelta\n",
        "# Got it down to a one-liner (aside from the stationary_years array obviously)\n",
        "stationary_datetimes = np.array(pd.Timestamp('1980-01-01') + pd.to_timedelta((stationary_years-1980)*365.25, unit='D')).reshape(-1, 2)\n",
        "# canonical rename\n",
        "ss = stationary_datetimes"
      ]
    },
    {
      "cell_type": "code",
      "execution_count": 12,
      "metadata": {
        "ExecuteTime": {
          "end_time": "2019-09-09T01:40:29.237879Z",
          "start_time": "2019-09-09T01:40:29.232647Z"
        },
        "colab": {
          "base_uri": "https://localhost:8080/",
          "height": 34
        },
        "id": "qPmYVGWbhXsb",
        "outputId": "e3b55bf8-1a49-4377-e17b-2e5f4623c502"
      },
      "outputs": [
        {
          "name": "stdout",
          "output_type": "stream",
          "text": [
            "the 11 timestamp pairs that are the boundaries of good data periods are:\n"
          ]
        },
        {
          "data": {
            "text/plain": [
              "array([['1984-01-01T00:00:00.000000000', '1986-07-02T03:00:00.000000000'],\n",
              "       ['1990-04-20T01:47:59.999998565', '1992-02-06T12:35:59.999997140'],\n",
              "       ['1994-08-07T15:35:59.999997140', '1995-08-07T21:35:59.999997140'],\n",
              "       ['1996-02-06T12:35:59.999997140', '1996-07-01T15:00:00.000000000'],\n",
              "       ['1996-12-31T06:00:00.000000000', '1997-08-07T09:35:59.999997140'],\n",
              "       ['1997-10-01T04:30:00.000000000', '1998-02-24T06:54:00.000002859'],\n",
              "       ['1998-04-01T19:30:00.000000000', '1999-05-08T14:05:59.999997140'],\n",
              "       ['2000-07-19T21:17:59.999998565', '2000-10-19T04:47:59.999998565'],\n",
              "       ['2000-11-24T17:24:00.000002859', '2001-04-01T13:30:00.000000000'],\n",
              "       ['2001-08-07T09:35:59.999997140', '2001-12-31T12:00:00.000000000'],\n",
              "       ['2002-07-02T03:00:00.000000000', '2002-12-31T18:00:00.000000000']],\n",
              "      dtype='datetime64[ns]')"
            ]
          },
          "execution_count": 12,
          "metadata": {},
          "output_type": "execute_result"
        }
      ],
      "source": [
        "print (\"the {} timestamp pairs that are the boundaries of good data periods are:\".format(len(ss)))\n",
        "ss"
      ]
    },
    {
      "cell_type": "markdown",
      "metadata": {
        "id": "-470BeBahXsd"
      },
      "source": [
        "The following cell of code shows you the array of bool values (True/False) which I create to use as an index to the input array: when used as an index, a technique called \"broadcasting\" in python, will select only elements of the original array where the index array value is True. something like\n",
        "Try:\n",
        "\n"
      ]
    },
    {
      "cell_type": "code",
      "execution_count": 13,
      "metadata": {
        "ExecuteTime": {
          "end_time": "2019-09-09T01:40:29.244355Z",
          "start_time": "2019-09-09T01:40:29.239933Z"
        },
        "colab": {
          "base_uri": "https://localhost:8080/",
          "height": 34
        },
        "id": "9wCXH-gfhXsf",
        "outputId": "73c08853-9a62-4a99-9cde-ba7e294f8956"
      },
      "outputs": [
        {
          "data": {
            "text/plain": [
              "(array([0, 1, 2]), array([0, 2]))"
            ]
          },
          "execution_count": 13,
          "metadata": {},
          "output_type": "execute_result"
        }
      ],
      "source": [
        "a = np.array([0, 1, 2])\n",
        "a, a[[True, False, True]]"
      ]
    },
    {
      "cell_type": "markdown",
      "metadata": {
        "ExecuteTime": {
          "end_time": "2019-09-09T01:05:50.836953Z",
          "start_time": "2019-09-09T01:05:50.833542Z"
        },
        "id": "jvZBr-_JhXsi"
      },
      "source": [
        "For each of the 11 valid periods I create a condition\n",
        "``` datetime >= period_start AND datetime <= period_end ``` where AND is a product of booleans: True * False = False.\n",
        "\n",
        "I want to take all chinks of data that satisfy this condition for any of the 11 chunks of time so that is a logical OR operator, or a sum of Booleans: True + False = True\n",
        "\n",
        "This is because ```True``` really corresponds to \"not 0\" and False to \"0\". So ```\"not 0\" * 0 = 0``` and ```\"not 0\" + 0 = not 0```\n",
        "    "
      ]
    },
    {
      "cell_type": "code",
      "execution_count": 14,
      "metadata": {
        "id": "DZqekuQFn_cM"
      },
      "outputs": [],
      "source": [
        "# your code here: broadcasting to create a dataframe with the good dates only\n",
        "\n",
        "# Conditional\n",
        "def is_outside_stationary_periods(datetime):\n",
        "    for start, end in stationary_datetimes:\n",
        "        if start <= datetime and datetime <= end:\n",
        "           return True\n",
        "    return False\n",
        "\n",
        "# Broadcase conditional\n",
        "eqGoodData = eqdata[eqdata['datetime'].apply(is_outside_stationary_periods)]\n",
        "\n",
        "# Drop all but datetime and mag\n",
        "eqGoodData = eqGoodData[['datetime','mag']]"
      ]
    },
    {
      "cell_type": "code",
      "execution_count": 15,
      "metadata": {
        "ExecuteTime": {
          "end_time": "2019-09-09T01:40:29.277256Z",
          "start_time": "2019-09-09T01:40:29.272901Z"
        },
        "colab": {
          "base_uri": "https://localhost:8080/",
          "height": 34
        },
        "id": "K7iYLowuhXsm",
        "outputId": "374cde17-2591-4155-f6a6-595f125f1ab7"
      },
      "outputs": [
        {
          "data": {
            "text/plain": [
              "(18869, 2)"
            ]
          },
          "execution_count": 15,
          "metadata": {},
          "output_type": "execute_result"
        }
      ],
      "source": [
        "eqGoodData.shape"
      ]
    },
    {
      "cell_type": "code",
      "execution_count": 16,
      "metadata": {
        "ExecuteTime": {
          "end_time": "2019-09-09T01:40:29.287000Z",
          "start_time": "2019-09-09T01:40:29.279430Z"
        },
        "colab": {
          "base_uri": "https://localhost:8080/",
          "height": 204
        },
        "id": "aMySvYb5hXso",
        "outputId": "61c4cd9a-7021-4d86-a888-2ec617b48204"
      },
      "outputs": [
        {
          "data": {
            "text/html": [
              "<div>\n",
              "<style scoped>\n",
              "    .dataframe tbody tr th:only-of-type {\n",
              "        vertical-align: middle;\n",
              "    }\n",
              "\n",
              "    .dataframe tbody tr th {\n",
              "        vertical-align: top;\n",
              "    }\n",
              "\n",
              "    .dataframe thead th {\n",
              "        text-align: right;\n",
              "    }\n",
              "</style>\n",
              "<table border=\"1\" class=\"dataframe\">\n",
              "  <thead>\n",
              "    <tr style=\"text-align: right;\">\n",
              "      <th></th>\n",
              "      <th>datetime</th>\n",
              "      <th>mag</th>\n",
              "    </tr>\n",
              "  </thead>\n",
              "  <tbody>\n",
              "    <tr>\n",
              "      <th>0</th>\n",
              "      <td>1984-01-01 01:30:57.520</td>\n",
              "      <td>2.02</td>\n",
              "    </tr>\n",
              "    <tr>\n",
              "      <th>1</th>\n",
              "      <td>1984-01-01 05:31:34.160</td>\n",
              "      <td>2.12</td>\n",
              "    </tr>\n",
              "    <tr>\n",
              "      <th>2</th>\n",
              "      <td>1984-01-01 06:59:05.140</td>\n",
              "      <td>2.43</td>\n",
              "    </tr>\n",
              "    <tr>\n",
              "      <th>3</th>\n",
              "      <td>1984-01-01 11:10:25.290</td>\n",
              "      <td>2.07</td>\n",
              "    </tr>\n",
              "    <tr>\n",
              "      <th>4</th>\n",
              "      <td>1984-01-01 19:38:19.790</td>\n",
              "      <td>2.13</td>\n",
              "    </tr>\n",
              "  </tbody>\n",
              "</table>\n",
              "</div>"
            ],
            "text/plain": [
              "                 datetime   mag\n",
              "0 1984-01-01 01:30:57.520  2.02\n",
              "1 1984-01-01 05:31:34.160  2.12\n",
              "2 1984-01-01 06:59:05.140  2.43\n",
              "3 1984-01-01 11:10:25.290  2.07\n",
              "4 1984-01-01 19:38:19.790  2.13"
            ]
          },
          "execution_count": 16,
          "metadata": {},
          "output_type": "execute_result"
        }
      ],
      "source": [
        "eqGoodData.head()"
      ]
    },
    {
      "cell_type": "markdown",
      "metadata": {
        "ExecuteTime": {
          "end_time": "2019-09-09T01:17:07.527314Z",
          "start_time": "2019-09-09T01:17:07.523165Z"
        },
        "id": "P3MKC5tyhXsp"
      },
      "source": [
        "Now what you really want is the _time interval between earthquakes_ for all events greater than some magnitude m, while all you have are the date and time of the events\n",
        "\n",
        "You can remove earthquakes smaller than magnitude 2 by, again, broadcasting. How would that look like?"
      ]
    },
    {
      "cell_type": "code",
      "execution_count": 17,
      "metadata": {
        "ExecuteTime": {
          "end_time": "2019-09-09T01:40:29.292220Z",
          "start_time": "2019-09-09T01:40:29.288359Z"
        },
        "id": "GF-7Xw9AhXsq"
      },
      "outputs": [],
      "source": [
        "# your code here\n",
        "eqGoodData = eqGoodData[eqGoodData['mag'] >= 2]"
      ]
    },
    {
      "cell_type": "code",
      "execution_count": 18,
      "metadata": {
        "ExecuteTime": {
          "end_time": "2019-09-09T01:40:29.296885Z",
          "start_time": "2019-09-09T01:40:29.293316Z"
        },
        "colab": {
          "base_uri": "https://localhost:8080/",
          "height": 34
        },
        "id": "nTmssr_xhXst",
        "outputId": "c38b9214-bfc9-47f1-f541-e34818776cb0"
      },
      "outputs": [
        {
          "data": {
            "text/plain": [
              "(18869, 2)"
            ]
          },
          "execution_count": 18,
          "metadata": {},
          "output_type": "execute_result"
        }
      ],
      "source": [
        "eqGoodData.shape #look like for my data it was not needed! that is because I chose M>2 when when I downloaded the datao"
      ]
    },
    {
      "cell_type": "markdown",
      "metadata": {
        "id": "Ah6LgDvVhXsu"
      },
      "source": [
        "You can get the time between consecutive earthquakes with the method ```diff()``` of numpy arrays (as done in class).\n"
      ]
    },
    {
      "cell_type": "code",
      "execution_count": 19,
      "metadata": {},
      "outputs": [
        {
          "data": {
            "text/html": [
              "<div>\n",
              "<style scoped>\n",
              "    .dataframe tbody tr th:only-of-type {\n",
              "        vertical-align: middle;\n",
              "    }\n",
              "\n",
              "    .dataframe tbody tr th {\n",
              "        vertical-align: top;\n",
              "    }\n",
              "\n",
              "    .dataframe thead th {\n",
              "        text-align: right;\n",
              "    }\n",
              "</style>\n",
              "<table border=\"1\" class=\"dataframe\">\n",
              "  <thead>\n",
              "    <tr style=\"text-align: right;\">\n",
              "      <th></th>\n",
              "      <th>datetime</th>\n",
              "      <th>mag</th>\n",
              "    </tr>\n",
              "  </thead>\n",
              "  <tbody>\n",
              "    <tr>\n",
              "      <th>0</th>\n",
              "      <td>1984-01-01 01:30:57.520</td>\n",
              "      <td>2.02</td>\n",
              "    </tr>\n",
              "    <tr>\n",
              "      <th>1</th>\n",
              "      <td>1984-01-01 05:31:34.160</td>\n",
              "      <td>2.12</td>\n",
              "    </tr>\n",
              "    <tr>\n",
              "      <th>2</th>\n",
              "      <td>1984-01-01 06:59:05.140</td>\n",
              "      <td>2.43</td>\n",
              "    </tr>\n",
              "    <tr>\n",
              "      <th>3</th>\n",
              "      <td>1984-01-01 11:10:25.290</td>\n",
              "      <td>2.07</td>\n",
              "    </tr>\n",
              "    <tr>\n",
              "      <th>4</th>\n",
              "      <td>1984-01-01 19:38:19.790</td>\n",
              "      <td>2.13</td>\n",
              "    </tr>\n",
              "  </tbody>\n",
              "</table>\n",
              "</div>"
            ],
            "text/plain": [
              "                 datetime   mag\n",
              "0 1984-01-01 01:30:57.520  2.02\n",
              "1 1984-01-01 05:31:34.160  2.12\n",
              "2 1984-01-01 06:59:05.140  2.43\n",
              "3 1984-01-01 11:10:25.290  2.07\n",
              "4 1984-01-01 19:38:19.790  2.13"
            ]
          },
          "execution_count": 19,
          "metadata": {},
          "output_type": "execute_result"
        }
      ],
      "source": [
        "eqGoodData.head()"
      ]
    },
    {
      "cell_type": "code",
      "execution_count": 20,
      "metadata": {
        "ExecuteTime": {
          "end_time": "2019-09-09T01:40:29.303435Z",
          "start_time": "2019-09-09T01:40:29.298440Z"
        },
        "id": "RCJozUPPhXsu"
      },
      "outputs": [],
      "source": [
        "#your code here\n",
        "eqGoodDataDiff = eqGoodData.diff()"
      ]
    },
    {
      "cell_type": "code",
      "execution_count": 21,
      "metadata": {
        "colab": {
          "base_uri": "https://localhost:8080/",
          "height": 34
        },
        "id": "a6f-j9ThoMUC",
        "outputId": "b04dac70-a267-46ab-b328-08a59c9cae07"
      },
      "outputs": [
        {
          "data": {
            "text/plain": [
              "(18869, 2)"
            ]
          },
          "execution_count": 21,
          "metadata": {},
          "output_type": "execute_result"
        }
      ],
      "source": [
        "eqGoodDataDiff.shape"
      ]
    },
    {
      "cell_type": "code",
      "execution_count": 22,
      "metadata": {
        "colab": {
          "base_uri": "https://localhost:8080/",
          "height": 204
        },
        "id": "BavypriTXcUV",
        "outputId": "99c6c38f-2743-4d83-fa80-1f38431f09c0"
      },
      "outputs": [
        {
          "data": {
            "text/html": [
              "<div>\n",
              "<style scoped>\n",
              "    .dataframe tbody tr th:only-of-type {\n",
              "        vertical-align: middle;\n",
              "    }\n",
              "\n",
              "    .dataframe tbody tr th {\n",
              "        vertical-align: top;\n",
              "    }\n",
              "\n",
              "    .dataframe thead th {\n",
              "        text-align: right;\n",
              "    }\n",
              "</style>\n",
              "<table border=\"1\" class=\"dataframe\">\n",
              "  <thead>\n",
              "    <tr style=\"text-align: right;\">\n",
              "      <th></th>\n",
              "      <th>datetime</th>\n",
              "      <th>mag</th>\n",
              "    </tr>\n",
              "  </thead>\n",
              "  <tbody>\n",
              "    <tr>\n",
              "      <th>0</th>\n",
              "      <td>NaT</td>\n",
              "      <td>NaN</td>\n",
              "    </tr>\n",
              "    <tr>\n",
              "      <th>1</th>\n",
              "      <td>0 days 04:00:36.640000</td>\n",
              "      <td>0.10</td>\n",
              "    </tr>\n",
              "    <tr>\n",
              "      <th>2</th>\n",
              "      <td>0 days 01:27:30.980000</td>\n",
              "      <td>0.31</td>\n",
              "    </tr>\n",
              "    <tr>\n",
              "      <th>3</th>\n",
              "      <td>0 days 04:11:20.150000</td>\n",
              "      <td>-0.36</td>\n",
              "    </tr>\n",
              "    <tr>\n",
              "      <th>4</th>\n",
              "      <td>0 days 08:27:54.500000</td>\n",
              "      <td>0.06</td>\n",
              "    </tr>\n",
              "  </tbody>\n",
              "</table>\n",
              "</div>"
            ],
            "text/plain": [
              "                datetime   mag\n",
              "0                    NaT   NaN\n",
              "1 0 days 04:00:36.640000  0.10\n",
              "2 0 days 01:27:30.980000  0.31\n",
              "3 0 days 04:11:20.150000 -0.36\n",
              "4 0 days 08:27:54.500000  0.06"
            ]
          },
          "execution_count": 22,
          "metadata": {},
          "output_type": "execute_result"
        }
      ],
      "source": [
        "eqGoodDataDiff.head()"
      ]
    },
    {
      "cell_type": "code",
      "execution_count": 23,
      "metadata": {
        "colab": {
          "base_uri": "https://localhost:8080/",
          "height": 297
        },
        "id": "pC2aJCuVXfM3",
        "outputId": "50afc47c-822b-48ca-9d86-d81cb38befb7"
      },
      "outputs": [
        {
          "data": {
            "text/html": [
              "<div>\n",
              "<style scoped>\n",
              "    .dataframe tbody tr th:only-of-type {\n",
              "        vertical-align: middle;\n",
              "    }\n",
              "\n",
              "    .dataframe tbody tr th {\n",
              "        vertical-align: top;\n",
              "    }\n",
              "\n",
              "    .dataframe thead th {\n",
              "        text-align: right;\n",
              "    }\n",
              "</style>\n",
              "<table border=\"1\" class=\"dataframe\">\n",
              "  <thead>\n",
              "    <tr style=\"text-align: right;\">\n",
              "      <th></th>\n",
              "      <th>datetime</th>\n",
              "      <th>mag</th>\n",
              "    </tr>\n",
              "  </thead>\n",
              "  <tbody>\n",
              "    <tr>\n",
              "      <th>count</th>\n",
              "      <td>18868</td>\n",
              "      <td>18868.000000</td>\n",
              "    </tr>\n",
              "    <tr>\n",
              "      <th>mean</th>\n",
              "      <td>0 days 08:49:34.585131969</td>\n",
              "      <td>0.000002</td>\n",
              "    </tr>\n",
              "    <tr>\n",
              "      <th>std</th>\n",
              "      <td>12 days 18:29:15.349178862</td>\n",
              "      <td>0.536401</td>\n",
              "    </tr>\n",
              "    <tr>\n",
              "      <th>min</th>\n",
              "      <td>0 days 00:00:00.170000</td>\n",
              "      <td>-3.120000</td>\n",
              "    </tr>\n",
              "    <tr>\n",
              "      <th>25%</th>\n",
              "      <td>0 days 00:45:36.382500</td>\n",
              "      <td>-0.270000</td>\n",
              "    </tr>\n",
              "    <tr>\n",
              "      <th>50%</th>\n",
              "      <td>0 days 02:28:50.935000</td>\n",
              "      <td>0.000000</td>\n",
              "    </tr>\n",
              "    <tr>\n",
              "      <th>75%</th>\n",
              "      <td>0 days 05:55:06.490000</td>\n",
              "      <td>0.270000</td>\n",
              "    </tr>\n",
              "    <tr>\n",
              "      <th>max</th>\n",
              "      <td>1388 days 02:02:28.580000</td>\n",
              "      <td>3.510000</td>\n",
              "    </tr>\n",
              "  </tbody>\n",
              "</table>\n",
              "</div>"
            ],
            "text/plain": [
              "                         datetime           mag\n",
              "count                       18868  18868.000000\n",
              "mean    0 days 08:49:34.585131969      0.000002\n",
              "std    12 days 18:29:15.349178862      0.536401\n",
              "min        0 days 00:00:00.170000     -3.120000\n",
              "25%        0 days 00:45:36.382500     -0.270000\n",
              "50%        0 days 02:28:50.935000      0.000000\n",
              "75%        0 days 05:55:06.490000      0.270000\n",
              "max     1388 days 02:02:28.580000      3.510000"
            ]
          },
          "execution_count": 23,
          "metadata": {},
          "output_type": "execute_result"
        }
      ],
      "source": [
        "eqGoodDataDiff.describe()"
      ]
    },
    {
      "cell_type": "markdown",
      "metadata": {
        "id": "wWmOXVyKhO9W"
      },
      "source": [
        "Note that the first entry will be NaT which is Not a Time (corresponding to nan for numerical variables) or maybe a negative number (depends on your exact operations above). You should remove it"
      ]
    },
    {
      "cell_type": "code",
      "execution_count": 24,
      "metadata": {
        "id": "zqOLrvyc0_dL"
      },
      "outputs": [],
      "source": [
        "# your code here\n",
        "eqGoodDataDiff = eqGoodDataDiff[1:]"
      ]
    },
    {
      "cell_type": "code",
      "execution_count": 25,
      "metadata": {
        "colab": {
          "base_uri": "https://localhost:8080/",
          "height": 204
        },
        "id": "kDvKNHD7X1M8",
        "outputId": "e63774d0-9129-4a8c-9a55-918f0deae3c2"
      },
      "outputs": [
        {
          "data": {
            "text/html": [
              "<div>\n",
              "<style scoped>\n",
              "    .dataframe tbody tr th:only-of-type {\n",
              "        vertical-align: middle;\n",
              "    }\n",
              "\n",
              "    .dataframe tbody tr th {\n",
              "        vertical-align: top;\n",
              "    }\n",
              "\n",
              "    .dataframe thead th {\n",
              "        text-align: right;\n",
              "    }\n",
              "</style>\n",
              "<table border=\"1\" class=\"dataframe\">\n",
              "  <thead>\n",
              "    <tr style=\"text-align: right;\">\n",
              "      <th></th>\n",
              "      <th>datetime</th>\n",
              "      <th>mag</th>\n",
              "    </tr>\n",
              "  </thead>\n",
              "  <tbody>\n",
              "    <tr>\n",
              "      <th>1</th>\n",
              "      <td>0 days 04:00:36.640000</td>\n",
              "      <td>0.10</td>\n",
              "    </tr>\n",
              "    <tr>\n",
              "      <th>2</th>\n",
              "      <td>0 days 01:27:30.980000</td>\n",
              "      <td>0.31</td>\n",
              "    </tr>\n",
              "    <tr>\n",
              "      <th>3</th>\n",
              "      <td>0 days 04:11:20.150000</td>\n",
              "      <td>-0.36</td>\n",
              "    </tr>\n",
              "    <tr>\n",
              "      <th>4</th>\n",
              "      <td>0 days 08:27:54.500000</td>\n",
              "      <td>0.06</td>\n",
              "    </tr>\n",
              "    <tr>\n",
              "      <th>5</th>\n",
              "      <td>0 days 00:00:59.880000</td>\n",
              "      <td>0.00</td>\n",
              "    </tr>\n",
              "  </tbody>\n",
              "</table>\n",
              "</div>"
            ],
            "text/plain": [
              "                datetime   mag\n",
              "1 0 days 04:00:36.640000  0.10\n",
              "2 0 days 01:27:30.980000  0.31\n",
              "3 0 days 04:11:20.150000 -0.36\n",
              "4 0 days 08:27:54.500000  0.06\n",
              "5 0 days 00:00:59.880000  0.00"
            ]
          },
          "execution_count": 25,
          "metadata": {},
          "output_type": "execute_result"
        }
      ],
      "source": [
        "eqGoodDataDiff.head()"
      ]
    },
    {
      "cell_type": "markdown",
      "metadata": {
        "id": "M2VH6Q4xhXsw"
      },
      "source": [
        "# data exploration\n",
        "At this point you should wonder if this is the final dataset that you want to use and if anything is weird or suspicious about it. Visualize the distribution. A good way to visualize distributions is a histogram which you can prodice with pl.hist() or as a method of your dataframe series as ```df[SeriesName].plot(kind=\"hist\")```. Produce a plot like the one below (label the axis! and describe it with a caption!). To get the logarithmic y axis you can se ```logy=True```, for example. in your ```df[SeriesName].plot``` call."
      ]
    },
    {
      "cell_type": "code",
      "execution_count": 26,
      "metadata": {
        "colab": {
          "base_uri": "https://localhost:8080/",
          "height": 285
        },
        "id": "iDiscxU4XDwg",
        "outputId": "fa5c9392-a6ab-4efe-db17-6ca7b20d35a6"
      },
      "outputs": [
        {
          "data": {
            "text/plain": [
              "Text(0, 0.5, 'number')"
            ]
          },
          "execution_count": 26,
          "metadata": {},
          "output_type": "execute_result"
        },
        {
          "data": {
            "image/png": "[encoded data removed]",
            "text/plain": [
              "<Figure size 640x480 with 1 Axes>"
            ]
          },
          "metadata": {},
          "output_type": "display_data"
        }
      ],
      "source": [
        "eqGoodDataDiff['datetime_int64'] = eqGoodDataDiff['datetime'].astype('int64')\n",
        "eqGoodDataDiff['datetime_int64'].plot(kind='hist', logy=True, bins=30)\n",
        "plt.xlabel('nanoseconds between events')\n",
        "plt.ylabel('number')"
      ]
    },
    {
      "cell_type": "markdown",
      "metadata": {},
      "source": [
        "Caption: The logy-histogram of the nanoseconds between earthquake events with 30 bins. The most striking feature is the number of events occuring below 5e15 nanoseconds. This feature means the vast majority of the data is located in a single histogram bin. As a result, the distribution doesn't appear to have any scaling law."
      ]
    },
    {
      "cell_type": "markdown",
      "metadata": {
        "id": "nuPhJkrozh91"
      },
      "source": [
        "The thing that worries me is that by removing some sections of the data to use only stationary periods we created some artificially large gaps: gaps of order ~month. How many nanoseconds in a month? remove all gaps that are larger than about a month and see how the distribution looks (make another histogram)."
      ]
    },
    {
      "cell_type": "code",
      "execution_count": 27,
      "metadata": {
        "id": "0zuGOkWhzhDu"
      },
      "outputs": [
        {
          "data": {
            "text/plain": [
              "Text(0, 0.5, 'number')"
            ]
          },
          "execution_count": 27,
          "metadata": {},
          "output_type": "execute_result"
        },
        {
          "data": {
            "image/png": "[encoded data removed]",
            "text/plain": [
              "<Figure size 640x480 with 1 Axes>"
            ]
          },
          "metadata": {},
          "output_type": "display_data"
        }
      ],
      "source": [
        "# your code here\n",
        "eqGoodDataDiff = eqGoodDataDiff[eqGoodDataDiff['datetime'] < pd.to_timedelta(30, unit='D')]\n",
        "eqGoodDataDiff['datetime_int64'].plot(kind='hist', logy=True, bins=30)\n",
        "plt.xlabel('nanoseconds between events')\n",
        "plt.ylabel('number')"
      ]
    },
    {
      "cell_type": "markdown",
      "metadata": {},
      "source": [
        "Caption: A logy-histogram of nanoseconds between earthquakes events with 30 bins, but with periods of longer than a month removed. This corrected histogram shows a much smoother scaling law. There are a couple of sparse data points beyond 1e14 nanoseconds, but less than that scaling law looks nearly perfect."
      ]
    },
    {
      "cell_type": "markdown",
      "metadata": {
        "id": "gn-HuVevYOo7"
      },
      "source": [
        "# PART II - data analysis"
      ]
    },
    {
      "cell_type": "markdown",
      "metadata": {
        "id": "Q2xYwKRB2sx9"
      },
      "source": [
        "### important: the paper does not do it but I want you to formally choose a threshold before you do this test. Choose a p-value (=$\\alpha$ thresold: call your variable ```alpha```) of 3-$\\sigma$."
      ]
    },
    {
      "cell_type": "markdown",
      "metadata": {
        "id": "pt5MAQEZhXsz"
      },
      "source": [
        "Follow the instructions (algorithm) in **Section 3 paragraph 3** and compare your results with the results in table 1 with a threshold  of = 0.01 and 0.001\n",
        "\n",
        "Do it for all 5 magnitude thresholds as indicated in the paper (and in Table 1).\n",
        "\n",
        "Note that the x axis in plot Fig 1 is in _log space_. Use ```np.log10()``` to take the logarithm of the time gaps.\n",
        "\n",
        "The pseudocode for the algorithm is [here](https://github.com/fedhere/DSPS_FBianco/blob/master/HW3/Corral2018pseudocodeKStest.md).\n"
      ]
    },
    {
      "cell_type": "markdown",
      "metadata": {
        "id": "gXWK4x4FhXs1"
      },
      "source": [
        "Reproduce the paper Fig 1 and Table 1. In the Table report the size of each dataset after cleaning the value of the statistic and the p-value, as done in Corral 2018. Use the scipy function for the 2 sample KS test. (resources [here](https://colab.research.google.com/notebooks/markdown_guide.ipynb#scrollTo=70pYkR9LiOV0) to learn about the table syntax in markdown)"
      ]
    },
    {
      "cell_type": "code",
      "execution_count": 28,
      "metadata": {
        "ExecuteTime": {
          "end_time": "2019-09-09T01:51:40.043756Z",
          "start_time": "2019-09-09T01:51:39.866325Z"
        },
        "colab": {
          "base_uri": "https://localhost:8080/",
          "height": 286
        },
        "id": "BNtqqaXphXs2",
        "outputId": "d7a838f4-9f01-4ebf-ff39-a480a3146e07"
      },
      "outputs": [
        {
          "data": {
            "text/plain": [
              "<matplotlib.legend.Legend at 0x7f96156f7e00>"
            ]
          },
          "execution_count": 28,
          "metadata": {},
          "output_type": "execute_result"
        },
        {
          "data": {
            "image/png": "[encoded data removed]",
            "text/plain": [
              "<Figure size 640x480 with 1 Axes>"
            ]
          },
          "metadata": {},
          "output_type": "display_data"
        }
      ],
      "source": [
        "# your code here\n",
        "alpha = 0.27 #this is in percent\n",
        "eqGoodDataSamples01 = []\n",
        "\n",
        "for thresh in [2.0, 2.5, 3.0, 3.5, 4.0]:\n",
        "    eqfiltered = eqGoodData[eqGoodData['mag'] >= thresh].copy()\n",
        "    eqfiltered = eqfiltered.diff()\n",
        "    eqfiltered = eqfiltered[1:]\n",
        "\n",
        "    eqfiltered = eqfiltered[eqfiltered['datetime'] < pd.to_timedelta(30, unit='D')]\n",
        "    \n",
        "    R = 1/np.average(eqfiltered['datetime'].astype('int64'))\n",
        "    eqfiltered['datetime_normed'] = eqfiltered['datetime'].astype('int64') * R\n",
        "    eqfiltered = eqfiltered[eqfiltered['datetime_normed'] >= 0.01]\n",
        "\n",
        "    R = 1/np.average(eqfiltered['datetime'].astype('int64'))\n",
        "    eqfiltered['datetime_normed'] = eqfiltered['datetime'].astype('int64') * R\n",
        "    eqfiltered = eqfiltered[eqfiltered['datetime_normed'] >= 0.01]\n",
        "\n",
        "    eq_edcf = stats.ecdf(eqfiltered['datetime_normed'])\n",
        "    eq_edcf.cdf.plot()\n",
        "\n",
        "    eqGoodDataSamples01.append(eqfiltered.copy())\n",
        "\n",
        "\n",
        "plt.xscale('log')\n",
        "plt.xlim([0.005,10])\n",
        "plt.title('m > 0.01')\n",
        "plt.ylabel('P(X > x/R)')\n",
        "plt.xlabel('x/R')\n",
        "plt.legend(['M=2', 'M=2.5', 'M=3', 'M=3.5', 'M=4'])\n"
      ]
    },
    {
      "cell_type": "markdown",
      "metadata": {},
      "source": [
        "Caption: A logx plot of several sample's cumulative distribution functions. Each sample was filtered to only include events with magnitude greater than their respective values. Furthermore, the smallest 0.01% of interearthquake times were dropped (iterated twice).This plot looks quite similar to Figure 1 in Correll et al. Specifically, the M=4 line shares the same qualitative shape where it initially undershoots the other samples then overtakes them at around x/R = 2.5 "
      ]
    },
    {
      "cell_type": "code",
      "execution_count": 29,
      "metadata": {},
      "outputs": [
        {
          "data": {
            "text/plain": [
              "<matplotlib.legend.Legend at 0x7f9614e91090>"
            ]
          },
          "execution_count": 29,
          "metadata": {},
          "output_type": "execute_result"
        },
        {
          "data": {
            "image/png": "[encoded data removed]",
            "text/plain": [
              "<Figure size 640x480 with 1 Axes>"
            ]
          },
          "metadata": {},
          "output_type": "display_data"
        }
      ],
      "source": [
        "eqGoodDataSamples001 = []\n",
        "for thresh in [2.0, 2.5, 3.0, 3.5, 4.0]:\n",
        "    eqfiltered = eqGoodData[eqGoodData['mag'] >= thresh].copy()\n",
        "    eqfiltered = eqfiltered.diff()\n",
        "    eqfiltered = eqfiltered[1:]\n",
        "\n",
        "    eqfiltered = eqfiltered[eqfiltered['datetime'] < pd.to_timedelta(30, unit='D')]\n",
        "    \n",
        "    R = 1/np.average(eqfiltered['datetime'].astype('int64'))\n",
        "    eqfiltered['datetime_normed'] = eqfiltered['datetime'].astype('int64') * R\n",
        "    eqfiltered = eqfiltered[eqfiltered['datetime_normed'] >= 0.001]\n",
        "\n",
        "    R = 1/np.average(eqfiltered['datetime'].astype('int64'))\n",
        "    eqfiltered['datetime_normed'] = eqfiltered['datetime'].astype('int64') * R\n",
        "    eqfiltered = eqfiltered[eqfiltered['datetime_normed'] >= 0.001]\n",
        "    \n",
        "    eq_edcf = stats.ecdf(eqfiltered['datetime_normed'])\n",
        "    eq_edcf.cdf.plot()\n",
        "\n",
        "    eqGoodDataSamples001.append(eqfiltered)\n",
        "    del eqfiltered\n",
        "\n",
        "plt.xscale('log')\n",
        "plt.xlim([0.0005,10])\n",
        "plt.title('m > 0.001')\n",
        "plt.ylabel('P(X > x/R)')\n",
        "plt.xlabel('x/R')\n",
        "plt.legend(['M=2', 'M=2.5', 'M=3', 'M=3.5', 'M=4'])"
      ]
    },
    {
      "cell_type": "markdown",
      "metadata": {},
      "source": [
        "Caption: A logx plot of several sample's cumulative distribution functions. Each sample was filtered to only include events with magnitude greater than their respective values. Furthermore, the smallest 0.001% of interearthquake times were dropped (iterated twice). This plot expectedly follows a similar shape to the previous but with an extended tail to the left. This has makes the logistic-style increase smoother."
      ]
    },
    {
      "cell_type": "code",
      "execution_count": 30,
      "metadata": {},
      "outputs": [],
      "source": [
        "results01 = np.full([5,5], np.nan)\n",
        "sample_size01 = np.full([5], np.nan)\n",
        "for i in range(5):\n",
        "    sample_size01[i] = len(eqGoodDataSamples01[i])\n",
        "    for j in range(i + 1, 5):\n",
        "        ks_statistic, p_value = stats.ks_2samp(eqGoodDataSamples01[i]['datetime_normed'], eqGoodDataSamples01[j]['datetime_normed'])\n",
        "        results01[i, j] = p_value * 100\n",
        "        results01[j, i] = ks_statistic\n",
        "table01 = np.concatenate([sample_size01.reshape([5,1]), results01], axis=1)\n",
        "\n",
        "results001 = np.full([5,5], np.nan)\n",
        "sample_size001 = np.full([5], np.nan)\n",
        "for i in range(5):\n",
        "    sample_size001[i] = len(eqGoodDataSamples001[i])\n",
        "    for j in range(i+1, 5):\n",
        "        ks_statistic, p_value = stats.ks_2samp(eqGoodDataSamples001[i]['datetime_normed'], eqGoodDataSamples001[j]['datetime_normed'])\n",
        "        results001[i, j] = p_value * 100\n",
        "        results001[j, i] = ks_statistic\n",
        "table001 = np.concatenate([sample_size001.reshape([5,1]), results001], axis=1)"
      ]
    },
    {
      "cell_type": "code",
      "execution_count": 31,
      "metadata": {},
      "outputs": [
        {
          "name": "stdout",
          "output_type": "stream",
          "text": [
            "m=0.01\n",
            "   N         2.0       2.5       3.0      3.5     4.0\n",
            "-----------------------------------------------------\n",
            "[[17968.00      nan     6.26    54.60    24.03     5.71]\n",
            " [ 5370.00     0.02      nan    21.77     6.67     6.51]\n",
            " [ 1327.00     0.02     0.03      nan    45.72    13.08]\n",
            " [  362.00     0.05     0.07     0.05      nan    16.06]\n",
            " [   65.00     0.16     0.16     0.15     0.15      nan]]\n",
            "m=0.001\n",
            "   N         2.0       2.5       3.0      3.5     4.0\n",
            "-----------------------------------------------------\n",
            "[[18728.00      nan     2.16    27.43    41.84    11.11]\n",
            " [ 5627.00     0.02      nan    37.84    16.36    12.82]\n",
            " [ 1406.00     0.03     0.03      nan    60.18    24.39]\n",
            " [  388.00     0.04     0.06     0.04      nan    29.68]\n",
            " [   73.00     0.14     0.14     0.12     0.12      nan]]\n"
          ]
        }
      ],
      "source": [
        "# My actual markdown table is in the next cell\n",
        "with np.printoptions(precision=2, suppress=True, floatmode='fixed'):\n",
        "    print('m=0.01')\n",
        "    print('   N         2.0       2.5       3.0      3.5     4.0')\n",
        "    print('-----------------------------------------------------')\n",
        "    print(table01)\n",
        "    print('m=0.001')\n",
        "    print('   N         2.0       2.5       3.0      3.5     4.0')\n",
        "    print('-----------------------------------------------------')\n",
        "    print(table001)"
      ]
    },
    {
      "cell_type": "markdown",
      "metadata": {
        "id": "O0A6oyp9jSos"
      },
      "source": [
        "$m=0.01$   |N      |$M\\ge2.0$|$M\\ge2.5$|$M\\ge3.0$|$M\\ge3.5$|$M\\ge4.0$|\n",
        "-----------|-------|---------|---------|---------|---------|---------|\n",
        "$M \\ge 2.0$|$17968$|-        |6.26%    |54.60%   |24.03%   |5.71%    |\n",
        "$M \\ge 2.5$|$5370$ |0.02     |-        |21.77%   |6.67%    |6.51%    |\n",
        "$M \\ge 3.0$|$1327$ |0.02     |0.03     |-        |45.72%   |13.08%   |\n",
        "$M \\ge 3.5$|$362$  |0.05     |0.07     |0.05     |-        |16.06%   |\n",
        "$M \\ge 4.0$|$65$   |0.16     |0.16     |0.15     |0.15     |-        |\n"
      ]
    },
    {
      "cell_type": "markdown",
      "metadata": {},
      "source": [
        "$m=0.001$  |N      |$M\\ge2.0$|$M\\ge2.5$|$M\\ge3.0$|$M\\ge3.5$|$M\\ge4.0$|\n",
        "-----------|-------|---------|---------|---------|---------|---------|\n",
        "$M \\ge 2.0$|$18728$|-        |2.16%    |27.60%   |41.84%   |11.11%   |\n",
        "$M \\ge 2.5$|$5627$ |0.02     |-        |37.84%   |16.36%   |12.82%   |\n",
        "$M \\ge 3.0$|$1406$ |0.03     |0.03     |-        |60.18%   |24.39%   |\n",
        "$M \\ge 3.5$|$388$  |0.04     |0.06     |0.04     |-        |29.68%   |\n",
        "$M \\ge 4.0$|$73$   |0.14     |0.14     |0.12     |0.12     |-        |"
      ]
    },
    {
      "cell_type": "markdown",
      "metadata": {
        "id": "6y4wb6lEZsGV"
      },
      "source": [
        "Did you find any statistical significant differences between the distributions? What does it mean? Is your result identical to Correll's 2018? Why or why not? **Discuss!**"
      ]
    },
    {
      "cell_type": "markdown",
      "metadata": {},
      "source": [
        "My results fail to reject the null hypothesis as all my p-values were greater than the specified alpha of 0.27%. However, my statistical results were much weaker than Correll's with p-values as low as 2.16%. The p-value in this context means that there is 2.16% chance that if both the $M\\ge2.0$ and $M\\ge2.5$ were drawn from the same distribution, then the the ks pivotal quantitiy between the two would be greater to or equal to what was observed.\n",
        "\n",
        "My results and Correll's most likely differ because of the slightly different datasets each of us used. This can be seen in the sample size column of our tables which differ by around 5% in size."
      ]
    },
    {
      "cell_type": "markdown",
      "metadata": {
        "id": "8bQwtZi4Z0pi"
      },
      "source": [
        "### \"extra credits\"\n",
        "\n",
        "**How could you _force_ a significant result?**\n",
        "Organize your result for different magnitude threshold in a numpy array (it should be a 5x5 array) for both cutoffs (0.01 and 0.001). Each of these arrays should contain the p-value for the pair of distributions i,j in cell \\[i\\]\\[j\\] and \\[j\\]\\[i\\]. Use ```imshow``` to visualize this 2D data. FIrst visualize the matrix itself as done below."
      ]
    },
    {
      "cell_type": "code",
      "execution_count": 32,
      "metadata": {
        "ExecuteTime": {
          "end_time": "2019-09-09T02:02:18.672458Z",
          "start_time": "2019-09-09T02:02:18.553137Z"
        },
        "colab": {
          "base_uri": "https://localhost:8080/",
          "height": 287
        },
        "id": "mqQSdpVEhXs5",
        "outputId": "f6a3e3c6-0706-44b9-995b-73321f492bf4"
      },
      "outputs": [
        {
          "data": {
            "image/png": "[encoded data removed]",
            "text/plain": [
              "<Figure size 1200x400 with 4 Axes>"
            ]
          },
          "metadata": {},
          "output_type": "display_data"
        }
      ],
      "source": [
        "# your code here\n",
        "def table2ks(table):\n",
        "    ks = table[:,1:]\n",
        "    for i in range(5):\n",
        "        for j in range(i + 1, 5):\n",
        "            ks[j,i] = ks[i, j]\n",
        "    return ks \n",
        "\n",
        "ks_001 = table2ks(table01)\n",
        "ks_0001 = table2ks(table001)\n",
        "ks_min = 0\n",
        "ks_max = np.nanmax([ks_001, ks_0001])\n",
        "\n",
        "# Create figure with GridSpec\n",
        "# I used claude ai to help me here with remembering how to properly initialize a set of subplots\n",
        "fig = plt.figure(figsize=(12, 4))\n",
        "gs = gridspec.GridSpec(1, 3, width_ratios=[1, 1, 0.05], wspace=0.05)\n",
        "\n",
        "ax1 = fig.add_subplot(gs[0, 0])\n",
        "ax2 = fig.add_subplot(gs[0, 1])\n",
        "cbar_ax = fig.add_subplot(gs[0, 2])\n",
        "\n",
        "im1 = ax1.imshow(ks_001, vmin=ks_min, vmax=ks_max);\n",
        "ax1.set_title('m=0.01')\n",
        "ax1.axis('off')\n",
        "im2 = ax2.imshow(ks_0001, vmin=ks_min, vmax=ks_max);\n",
        "ax2.set_title('m=0.001')\n",
        "ax2.axis('off')\n",
        "\n",
        "\n",
        "cbar_ax = fig.add_subplot(gs[0, 2])\n",
        "fig.colorbar(im1, cax=cbar_ax)\n",
        "fig.suptitle(\"KS test results\");"
      ]
    },
    {
      "cell_type": "markdown",
      "metadata": {},
      "source": [
        "Caption: A visualization of the p values of the two different sample combinations. The diagonal which don't correspond to anything is left white. The m=0.01 plot shows much greater variance than the m=0.001 which is somewhat expected as it has less data."
      ]
    },
    {
      "cell_type": "markdown",
      "metadata": {
        "id": "tSJmSMCmmA3w"
      },
      "source": [
        "\n",
        "Now visualize the result as a matrix where the cells are white if the results is not statistically significant and red otherwise.\n",
        "After doing it fot the set alpha threshold, lower your alpha threshold so that at least one pair of distribution has a statistically significant difference. **Warning!! this is an _unethical and horrifying practice_! Once you chose your significance threshold you are never allowed to change it! Why? Discuss**"
      ]
    },
    {
      "cell_type": "code",
      "execution_count": 33,
      "metadata": {},
      "outputs": [
        {
          "name": "stdout",
          "output_type": "stream",
          "text": [
            "For alpha=0.27%, it is False that theres any statistically significant results\n"
          ]
        },
        {
          "data": {
            "text/plain": [
              "np.False_"
            ]
          },
          "execution_count": 33,
          "metadata": {},
          "output_type": "execute_result"
        }
      ],
      "source": [
        "def is_significant(ks_001, ks_0001, alpha):\n",
        "    statsig_001 = ks_001 < alpha\n",
        "    statsig_0001 = ks_0001 < alpha\n",
        "    result = statsig_001.any() or statsig_0001.any()\n",
        "    print(f'For alpha={alpha:.2f}%, it is {result} that theres any statistically significant results')\n",
        "    return result\n",
        "is_significant(ks_001, ks_0001, alpha)\n",
        "\n"
      ]
    },
    {
      "cell_type": "code",
      "execution_count": 34,
      "metadata": {},
      "outputs": [
        {
          "name": "stdout",
          "output_type": "stream",
          "text": [
            "For alpha=0.00%, it is False that theres any statistically significant results\n",
            "For alpha=0.01%, it is False that theres any statistically significant results\n",
            "For alpha=0.02%, it is False that theres any statistically significant results\n",
            "For alpha=0.03%, it is False that theres any statistically significant results\n",
            "For alpha=0.04%, it is False that theres any statistically significant results\n",
            "For alpha=0.05%, it is False that theres any statistically significant results\n",
            "For alpha=0.06%, it is False that theres any statistically significant results\n",
            "For alpha=0.07%, it is False that theres any statistically significant results\n",
            "For alpha=0.08%, it is False that theres any statistically significant results\n",
            "For alpha=0.09%, it is False that theres any statistically significant results\n",
            "For alpha=0.10%, it is False that theres any statistically significant results\n",
            "For alpha=0.11%, it is False that theres any statistically significant results\n",
            "For alpha=0.12%, it is False that theres any statistically significant results\n",
            "For alpha=0.13%, it is False that theres any statistically significant results\n",
            "For alpha=0.14%, it is False that theres any statistically significant results\n",
            "For alpha=0.15%, it is False that theres any statistically significant results\n",
            "For alpha=0.16%, it is False that theres any statistically significant results\n",
            "For alpha=0.17%, it is False that theres any statistically significant results\n",
            "For alpha=0.18%, it is False that theres any statistically significant results\n",
            "For alpha=0.19%, it is False that theres any statistically significant results\n",
            "For alpha=0.20%, it is False that theres any statistically significant results\n",
            "For alpha=0.21%, it is False that theres any statistically significant results\n",
            "For alpha=0.22%, it is False that theres any statistically significant results\n",
            "For alpha=0.23%, it is False that theres any statistically significant results\n",
            "For alpha=0.24%, it is False that theres any statistically significant results\n",
            "For alpha=0.25%, it is False that theres any statistically significant results\n",
            "For alpha=0.26%, it is False that theres any statistically significant results\n",
            "For alpha=0.27%, it is False that theres any statistically significant results\n",
            "For alpha=0.28%, it is False that theres any statistically significant results\n",
            "For alpha=0.29%, it is False that theres any statistically significant results\n",
            "For alpha=0.30%, it is False that theres any statistically significant results\n",
            "For alpha=0.31%, it is False that theres any statistically significant results\n",
            "For alpha=0.32%, it is False that theres any statistically significant results\n",
            "For alpha=0.33%, it is False that theres any statistically significant results\n",
            "For alpha=0.34%, it is False that theres any statistically significant results\n",
            "For alpha=0.35%, it is False that theres any statistically significant results\n",
            "For alpha=0.36%, it is False that theres any statistically significant results\n",
            "For alpha=0.37%, it is False that theres any statistically significant results\n",
            "For alpha=0.38%, it is False that theres any statistically significant results\n",
            "For alpha=0.39%, it is False that theres any statistically significant results\n",
            "For alpha=0.40%, it is False that theres any statistically significant results\n",
            "For alpha=0.41%, it is False that theres any statistically significant results\n",
            "For alpha=0.42%, it is False that theres any statistically significant results\n",
            "For alpha=0.43%, it is False that theres any statistically significant results\n",
            "For alpha=0.44%, it is False that theres any statistically significant results\n",
            "For alpha=0.45%, it is False that theres any statistically significant results\n",
            "For alpha=0.46%, it is False that theres any statistically significant results\n",
            "For alpha=0.47%, it is False that theres any statistically significant results\n",
            "For alpha=0.48%, it is False that theres any statistically significant results\n",
            "For alpha=0.49%, it is False that theres any statistically significant results\n",
            "For alpha=0.50%, it is False that theres any statistically significant results\n",
            "For alpha=0.51%, it is False that theres any statistically significant results\n",
            "For alpha=0.52%, it is False that theres any statistically significant results\n",
            "For alpha=0.53%, it is False that theres any statistically significant results\n",
            "For alpha=0.54%, it is False that theres any statistically significant results\n",
            "For alpha=0.55%, it is False that theres any statistically significant results\n",
            "For alpha=0.56%, it is False that theres any statistically significant results\n",
            "For alpha=0.57%, it is False that theres any statistically significant results\n",
            "For alpha=0.58%, it is False that theres any statistically significant results\n",
            "For alpha=0.59%, it is False that theres any statistically significant results\n",
            "For alpha=0.60%, it is False that theres any statistically significant results\n",
            "For alpha=0.61%, it is False that theres any statistically significant results\n",
            "For alpha=0.62%, it is False that theres any statistically significant results\n",
            "For alpha=0.63%, it is False that theres any statistically significant results\n",
            "For alpha=0.64%, it is False that theres any statistically significant results\n",
            "For alpha=0.65%, it is False that theres any statistically significant results\n",
            "For alpha=0.66%, it is False that theres any statistically significant results\n",
            "For alpha=0.67%, it is False that theres any statistically significant results\n",
            "For alpha=0.68%, it is False that theres any statistically significant results\n",
            "For alpha=0.69%, it is False that theres any statistically significant results\n",
            "For alpha=0.70%, it is False that theres any statistically significant results\n",
            "For alpha=0.71%, it is False that theres any statistically significant results\n",
            "For alpha=0.72%, it is False that theres any statistically significant results\n",
            "For alpha=0.73%, it is False that theres any statistically significant results\n",
            "For alpha=0.74%, it is False that theres any statistically significant results\n",
            "For alpha=0.75%, it is False that theres any statistically significant results\n",
            "For alpha=0.76%, it is False that theres any statistically significant results\n",
            "For alpha=0.77%, it is False that theres any statistically significant results\n",
            "For alpha=0.78%, it is False that theres any statistically significant results\n",
            "For alpha=0.79%, it is False that theres any statistically significant results\n",
            "For alpha=0.80%, it is False that theres any statistically significant results\n",
            "For alpha=0.81%, it is False that theres any statistically significant results\n",
            "For alpha=0.82%, it is False that theres any statistically significant results\n",
            "For alpha=0.83%, it is False that theres any statistically significant results\n",
            "For alpha=0.84%, it is False that theres any statistically significant results\n",
            "For alpha=0.85%, it is False that theres any statistically significant results\n",
            "For alpha=0.86%, it is False that theres any statistically significant results\n",
            "For alpha=0.87%, it is False that theres any statistically significant results\n",
            "For alpha=0.88%, it is False that theres any statistically significant results\n",
            "For alpha=0.89%, it is False that theres any statistically significant results\n",
            "For alpha=0.90%, it is False that theres any statistically significant results\n",
            "For alpha=0.91%, it is False that theres any statistically significant results\n",
            "For alpha=0.92%, it is False that theres any statistically significant results\n",
            "For alpha=0.93%, it is False that theres any statistically significant results\n",
            "For alpha=0.94%, it is False that theres any statistically significant results\n",
            "For alpha=0.95%, it is False that theres any statistically significant results\n",
            "For alpha=0.96%, it is False that theres any statistically significant results\n",
            "For alpha=0.97%, it is False that theres any statistically significant results\n",
            "For alpha=0.98%, it is False that theres any statistically significant results\n",
            "For alpha=0.99%, it is False that theres any statistically significant results\n",
            "For alpha=1.00%, it is False that theres any statistically significant results\n",
            "For alpha=1.01%, it is False that theres any statistically significant results\n",
            "For alpha=1.02%, it is False that theres any statistically significant results\n",
            "For alpha=1.03%, it is False that theres any statistically significant results\n",
            "For alpha=1.04%, it is False that theres any statistically significant results\n",
            "For alpha=1.05%, it is False that theres any statistically significant results\n",
            "For alpha=1.06%, it is False that theres any statistically significant results\n",
            "For alpha=1.07%, it is False that theres any statistically significant results\n",
            "For alpha=1.08%, it is False that theres any statistically significant results\n",
            "For alpha=1.09%, it is False that theres any statistically significant results\n",
            "For alpha=1.10%, it is False that theres any statistically significant results\n",
            "For alpha=1.11%, it is False that theres any statistically significant results\n",
            "For alpha=1.12%, it is False that theres any statistically significant results\n",
            "For alpha=1.13%, it is False that theres any statistically significant results\n",
            "For alpha=1.14%, it is False that theres any statistically significant results\n",
            "For alpha=1.15%, it is False that theres any statistically significant results\n",
            "For alpha=1.16%, it is False that theres any statistically significant results\n",
            "For alpha=1.17%, it is False that theres any statistically significant results\n",
            "For alpha=1.18%, it is False that theres any statistically significant results\n",
            "For alpha=1.19%, it is False that theres any statistically significant results\n",
            "For alpha=1.20%, it is False that theres any statistically significant results\n",
            "For alpha=1.21%, it is False that theres any statistically significant results\n",
            "For alpha=1.22%, it is False that theres any statistically significant results\n",
            "For alpha=1.23%, it is False that theres any statistically significant results\n",
            "For alpha=1.24%, it is False that theres any statistically significant results\n",
            "For alpha=1.25%, it is False that theres any statistically significant results\n",
            "For alpha=1.26%, it is False that theres any statistically significant results\n",
            "For alpha=1.27%, it is False that theres any statistically significant results\n",
            "For alpha=1.28%, it is False that theres any statistically significant results\n",
            "For alpha=1.29%, it is False that theres any statistically significant results\n",
            "For alpha=1.30%, it is False that theres any statistically significant results\n",
            "For alpha=1.31%, it is False that theres any statistically significant results\n",
            "For alpha=1.32%, it is False that theres any statistically significant results\n",
            "For alpha=1.33%, it is False that theres any statistically significant results\n",
            "For alpha=1.34%, it is False that theres any statistically significant results\n",
            "For alpha=1.35%, it is False that theres any statistically significant results\n",
            "For alpha=1.36%, it is False that theres any statistically significant results\n",
            "For alpha=1.37%, it is False that theres any statistically significant results\n",
            "For alpha=1.38%, it is False that theres any statistically significant results\n",
            "For alpha=1.39%, it is False that theres any statistically significant results\n",
            "For alpha=1.40%, it is False that theres any statistically significant results\n",
            "For alpha=1.41%, it is False that theres any statistically significant results\n",
            "For alpha=1.42%, it is False that theres any statistically significant results\n",
            "For alpha=1.43%, it is False that theres any statistically significant results\n",
            "For alpha=1.44%, it is False that theres any statistically significant results\n",
            "For alpha=1.45%, it is False that theres any statistically significant results\n",
            "For alpha=1.46%, it is False that theres any statistically significant results\n",
            "For alpha=1.47%, it is False that theres any statistically significant results\n",
            "For alpha=1.48%, it is False that theres any statistically significant results\n",
            "For alpha=1.49%, it is False that theres any statistically significant results\n",
            "For alpha=1.50%, it is False that theres any statistically significant results\n",
            "For alpha=1.51%, it is False that theres any statistically significant results\n",
            "For alpha=1.52%, it is False that theres any statistically significant results\n",
            "For alpha=1.53%, it is False that theres any statistically significant results\n",
            "For alpha=1.54%, it is False that theres any statistically significant results\n",
            "For alpha=1.55%, it is False that theres any statistically significant results\n",
            "For alpha=1.56%, it is False that theres any statistically significant results\n",
            "For alpha=1.57%, it is False that theres any statistically significant results\n",
            "For alpha=1.58%, it is False that theres any statistically significant results\n",
            "For alpha=1.59%, it is False that theres any statistically significant results\n",
            "For alpha=1.60%, it is False that theres any statistically significant results\n",
            "For alpha=1.61%, it is False that theres any statistically significant results\n",
            "For alpha=1.62%, it is False that theres any statistically significant results\n",
            "For alpha=1.63%, it is False that theres any statistically significant results\n",
            "For alpha=1.64%, it is False that theres any statistically significant results\n",
            "For alpha=1.65%, it is False that theres any statistically significant results\n",
            "For alpha=1.66%, it is False that theres any statistically significant results\n",
            "For alpha=1.67%, it is False that theres any statistically significant results\n",
            "For alpha=1.68%, it is False that theres any statistically significant results\n",
            "For alpha=1.69%, it is False that theres any statistically significant results\n",
            "For alpha=1.70%, it is False that theres any statistically significant results\n",
            "For alpha=1.71%, it is False that theres any statistically significant results\n",
            "For alpha=1.72%, it is False that theres any statistically significant results\n",
            "For alpha=1.73%, it is False that theres any statistically significant results\n",
            "For alpha=1.74%, it is False that theres any statistically significant results\n",
            "For alpha=1.75%, it is False that theres any statistically significant results\n",
            "For alpha=1.76%, it is False that theres any statistically significant results\n",
            "For alpha=1.77%, it is False that theres any statistically significant results\n",
            "For alpha=1.78%, it is False that theres any statistically significant results\n",
            "For alpha=1.79%, it is False that theres any statistically significant results\n",
            "For alpha=1.80%, it is False that theres any statistically significant results\n",
            "For alpha=1.81%, it is False that theres any statistically significant results\n",
            "For alpha=1.82%, it is False that theres any statistically significant results\n",
            "For alpha=1.83%, it is False that theres any statistically significant results\n",
            "For alpha=1.84%, it is False that theres any statistically significant results\n",
            "For alpha=1.85%, it is False that theres any statistically significant results\n",
            "For alpha=1.86%, it is False that theres any statistically significant results\n",
            "For alpha=1.87%, it is False that theres any statistically significant results\n",
            "For alpha=1.88%, it is False that theres any statistically significant results\n",
            "For alpha=1.89%, it is False that theres any statistically significant results\n",
            "For alpha=1.90%, it is False that theres any statistically significant results\n",
            "For alpha=1.91%, it is False that theres any statistically significant results\n",
            "For alpha=1.92%, it is False that theres any statistically significant results\n",
            "For alpha=1.93%, it is False that theres any statistically significant results\n",
            "For alpha=1.94%, it is False that theres any statistically significant results\n",
            "For alpha=1.95%, it is False that theres any statistically significant results\n",
            "For alpha=1.96%, it is False that theres any statistically significant results\n",
            "For alpha=1.97%, it is False that theres any statistically significant results\n",
            "For alpha=1.98%, it is False that theres any statistically significant results\n",
            "For alpha=1.99%, it is False that theres any statistically significant results\n",
            "For alpha=2.00%, it is False that theres any statistically significant results\n",
            "For alpha=2.01%, it is False that theres any statistically significant results\n",
            "For alpha=2.02%, it is False that theres any statistically significant results\n",
            "For alpha=2.03%, it is False that theres any statistically significant results\n",
            "For alpha=2.04%, it is False that theres any statistically significant results\n",
            "For alpha=2.05%, it is False that theres any statistically significant results\n",
            "For alpha=2.06%, it is False that theres any statistically significant results\n",
            "For alpha=2.07%, it is False that theres any statistically significant results\n",
            "For alpha=2.08%, it is False that theres any statistically significant results\n",
            "For alpha=2.09%, it is False that theres any statistically significant results\n",
            "For alpha=2.10%, it is False that theres any statistically significant results\n",
            "For alpha=2.11%, it is False that theres any statistically significant results\n",
            "For alpha=2.12%, it is False that theres any statistically significant results\n",
            "For alpha=2.13%, it is False that theres any statistically significant results\n",
            "For alpha=2.14%, it is False that theres any statistically significant results\n",
            "For alpha=2.15%, it is False that theres any statistically significant results\n",
            "For alpha=2.16%, it is True that theres any statistically significant results\n"
          ]
        }
      ],
      "source": [
        "i = 0\n",
        "while ~is_significant(ks_001, ks_0001, i):\n",
        "    i += 0.01\n"
      ]
    },
    {
      "cell_type": "code",
      "execution_count": 35,
      "metadata": {},
      "outputs": [
        {
          "data": {
            "image/png": "[encoded data removed]",
            "text/plain": [
              "<Figure size 1200x400 with 2 Axes>"
            ]
          },
          "metadata": {},
          "output_type": "display_data"
        }
      ],
      "source": [
        "# Setting alpha to a new round number greater than the found\n",
        "alpha = 2.5 # in percent\n",
        "\n",
        "statsig001 = ks_001 < alpha\n",
        "rgbmap001 = np.zeros((*statsig001.shape, 3))\n",
        "rgbmap001[statsig001] = [1,0,0]\n",
        "rgbmap001[~statsig001] = [1,1,1]\n",
        "statsig0001 = ks_0001 <= alpha\n",
        "rgbmap0001 = np.zeros((*statsig001.shape, 3))\n",
        "rgbmap0001[statsig0001] = [1,0,0]\n",
        "rgbmap0001[~statsig0001] = [1,1,1]\n",
        "\n",
        "\n",
        "\n",
        "fig = plt.figure(figsize=(12, 4))\n",
        "gs = gridspec.GridSpec(1, 2)\n",
        "\n",
        "ax1 = fig.add_subplot(gs[0, 0])\n",
        "ax2 = fig.add_subplot(gs[0, 1])\n",
        "\n",
        "im1 = ax1.imshow(rgbmap001);\n",
        "ax1.set_title('m=0.01')\n",
        "im2 = ax2.imshow(rgbmap0001);\n",
        "ax2.set_title('m=0.001')\n",
        "\n",
        "# cbar_ax = fig.add_subplot(gs[0, 2])\n",
        "# fig.colorbar(im1, cax=cbar_ax)\n",
        "fig.suptitle(\"KS test results\");"
      ]
    },
    {
      "cell_type": "markdown",
      "metadata": {},
      "source": [
        "Caption: A plot of where the elements of a grid are colored based on whether or not the elements of the p-value matrix are below the alpha value. By increasing the alpha value to 2.5%, I was able to get a statistically significant result for the M>2.0 sample and M>2.5 sample. Therefore, this new alpha would find that the null hypothesis is rejected which is evidense that the two come from different distributions."
      ]
    },
    {
      "cell_type": "markdown",
      "metadata": {},
      "source": [
        "You're not allowed to change the alpha threshold once data is collected because this would allow you to post hoc devise an appropriate alpha to obtain the desired result. This is obviously unethical as it injects a conflict of interest into the process."
      ]
    },
    {
      "cell_type": "markdown",
      "metadata": {
        "id": "txEYubwCcIXP"
      },
      "source": [
        "Redoing it for threshold 0001"
      ]
    }
  ],
  "metadata": {
    "colab": {
      "provenance": []
    },
    "kernelspec": {
      "display_name": "Python 3",
      "language": "python",
      "name": "python3"
    },
    "language_info": {
      "codemirror_mode": {
        "name": "ipython",
        "version": 3
      },
      "file_extension": ".py",
      "mimetype": "text/x-python",
      "name": "python",
      "nbconvert_exporter": "python",
      "pygments_lexer": "ipython3",
      "version": "3.13.7"
    },
    "latex_envs": {
      "LaTeX_envs_menu_present": true,
      "autoclose": false,
      "autocomplete": true,
      "bibliofile": "biblio.bib",
      "cite_by": "apalike",
      "current_citInitial": 1,
      "eqLabelWithNumbers": true,
      "eqNumInitial": 1,
      "hotkeys": {
        "equation": "Ctrl-E",
        "itemize": "Ctrl-I"
      },
      "labels_anchors": false,
      "latex_user_defs": false,
      "report_style_numbering": false,
      "user_envs_cfg": false
    },
    "nbTranslate": {
      "displayLangs": [
        "*"
      ],
      "hotkey": "alt-t",
      "langInMainMenu": true,
      "sourceLang": "en",
      "targetLang": "fr",
      "useGoogleTranslate": true
    },
    "toc": {
      "base_numbering": 1,
      "nav_menu": {},
      "number_sections": true,
      "sideBar": true,
      "skip_h1_title": false,
      "title_cell": "Table of Contents",
      "title_sidebar": "Contents",
      "toc_cell": false,
      "toc_position": {},
      "toc_section_display": true,
      "toc_window_display": false
    }
  },
  "nbformat": 4,
  "nbformat_minor": 0
}
