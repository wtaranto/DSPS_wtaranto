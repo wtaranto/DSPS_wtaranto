{
  "cells": [
    {
      "cell_type": "markdown",
      "metadata": {
        "id": "oVVl2Ho8DMPP"
      },
      "source": [
        "# PROBABILITY AND COMBINATORIAL MATH\n",
        "# ANSWER ALL QUESTIONS BELOW"
      ]
    },
    {
      "cell_type": "code",
      "execution_count": 124,
      "metadata": {
        "id": "uLxenWwnvmQ2"
      },
      "outputs": [],
      "source": [
        "import numpy as np"
      ]
    },
    {
      "cell_type": "code",
      "execution_count": 125,
      "metadata": {
        "id": "YldnMu9Tv_xh"
      },
      "outputs": [
        {
          "name": "stdout",
          "output_type": "stream",
          "text": [
            "\n",
            "\n",
            "\u001b7\u001b[1A\u001b[1G\u001b[27G[Files: 0  Bytes: 0  [0 B/s] Re]\u001b8\u001b7\u001b[2A\u001b[1G\u001b[27G[https://raw.githubusercontent.]\u001b8\u001b7\u001b[1S\u001b[3A\u001b[1G\u001b[0JSaving 'checkanswers1.py.3'\n",
            "\u001b8\u001b7\u001b[2A\u001b[1Gcheckanswers1.py.3   100% [=============================>]     170     --.-KB/s\u001b8\u001b7\u001b[1S\u001b[3A\u001b[1G\u001b[0JHTTP response 200  [https://raw.githubusercontent.com/fedhere/DSPS_FBianco/refs/heads/main/.code/checkanswers1.py]\n",
            "\u001b8\u001b7\u001b[2A\u001b[1Gcheckanswers1.py.3   100% [=============================>]     170     --.-KB/s\u001b8\u001b7\u001b[1A\u001b[1G\u001b[27G[Files: 1  Bytes: 170  [1.39KB/]\u001b8\u001b[m\u001b[m\u001b[m\u001b[m"
          ]
        }
      ],
      "source": [
        "!wget https://raw.githubusercontent.com/fedhere/DSPS_FBianco/refs/heads/main/.code/checkanswers1.py"
      ]
    },
    {
      "cell_type": "code",
      "execution_count": 126,
      "metadata": {
        "id": "51ZbhBlJwD7Y"
      },
      "outputs": [],
      "source": [
        "from checkanswers1 import *"
      ]
    },
    {
      "cell_type": "markdown",
      "metadata": {
        "id": "lnXwG2X6vqQJ"
      },
      "source": [
        "# Independent"
      ]
    },
    {
      "cell_type": "markdown",
      "metadata": {
        "id": "pIa3AACMx17V"
      },
      "source": [
        "A and B are **indipendent** outcomes. Answer the following questions"
      ]
    },
    {
      "cell_type": "code",
      "execution_count": 127,
      "metadata": {
        "id": "RaHOb4l3vtOB"
      },
      "outputs": [],
      "source": [
        "P_A = 0.5\n",
        "P_B = 0.3"
      ]
    },
    {
      "cell_type": "markdown",
      "metadata": {
        "id": "k1w-aSQryEW0"
      },
      "source": [
        "**Q1: What is the intecept of P(A) and P(B) $P(A)\\cap P(B)$ (or P(A) AND P(B)**"
      ]
    },
    {
      "cell_type": "code",
      "execution_count": 128,
      "metadata": {
        "id": "p8Th4yiczTzX"
      },
      "outputs": [],
      "source": [
        "# fill in this cell\n",
        "P_A_intercept_B = 0"
      ]
    },
    {
      "cell_type": "markdown",
      "metadata": {
        "id": "-G_pD66L5D-N"
      },
      "source": [
        "Continue to assuming that A and B are independent.\n",
        "\n",
        "**Q2: what is the probability of getting either A OR B in a draw**"
      ]
    },
    {
      "cell_type": "code",
      "execution_count": 129,
      "metadata": {
        "id": "pgWW0AyOwrJx"
      },
      "outputs": [],
      "source": [
        "# fill in this cell with an equation using no hard coded numbers but the variables P_A and P_B\n",
        "P_A_or_B = P_A + P_B"
      ]
    },
    {
      "cell_type": "markdown",
      "metadata": {
        "id": "0zv5M1nny-7g"
      },
      "source": [
        "Continue to assuming that A and B are independent.\n",
        "\n",
        "**Q3: what is the probability of A AND B as the two outcomes of two independent draws**"
      ]
    },
    {
      "cell_type": "code",
      "execution_count": 130,
      "metadata": {
        "id": "rNYaOGD3vxv3"
      },
      "outputs": [],
      "source": [
        "# fill in this cell with an equation using no hard coded numbers but the variables P_A and P_B\n",
        "P_A_and_B = P_A * P_B"
      ]
    },
    {
      "cell_type": "markdown",
      "metadata": {
        "id": "BnV03j7_Byag"
      },
      "source": [
        "Continue to assuming A and B are independent.\n",
        "\n",
        "**Q4: what is the $P(A|B)$ probability of A GIVEN B (i.e. probability that given that I drew B first, now I will draw A)**"
      ]
    },
    {
      "cell_type": "code",
      "execution_count": 131,
      "metadata": {
        "id": "UhQ4hcmpCLGa"
      },
      "outputs": [],
      "source": [
        "# fill in this cell with an equation using no hard coded numbers but the variables P_A and P_B\n",
        "P_A_given_B = P_A"
      ]
    },
    {
      "cell_type": "code",
      "execution_count": 132,
      "metadata": {
        "colab": {
          "base_uri": "https://localhost:8080/"
        },
        "id": "XUQ4Gqohv2SC",
        "outputId": "30434b51-dbd0-4dca-befe-238ebd32970b"
      },
      "outputs": [
        {
          "name": "stdout",
          "output_type": "stream",
          "text": [
            "Q1 answer\n",
            "CORRECT\n",
            "\n",
            "Q2 answer\n",
            "CORRECT\n",
            "\n",
            "Q3 answer\n",
            "CORRECT\n",
            "\n",
            "Q4 answer\n",
            "CORRECT\n"
          ]
        }
      ],
      "source": [
        "#run this cell to see if you got the right answer\n",
        "print(\"Q1 answer\")\n",
        "check_independent_probAND(P_A_and_B)\n",
        "\n",
        "print(\"\\nQ2 answer\")\n",
        "check_independent_probOR(P_A_or_B)\n",
        "\n",
        "print(\"\\nQ3 answer\")\n",
        "check_independent_intersection(P_A_intercept_B)\n",
        "\n",
        "print(\"\\nQ4 answer\")\n",
        "check_independent_probGIVEN(P_A_given_B)"
      ]
    },
    {
      "cell_type": "markdown",
      "metadata": {
        "id": "_miZRCVj52n3"
      },
      "source": [
        "# Complement"
      ]
    },
    {
      "cell_type": "markdown",
      "metadata": {
        "id": "7nSOE2r-xHKZ"
      },
      "source": [
        "if AA is the complement of A (normally notiation is $\\bar{A}$)\n",
        "\n",
        "**Q5: what is the probability of A OR AA?**"
      ]
    },
    {
      "cell_type": "code",
      "execution_count": 133,
      "metadata": {
        "id": "1QZYBWM-wzoX"
      },
      "outputs": [],
      "source": [
        "P_A_or_AA = 1"
      ]
    },
    {
      "cell_type": "markdown",
      "metadata": {
        "id": "vA8o4WBADrnS"
      },
      "source": [
        "**Q5: what is the probability of A AND AA?**"
      ]
    },
    {
      "cell_type": "code",
      "execution_count": 134,
      "metadata": {
        "id": "hv3h9jkQDq9K"
      },
      "outputs": [],
      "source": [
        "P_A_and_AA = 0"
      ]
    },
    {
      "cell_type": "code",
      "execution_count": 135,
      "metadata": {
        "colab": {
          "base_uri": "https://localhost:8080/"
        },
        "collapsed": true,
        "id": "xWjxJyx8xjoJ",
        "outputId": "8665c882-065c-4213-d9d6-f4490ac71efb"
      },
      "outputs": [
        {
          "name": "stdout",
          "output_type": "stream",
          "text": [
            "CORRECT\n",
            "CORRECT\n"
          ]
        }
      ],
      "source": [
        "# run this cell\n",
        "check_complement_probOR(P_A_or_AA)\n",
        "check_complement_probAND(P_A_and_AA)"
      ]
    }
  ],
  "metadata": {
    "colab": {
      "provenance": []
    },
    "kernelspec": {
      "display_name": "Python 3",
      "name": "python3"
    },
    "language_info": {
      "codemirror_mode": {
        "name": "ipython",
        "version": 3
      },
      "file_extension": ".py",
      "mimetype": "text/x-python",
      "name": "python",
      "nbconvert_exporter": "python",
      "pygments_lexer": "ipython3",
      "version": "3.13.7"
    }
  },
  "nbformat": 4,
  "nbformat_minor": 0
}
